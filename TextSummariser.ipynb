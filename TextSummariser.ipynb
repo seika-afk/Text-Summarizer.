{
  "cells": [
    {
      "cell_type": "markdown",
      "metadata": {
        "id": "Gtdo7bzJ0JI2"
      },
      "source": [
        "# Reading Data"
      ]
    },
    {
      "cell_type": "code",
      "execution_count": 93,
      "metadata": {
        "colab": {
          "base_uri": "https://localhost:8080/"
        },
        "id": "eYHtRIam0Iq9",
        "outputId": "d3193582-4886-4895-d3cb-6aa0075ceb16"
      },
      "outputs": [
        {
          "output_type": "stream",
          "name": "stdout",
          "text": [
            "Downloading...\n",
            "From: https://drive.google.com/uc?id=1sui9RXxVsPDa4s2kooQwRGhb8taZhcgD\n",
            "To: /content/news_summary.csv\n",
            "100% 11.9M/11.9M [00:00<00:00, 52.2MB/s]\n",
            "Downloading...\n",
            "From: https://drive.google.com/uc?id=1H3gdo7SLBiWE_GGD6_xcdAp2wJJFcd5L\n",
            "To: /content/news_summary_more.csv\n",
            "100% 41.4M/41.4M [00:00<00:00, 150MB/s]\n"
          ]
        }
      ],
      "source": [
        "!gdown 1sui9RXxVsPDa4s2kooQwRGhb8taZhcgD\n",
        "!gdown 1H3gdo7SLBiWE_GGD6_xcdAp2wJJFcd5L"
      ]
    },
    {
      "cell_type": "code",
      "source": [
        "import shutil\n",
        "shutil.rmtree('/content/dataset')"
      ],
      "metadata": {
        "id": "K2dQNJCTuZSZ"
      },
      "execution_count": 95,
      "outputs": []
    },
    {
      "cell_type": "code",
      "source": [
        "import os\n",
        "\n",
        "os.makedirs('dataset')\n",
        "!mv /content/news_summary.csv dataset/"
      ],
      "metadata": {
        "id": "Kz_lrXdcjtg1"
      },
      "execution_count": 96,
      "outputs": []
    },
    {
      "cell_type": "code",
      "execution_count": 97,
      "metadata": {
        "id": "YotZ8_Et0c1F"
      },
      "outputs": [],
      "source": [
        "!mv /content/news_summary_more.csv dataset/"
      ]
    },
    {
      "cell_type": "code",
      "execution_count": 98,
      "metadata": {
        "id": "X2A8DMgr0hgy"
      },
      "outputs": [],
      "source": [
        "#import libs\n",
        "\n",
        "import pandas as pd\n",
        "import numpy as np\n",
        "import matplotlib.pyplot as plt\n",
        "import seaborn as sns\n"
      ]
    },
    {
      "cell_type": "code",
      "execution_count": 99,
      "metadata": {
        "id": "d9A9mk2w0pX3"
      },
      "outputs": [],
      "source": [
        "summary=pd.read_csv(\"/content/dataset/news_summary.csv\",encoding='iso-8859-1')\n",
        "raw=pd.read_csv(\"/content/dataset/news_summary_more.csv\",encoding='iso-8859-1')"
      ]
    },
    {
      "cell_type": "code",
      "execution_count": 100,
      "metadata": {
        "colab": {
          "base_uri": "https://localhost:8080/"
        },
        "id": "cmM_YrPy03-f",
        "outputId": "c333042d-ecee-4519-c95c-c8e71490f17f"
      },
      "outputs": [
        {
          "output_type": "execute_result",
          "data": {
            "text/plain": [
              "False"
            ]
          },
          "metadata": {},
          "execution_count": 100
        }
      ],
      "source": [
        "summary.shape==raw.shape"
      ]
    },
    {
      "cell_type": "code",
      "execution_count": 101,
      "metadata": {
        "colab": {
          "base_uri": "https://localhost:8080/"
        },
        "id": "y3AsQuIB06V0",
        "outputId": "334b2bc5-24ad-448f-b497-eba545af1826"
      },
      "outputs": [
        {
          "output_type": "execute_result",
          "data": {
            "text/plain": [
              "(4514, 6)"
            ]
          },
          "metadata": {},
          "execution_count": 101
        }
      ],
      "source": [
        "summary.shape"
      ]
    },
    {
      "cell_type": "code",
      "execution_count": 102,
      "metadata": {
        "colab": {
          "base_uri": "https://localhost:8080/"
        },
        "id": "YBYAV0M508Lg",
        "outputId": "3809736f-442b-44ef-eef0-9c5dd85dfe4a"
      },
      "outputs": [
        {
          "output_type": "execute_result",
          "data": {
            "text/plain": [
              "(98401, 2)"
            ]
          },
          "metadata": {},
          "execution_count": 102
        }
      ],
      "source": [
        "raw.shape #dayumn"
      ]
    },
    {
      "cell_type": "code",
      "execution_count": 103,
      "metadata": {
        "colab": {
          "base_uri": "https://localhost:8080/",
          "height": 590
        },
        "id": "kWpeNRbi09Bn",
        "outputId": "2cb443bb-5efe-48ef-c775-019bd8188d92"
      },
      "outputs": [
        {
          "output_type": "execute_result",
          "data": {
            "text/plain": [
              "               author                  date  \\\n",
              "0        Chhavi Tyagi  03 Aug 2017,Thursday   \n",
              "1         Daisy Mowke  03 Aug 2017,Thursday   \n",
              "2      Arshiya Chopra  03 Aug 2017,Thursday   \n",
              "3       Sumedha Sehra  03 Aug 2017,Thursday   \n",
              "4  Aarushi Maheshwari  03 Aug 2017,Thursday   \n",
              "\n",
              "                                           headlines  \\\n",
              "0  Daman & Diu revokes mandatory Rakshabandhan in...   \n",
              "1  Malaika slams user who trolled her for 'divorc...   \n",
              "2  'Virgin' now corrected to 'Unmarried' in IGIMS...   \n",
              "3  Aaj aapne pakad liya: LeT man Dujana before be...   \n",
              "4  Hotel staff to get training to spot signs of s...   \n",
              "\n",
              "                                           read_more  \\\n",
              "0  http://www.hindustantimes.com/india-news/raksh...   \n",
              "1  http://www.hindustantimes.com/bollywood/malaik...   \n",
              "2  http://www.hindustantimes.com/patna/bihar-igim...   \n",
              "3  http://indiatoday.intoday.in/story/abu-dujana-...   \n",
              "4  http://indiatoday.intoday.in/story/sex-traffic...   \n",
              "\n",
              "                                                text  \\\n",
              "0  The Administration of Union Territory Daman an...   \n",
              "1  Malaika Arora slammed an Instagram user who tr...   \n",
              "2  The Indira Gandhi Institute of Medical Science...   \n",
              "3  Lashkar-e-Taiba's Kashmir commander Abu Dujana...   \n",
              "4  Hotels in Maharashtra will train their staff t...   \n",
              "\n",
              "                                               ctext  \n",
              "0  The Daman and Diu administration on Wednesday ...  \n",
              "1  From her special numbers to TV?appearances, Bo...  \n",
              "2  The Indira Gandhi Institute of Medical Science...  \n",
              "3  Lashkar-e-Taiba's Kashmir commander Abu Dujana...  \n",
              "4  Hotels in Mumbai and other Indian cities are t...  "
            ],
            "text/html": [
              "\n",
              "  <div id=\"df-e5ed5875-cda6-4978-812d-3b8536484510\" class=\"colab-df-container\">\n",
              "    <div>\n",
              "<style scoped>\n",
              "    .dataframe tbody tr th:only-of-type {\n",
              "        vertical-align: middle;\n",
              "    }\n",
              "\n",
              "    .dataframe tbody tr th {\n",
              "        vertical-align: top;\n",
              "    }\n",
              "\n",
              "    .dataframe thead th {\n",
              "        text-align: right;\n",
              "    }\n",
              "</style>\n",
              "<table border=\"1\" class=\"dataframe\">\n",
              "  <thead>\n",
              "    <tr style=\"text-align: right;\">\n",
              "      <th></th>\n",
              "      <th>author</th>\n",
              "      <th>date</th>\n",
              "      <th>headlines</th>\n",
              "      <th>read_more</th>\n",
              "      <th>text</th>\n",
              "      <th>ctext</th>\n",
              "    </tr>\n",
              "  </thead>\n",
              "  <tbody>\n",
              "    <tr>\n",
              "      <th>0</th>\n",
              "      <td>Chhavi Tyagi</td>\n",
              "      <td>03 Aug 2017,Thursday</td>\n",
              "      <td>Daman &amp; Diu revokes mandatory Rakshabandhan in...</td>\n",
              "      <td>http://www.hindustantimes.com/india-news/raksh...</td>\n",
              "      <td>The Administration of Union Territory Daman an...</td>\n",
              "      <td>The Daman and Diu administration on Wednesday ...</td>\n",
              "    </tr>\n",
              "    <tr>\n",
              "      <th>1</th>\n",
              "      <td>Daisy Mowke</td>\n",
              "      <td>03 Aug 2017,Thursday</td>\n",
              "      <td>Malaika slams user who trolled her for 'divorc...</td>\n",
              "      <td>http://www.hindustantimes.com/bollywood/malaik...</td>\n",
              "      <td>Malaika Arora slammed an Instagram user who tr...</td>\n",
              "      <td>From her special numbers to TV?appearances, Bo...</td>\n",
              "    </tr>\n",
              "    <tr>\n",
              "      <th>2</th>\n",
              "      <td>Arshiya Chopra</td>\n",
              "      <td>03 Aug 2017,Thursday</td>\n",
              "      <td>'Virgin' now corrected to 'Unmarried' in IGIMS...</td>\n",
              "      <td>http://www.hindustantimes.com/patna/bihar-igim...</td>\n",
              "      <td>The Indira Gandhi Institute of Medical Science...</td>\n",
              "      <td>The Indira Gandhi Institute of Medical Science...</td>\n",
              "    </tr>\n",
              "    <tr>\n",
              "      <th>3</th>\n",
              "      <td>Sumedha Sehra</td>\n",
              "      <td>03 Aug 2017,Thursday</td>\n",
              "      <td>Aaj aapne pakad liya: LeT man Dujana before be...</td>\n",
              "      <td>http://indiatoday.intoday.in/story/abu-dujana-...</td>\n",
              "      <td>Lashkar-e-Taiba's Kashmir commander Abu Dujana...</td>\n",
              "      <td>Lashkar-e-Taiba's Kashmir commander Abu Dujana...</td>\n",
              "    </tr>\n",
              "    <tr>\n",
              "      <th>4</th>\n",
              "      <td>Aarushi Maheshwari</td>\n",
              "      <td>03 Aug 2017,Thursday</td>\n",
              "      <td>Hotel staff to get training to spot signs of s...</td>\n",
              "      <td>http://indiatoday.intoday.in/story/sex-traffic...</td>\n",
              "      <td>Hotels in Maharashtra will train their staff t...</td>\n",
              "      <td>Hotels in Mumbai and other Indian cities are t...</td>\n",
              "    </tr>\n",
              "  </tbody>\n",
              "</table>\n",
              "</div>\n",
              "    <div class=\"colab-df-buttons\">\n",
              "\n",
              "  <div class=\"colab-df-container\">\n",
              "    <button class=\"colab-df-convert\" onclick=\"convertToInteractive('df-e5ed5875-cda6-4978-812d-3b8536484510')\"\n",
              "            title=\"Convert this dataframe to an interactive table.\"\n",
              "            style=\"display:none;\">\n",
              "\n",
              "  <svg xmlns=\"http://www.w3.org/2000/svg\" height=\"24px\" viewBox=\"0 -960 960 960\">\n",
              "    <path d=\"M120-120v-720h720v720H120Zm60-500h600v-160H180v160Zm220 220h160v-160H400v160Zm0 220h160v-160H400v160ZM180-400h160v-160H180v160Zm440 0h160v-160H620v160ZM180-180h160v-160H180v160Zm440 0h160v-160H620v160Z\"/>\n",
              "  </svg>\n",
              "    </button>\n",
              "\n",
              "  <style>\n",
              "    .colab-df-container {\n",
              "      display:flex;\n",
              "      gap: 12px;\n",
              "    }\n",
              "\n",
              "    .colab-df-convert {\n",
              "      background-color: #E8F0FE;\n",
              "      border: none;\n",
              "      border-radius: 50%;\n",
              "      cursor: pointer;\n",
              "      display: none;\n",
              "      fill: #1967D2;\n",
              "      height: 32px;\n",
              "      padding: 0 0 0 0;\n",
              "      width: 32px;\n",
              "    }\n",
              "\n",
              "    .colab-df-convert:hover {\n",
              "      background-color: #E2EBFA;\n",
              "      box-shadow: 0px 1px 2px rgba(60, 64, 67, 0.3), 0px 1px 3px 1px rgba(60, 64, 67, 0.15);\n",
              "      fill: #174EA6;\n",
              "    }\n",
              "\n",
              "    .colab-df-buttons div {\n",
              "      margin-bottom: 4px;\n",
              "    }\n",
              "\n",
              "    [theme=dark] .colab-df-convert {\n",
              "      background-color: #3B4455;\n",
              "      fill: #D2E3FC;\n",
              "    }\n",
              "\n",
              "    [theme=dark] .colab-df-convert:hover {\n",
              "      background-color: #434B5C;\n",
              "      box-shadow: 0px 1px 3px 1px rgba(0, 0, 0, 0.15);\n",
              "      filter: drop-shadow(0px 1px 2px rgba(0, 0, 0, 0.3));\n",
              "      fill: #FFFFFF;\n",
              "    }\n",
              "  </style>\n",
              "\n",
              "    <script>\n",
              "      const buttonEl =\n",
              "        document.querySelector('#df-e5ed5875-cda6-4978-812d-3b8536484510 button.colab-df-convert');\n",
              "      buttonEl.style.display =\n",
              "        google.colab.kernel.accessAllowed ? 'block' : 'none';\n",
              "\n",
              "      async function convertToInteractive(key) {\n",
              "        const element = document.querySelector('#df-e5ed5875-cda6-4978-812d-3b8536484510');\n",
              "        const dataTable =\n",
              "          await google.colab.kernel.invokeFunction('convertToInteractive',\n",
              "                                                    [key], {});\n",
              "        if (!dataTable) return;\n",
              "\n",
              "        const docLinkHtml = 'Like what you see? Visit the ' +\n",
              "          '<a target=\"_blank\" href=https://colab.research.google.com/notebooks/data_table.ipynb>data table notebook</a>'\n",
              "          + ' to learn more about interactive tables.';\n",
              "        element.innerHTML = '';\n",
              "        dataTable['output_type'] = 'display_data';\n",
              "        await google.colab.output.renderOutput(dataTable, element);\n",
              "        const docLink = document.createElement('div');\n",
              "        docLink.innerHTML = docLinkHtml;\n",
              "        element.appendChild(docLink);\n",
              "      }\n",
              "    </script>\n",
              "  </div>\n",
              "\n",
              "\n",
              "    <div id=\"df-47209167-b496-4869-9410-e706336df44b\">\n",
              "      <button class=\"colab-df-quickchart\" onclick=\"quickchart('df-47209167-b496-4869-9410-e706336df44b')\"\n",
              "                title=\"Suggest charts\"\n",
              "                style=\"display:none;\">\n",
              "\n",
              "<svg xmlns=\"http://www.w3.org/2000/svg\" height=\"24px\"viewBox=\"0 0 24 24\"\n",
              "     width=\"24px\">\n",
              "    <g>\n",
              "        <path d=\"M19 3H5c-1.1 0-2 .9-2 2v14c0 1.1.9 2 2 2h14c1.1 0 2-.9 2-2V5c0-1.1-.9-2-2-2zM9 17H7v-7h2v7zm4 0h-2V7h2v10zm4 0h-2v-4h2v4z\"/>\n",
              "    </g>\n",
              "</svg>\n",
              "      </button>\n",
              "\n",
              "<style>\n",
              "  .colab-df-quickchart {\n",
              "      --bg-color: #E8F0FE;\n",
              "      --fill-color: #1967D2;\n",
              "      --hover-bg-color: #E2EBFA;\n",
              "      --hover-fill-color: #174EA6;\n",
              "      --disabled-fill-color: #AAA;\n",
              "      --disabled-bg-color: #DDD;\n",
              "  }\n",
              "\n",
              "  [theme=dark] .colab-df-quickchart {\n",
              "      --bg-color: #3B4455;\n",
              "      --fill-color: #D2E3FC;\n",
              "      --hover-bg-color: #434B5C;\n",
              "      --hover-fill-color: #FFFFFF;\n",
              "      --disabled-bg-color: #3B4455;\n",
              "      --disabled-fill-color: #666;\n",
              "  }\n",
              "\n",
              "  .colab-df-quickchart {\n",
              "    background-color: var(--bg-color);\n",
              "    border: none;\n",
              "    border-radius: 50%;\n",
              "    cursor: pointer;\n",
              "    display: none;\n",
              "    fill: var(--fill-color);\n",
              "    height: 32px;\n",
              "    padding: 0;\n",
              "    width: 32px;\n",
              "  }\n",
              "\n",
              "  .colab-df-quickchart:hover {\n",
              "    background-color: var(--hover-bg-color);\n",
              "    box-shadow: 0 1px 2px rgba(60, 64, 67, 0.3), 0 1px 3px 1px rgba(60, 64, 67, 0.15);\n",
              "    fill: var(--button-hover-fill-color);\n",
              "  }\n",
              "\n",
              "  .colab-df-quickchart-complete:disabled,\n",
              "  .colab-df-quickchart-complete:disabled:hover {\n",
              "    background-color: var(--disabled-bg-color);\n",
              "    fill: var(--disabled-fill-color);\n",
              "    box-shadow: none;\n",
              "  }\n",
              "\n",
              "  .colab-df-spinner {\n",
              "    border: 2px solid var(--fill-color);\n",
              "    border-color: transparent;\n",
              "    border-bottom-color: var(--fill-color);\n",
              "    animation:\n",
              "      spin 1s steps(1) infinite;\n",
              "  }\n",
              "\n",
              "  @keyframes spin {\n",
              "    0% {\n",
              "      border-color: transparent;\n",
              "      border-bottom-color: var(--fill-color);\n",
              "      border-left-color: var(--fill-color);\n",
              "    }\n",
              "    20% {\n",
              "      border-color: transparent;\n",
              "      border-left-color: var(--fill-color);\n",
              "      border-top-color: var(--fill-color);\n",
              "    }\n",
              "    30% {\n",
              "      border-color: transparent;\n",
              "      border-left-color: var(--fill-color);\n",
              "      border-top-color: var(--fill-color);\n",
              "      border-right-color: var(--fill-color);\n",
              "    }\n",
              "    40% {\n",
              "      border-color: transparent;\n",
              "      border-right-color: var(--fill-color);\n",
              "      border-top-color: var(--fill-color);\n",
              "    }\n",
              "    60% {\n",
              "      border-color: transparent;\n",
              "      border-right-color: var(--fill-color);\n",
              "    }\n",
              "    80% {\n",
              "      border-color: transparent;\n",
              "      border-right-color: var(--fill-color);\n",
              "      border-bottom-color: var(--fill-color);\n",
              "    }\n",
              "    90% {\n",
              "      border-color: transparent;\n",
              "      border-bottom-color: var(--fill-color);\n",
              "    }\n",
              "  }\n",
              "</style>\n",
              "\n",
              "      <script>\n",
              "        async function quickchart(key) {\n",
              "          const quickchartButtonEl =\n",
              "            document.querySelector('#' + key + ' button');\n",
              "          quickchartButtonEl.disabled = true;  // To prevent multiple clicks.\n",
              "          quickchartButtonEl.classList.add('colab-df-spinner');\n",
              "          try {\n",
              "            const charts = await google.colab.kernel.invokeFunction(\n",
              "                'suggestCharts', [key], {});\n",
              "          } catch (error) {\n",
              "            console.error('Error during call to suggestCharts:', error);\n",
              "          }\n",
              "          quickchartButtonEl.classList.remove('colab-df-spinner');\n",
              "          quickchartButtonEl.classList.add('colab-df-quickchart-complete');\n",
              "        }\n",
              "        (() => {\n",
              "          let quickchartButtonEl =\n",
              "            document.querySelector('#df-47209167-b496-4869-9410-e706336df44b button');\n",
              "          quickchartButtonEl.style.display =\n",
              "            google.colab.kernel.accessAllowed ? 'block' : 'none';\n",
              "        })();\n",
              "      </script>\n",
              "    </div>\n",
              "\n",
              "    </div>\n",
              "  </div>\n"
            ],
            "application/vnd.google.colaboratory.intrinsic+json": {
              "type": "dataframe",
              "variable_name": "summary",
              "summary": "{\n  \"name\": \"summary\",\n  \"rows\": 4514,\n  \"fields\": [\n    {\n      \"column\": \"author\",\n      \"properties\": {\n        \"dtype\": \"category\",\n        \"num_unique_values\": 45,\n        \"samples\": [\n          \"Animesh Choudhary\",\n          \"Swarnim Bagre\",\n          \"Rini Sinha\"\n        ],\n        \"semantic_type\": \"\",\n        \"description\": \"\"\n      }\n    },\n    {\n      \"column\": \"date\",\n      \"properties\": {\n        \"dtype\": \"object\",\n        \"num_unique_values\": 240,\n        \"samples\": [\n          \"16 Feb 2017,Thursday\",\n          \"28 Jul 2017,Friday\",\n          \"09 Dec 2016,Friday\"\n        ],\n        \"semantic_type\": \"\",\n        \"description\": \"\"\n      }\n    },\n    {\n      \"column\": \"headlines\",\n      \"properties\": {\n        \"dtype\": \"string\",\n        \"num_unique_values\": 4514,\n        \"samples\": [\n          \"South Delhi restaurants to allow public to use toilets at ?5\",\n          \"China bans Bieber from performing over bad behaviour\",\n          \"Pakistan accuses India of targeting CPEC\"\n        ],\n        \"semantic_type\": \"\",\n        \"description\": \"\"\n      }\n    },\n    {\n      \"column\": \"read_more\",\n      \"properties\": {\n        \"dtype\": \"string\",\n        \"num_unique_values\": 4461,\n        \"samples\": [\n          \"http://www.hindustantimes.com/india-news/rjd-leader-close-to-shahabuddin-shot-dead-in-bihar-s-siwan/story-nNJ50rMCX9KqxdBsfUv5VM.html?utm_source=inshorts&utm_medium=referral&utm_campaign=fullarticle \",\n          \"https://www.theguardian.com/business/2017/jul/17/primark-recalls-mens-flip-flops-after-carcinogenic-chemical-discovery?utm_source=inshorts&utm_medium=referral&utm_campaign=fullarticle \",\n          \"http://indiatoday.intoday.in/story/yogi-adityanath-inspired-menu-vegetarian-lucknow-hotel-ssj-international-charbagh-lifefd/1/925947.html \"\n        ],\n        \"semantic_type\": \"\",\n        \"description\": \"\"\n      }\n    },\n    {\n      \"column\": \"text\",\n      \"properties\": {\n        \"dtype\": \"string\",\n        \"num_unique_values\": 4514,\n        \"samples\": [\n          \"All restaurants, including five-star hotels, in South Delhi have been directed by a Delhi civic body to make their toilets available to general public, who are not customers, at a fee of ?5 starting April 1. \\\"The move will be particularly beneficial for women who face problems due to lack of toilets in marketplaces,\\\" the South Delhi Municipal Corporation said.\",\n          \"The Chinese government has banned singer Justin Bieber from performing in the country as he has \\\"engaged in a series of bad behaviours, both in his social life and during a previous performance in China\\\". Bieber will perform in Asia later this year, with concerts scheduled in countries like Indonesia, Japan and Singapore, as part of his Purpose World Tour.\",\n          \"Pakistan on Saturday accused India of targeting the China-Pakistan Economic Corridor (CPEC) project through subversive activities. Pakistan further said that it is aware of \\\"enemy designs\\\" and is taking effective counter measures. Notably, India which has repeatedly dismissed all such allegations has raised sovereignty concerns over the project as it passes through Pakistan-occupied Kashmir.\"\n        ],\n        \"semantic_type\": \"\",\n        \"description\": \"\"\n      }\n    },\n    {\n      \"column\": \"ctext\",\n      \"properties\": {\n        \"dtype\": \"string\",\n        \"num_unique_values\": 4341,\n        \"samples\": [\n          \"If you are a Samsung Galaxy Note fan, you were waiting to hear these words -- Note 7 will be sold in India. Despite all the bad whether it went through before being laid to the grave, Note 7 might come back from the dead; it has to if the company is to minimize losses and environmental penalties incurred in disposal of close to 3 million devices.Update: Samsung has denied that it has any plans to sell refurbished Galaxy Note 7 units in India. \\\"The report on Samsung planning to sell refurbished Galaxy Note 7 smartphone in India is incorrect,\\\" said a Samsung India spokesperson, without offering any other details.\\u00a0 Korean website Hankyung  reports the Galaxy Note 7 is due for a resurrection in select places -- Vietnam, India and probably South Korea. Samsung Electronics will finalise the designs by May this year and will go on sale in June (expected). Several changes will be made to the phone.Also Read:  Galaxy Note 7 exploded due to battery, confirms Samsung Samsung initially announced a recall of some 2.5 million Note 7 phones in September and identified the cause of the fire as a manufacturing process problem at one of its suppliers, but new Note 7s with what Samsung said were safe batteries from a different supplier continued to catch fire.But it was only after a complete recall and \\\"in-depth\\\" analysis of the cause did it make out that it was not the battery material, but the way the battery was shaped to fit in the chassis that caused the short circuit.Now, Samsung will be redesigning both the battery and the chassis. The battery is said to be of a lower capacity -- about 3000mAh, and if Samsung is redesigning the chassis, it might not support a dual curved screen. But it will be called refurbished and the price expected should be considerably cheaper.\",\n          \"The public works department (PWD) has cleared the proposal for the construction of a flyover over the erstwhile NH-58 near Raj Nagar Extension (RNE). After NH-58 was denotified as a highway last year, it was assigned as ?other district road? to the PWD as per a state government notification in June.Due to massive inflow of traffic on the Ghaziabad-Meerut Road (erstwhile NH-58), officials of the Ghaziabad Development Authority (GDA) had proposed the construction of a flyover and also altered the design, by making it a split-type flyover, as the regional rapid transit system (RRTS) corridor passes through the median of the road.?We have given clearance for the project to the GDA. They will have to prepare a service lane in the area and also have to take care of the piped gas line that passes through the area. They will make use of additional land in the vicinity and also remove encroachments. We also reviewed their traffic plan and have given them the permission after a thorough study,? said Manish Verma, executive engineer, PWD.?We also checked the RRTS alignment and had also asked them to take permission from the agency concerned. The clearance was given on a review of the traffic regulation plan and provision for the RRTS alignment. We are also planning to make the road a state highway and will send a proposal to the government. This is because the volume of traffic has remained the same despite the road being denotified as a highway,? he said.The proposed flyover, spanning 538 metres, is pegged at Rs50 crore and its design was changed from combined six-lane to three-lane (each side) split-type one. The middle portion between the two lanes will be used for the RRTS, which will come up on an elevated section, like the metro train system.The authority had proposed the flyover to decongest the city roads as a heavy volume of traffic is witnessed at the intersection.?The design for the flyover has been approved by the RRTS agency. The flyover design report is waiting to be vetted by IIT, Roorkee. The UP state bridge corporation is the construction agency. Once the design is vetted, the flyover construction can be started. We have received clearances from PWD for the project,? said Chakresh Jain, executive engineer, GDA.The authority has also proposed a flyover in Vasundhara, over the Link Road. Officials said that the proposed design is not in conflict with the RRTS alignment and pegged the cost at Rs50 crore.\",\n          \"New Delhi, Jun 30 (PTI) As India transits to a new era with rollout of GST, the government is leaving no stone unturned for a smooth switchover and has asked tax offices to convert into GST Seva-Kendras to provide all assistance to tax payers. While the rollout day of July 1 will be known as GST Day, all the offices of the Central Board of Excise and Customs (CBEC) have been instructed to be open on Saturday as a trade facilitation measure. This was to enable the availability of officers and staff for the benefit of trade and industry, an order issued by CBEC Special Secretary and Member S Ramesh said. \\\"Henceforth, all field offices from the Chief Commissioners office to the Range should serve as GST Seva- Kendras for effective trade facilitation,\\\" it said. Apart from giving guidance to GST assessees, GST Seva Kendras should render assistance to taxpayers in migration, registration as well as filing of returns. A guidance manual for such GST Seva Kendras too has been circulated to all offices in a bid to standardise quality taxpayer services. The order instructed such manuals to be prepared for each zone operating at different levels. \\\"This work may be done in a time-bound manner so as to be completed in next 2-3 days,\\\" Ramesh wrote. CBEC also asked for strengthening of the GST Seva-Kendras to enable them discharge their functions effectively and promptly. In the run-up to the GST rollout, CBEC had organised outreach programmes and training sessions for the new regime. \"\n        ],\n        \"semantic_type\": \"\",\n        \"description\": \"\"\n      }\n    }\n  ]\n}"
            }
          },
          "metadata": {},
          "execution_count": 103
        }
      ],
      "source": [
        "summary.head()"
      ]
    },
    {
      "cell_type": "code",
      "execution_count": 104,
      "metadata": {
        "colab": {
          "base_uri": "https://localhost:8080/",
          "height": 275
        },
        "id": "TnEeb9eh1EDp",
        "outputId": "bbf6ee8d-db87-4ba3-ca13-5129b6e30f52"
      },
      "outputs": [
        {
          "output_type": "execute_result",
          "data": {
            "text/plain": [
              "                                           headlines  \\\n",
              "0  upGrad learner switches to career in ML & Al w...   \n",
              "1  Delhi techie wins free food from Swiggy for on...   \n",
              "2  New Zealand end Rohit Sharma-led India's 12-ma...   \n",
              "3  Aegon life iTerm insurance plan helps customer...   \n",
              "4  Have known Hirani for yrs, what if MeToo claim...   \n",
              "\n",
              "                                                text  \n",
              "0  Saurav Kant, an alumnus of upGrad and IIIT-B's...  \n",
              "1  Kunal Shah's credit card bill payment platform...  \n",
              "2  New Zealand defeated India by 8 wickets in the...  \n",
              "3  With Aegon Life iTerm Insurance plan, customer...  \n",
              "4  Speaking about the sexual harassment allegatio...  "
            ],
            "text/html": [
              "\n",
              "  <div id=\"df-d9bf4e51-c211-41ee-9339-b26f544d50d2\" class=\"colab-df-container\">\n",
              "    <div>\n",
              "<style scoped>\n",
              "    .dataframe tbody tr th:only-of-type {\n",
              "        vertical-align: middle;\n",
              "    }\n",
              "\n",
              "    .dataframe tbody tr th {\n",
              "        vertical-align: top;\n",
              "    }\n",
              "\n",
              "    .dataframe thead th {\n",
              "        text-align: right;\n",
              "    }\n",
              "</style>\n",
              "<table border=\"1\" class=\"dataframe\">\n",
              "  <thead>\n",
              "    <tr style=\"text-align: right;\">\n",
              "      <th></th>\n",
              "      <th>headlines</th>\n",
              "      <th>text</th>\n",
              "    </tr>\n",
              "  </thead>\n",
              "  <tbody>\n",
              "    <tr>\n",
              "      <th>0</th>\n",
              "      <td>upGrad learner switches to career in ML &amp; Al w...</td>\n",
              "      <td>Saurav Kant, an alumnus of upGrad and IIIT-B's...</td>\n",
              "    </tr>\n",
              "    <tr>\n",
              "      <th>1</th>\n",
              "      <td>Delhi techie wins free food from Swiggy for on...</td>\n",
              "      <td>Kunal Shah's credit card bill payment platform...</td>\n",
              "    </tr>\n",
              "    <tr>\n",
              "      <th>2</th>\n",
              "      <td>New Zealand end Rohit Sharma-led India's 12-ma...</td>\n",
              "      <td>New Zealand defeated India by 8 wickets in the...</td>\n",
              "    </tr>\n",
              "    <tr>\n",
              "      <th>3</th>\n",
              "      <td>Aegon life iTerm insurance plan helps customer...</td>\n",
              "      <td>With Aegon Life iTerm Insurance plan, customer...</td>\n",
              "    </tr>\n",
              "    <tr>\n",
              "      <th>4</th>\n",
              "      <td>Have known Hirani for yrs, what if MeToo claim...</td>\n",
              "      <td>Speaking about the sexual harassment allegatio...</td>\n",
              "    </tr>\n",
              "  </tbody>\n",
              "</table>\n",
              "</div>\n",
              "    <div class=\"colab-df-buttons\">\n",
              "\n",
              "  <div class=\"colab-df-container\">\n",
              "    <button class=\"colab-df-convert\" onclick=\"convertToInteractive('df-d9bf4e51-c211-41ee-9339-b26f544d50d2')\"\n",
              "            title=\"Convert this dataframe to an interactive table.\"\n",
              "            style=\"display:none;\">\n",
              "\n",
              "  <svg xmlns=\"http://www.w3.org/2000/svg\" height=\"24px\" viewBox=\"0 -960 960 960\">\n",
              "    <path d=\"M120-120v-720h720v720H120Zm60-500h600v-160H180v160Zm220 220h160v-160H400v160Zm0 220h160v-160H400v160ZM180-400h160v-160H180v160Zm440 0h160v-160H620v160ZM180-180h160v-160H180v160Zm440 0h160v-160H620v160Z\"/>\n",
              "  </svg>\n",
              "    </button>\n",
              "\n",
              "  <style>\n",
              "    .colab-df-container {\n",
              "      display:flex;\n",
              "      gap: 12px;\n",
              "    }\n",
              "\n",
              "    .colab-df-convert {\n",
              "      background-color: #E8F0FE;\n",
              "      border: none;\n",
              "      border-radius: 50%;\n",
              "      cursor: pointer;\n",
              "      display: none;\n",
              "      fill: #1967D2;\n",
              "      height: 32px;\n",
              "      padding: 0 0 0 0;\n",
              "      width: 32px;\n",
              "    }\n",
              "\n",
              "    .colab-df-convert:hover {\n",
              "      background-color: #E2EBFA;\n",
              "      box-shadow: 0px 1px 2px rgba(60, 64, 67, 0.3), 0px 1px 3px 1px rgba(60, 64, 67, 0.15);\n",
              "      fill: #174EA6;\n",
              "    }\n",
              "\n",
              "    .colab-df-buttons div {\n",
              "      margin-bottom: 4px;\n",
              "    }\n",
              "\n",
              "    [theme=dark] .colab-df-convert {\n",
              "      background-color: #3B4455;\n",
              "      fill: #D2E3FC;\n",
              "    }\n",
              "\n",
              "    [theme=dark] .colab-df-convert:hover {\n",
              "      background-color: #434B5C;\n",
              "      box-shadow: 0px 1px 3px 1px rgba(0, 0, 0, 0.15);\n",
              "      filter: drop-shadow(0px 1px 2px rgba(0, 0, 0, 0.3));\n",
              "      fill: #FFFFFF;\n",
              "    }\n",
              "  </style>\n",
              "\n",
              "    <script>\n",
              "      const buttonEl =\n",
              "        document.querySelector('#df-d9bf4e51-c211-41ee-9339-b26f544d50d2 button.colab-df-convert');\n",
              "      buttonEl.style.display =\n",
              "        google.colab.kernel.accessAllowed ? 'block' : 'none';\n",
              "\n",
              "      async function convertToInteractive(key) {\n",
              "        const element = document.querySelector('#df-d9bf4e51-c211-41ee-9339-b26f544d50d2');\n",
              "        const dataTable =\n",
              "          await google.colab.kernel.invokeFunction('convertToInteractive',\n",
              "                                                    [key], {});\n",
              "        if (!dataTable) return;\n",
              "\n",
              "        const docLinkHtml = 'Like what you see? Visit the ' +\n",
              "          '<a target=\"_blank\" href=https://colab.research.google.com/notebooks/data_table.ipynb>data table notebook</a>'\n",
              "          + ' to learn more about interactive tables.';\n",
              "        element.innerHTML = '';\n",
              "        dataTable['output_type'] = 'display_data';\n",
              "        await google.colab.output.renderOutput(dataTable, element);\n",
              "        const docLink = document.createElement('div');\n",
              "        docLink.innerHTML = docLinkHtml;\n",
              "        element.appendChild(docLink);\n",
              "      }\n",
              "    </script>\n",
              "  </div>\n",
              "\n",
              "\n",
              "    <div id=\"df-8f4330a3-5fa8-4e69-879d-bfbdd27b489a\">\n",
              "      <button class=\"colab-df-quickchart\" onclick=\"quickchart('df-8f4330a3-5fa8-4e69-879d-bfbdd27b489a')\"\n",
              "                title=\"Suggest charts\"\n",
              "                style=\"display:none;\">\n",
              "\n",
              "<svg xmlns=\"http://www.w3.org/2000/svg\" height=\"24px\"viewBox=\"0 0 24 24\"\n",
              "     width=\"24px\">\n",
              "    <g>\n",
              "        <path d=\"M19 3H5c-1.1 0-2 .9-2 2v14c0 1.1.9 2 2 2h14c1.1 0 2-.9 2-2V5c0-1.1-.9-2-2-2zM9 17H7v-7h2v7zm4 0h-2V7h2v10zm4 0h-2v-4h2v4z\"/>\n",
              "    </g>\n",
              "</svg>\n",
              "      </button>\n",
              "\n",
              "<style>\n",
              "  .colab-df-quickchart {\n",
              "      --bg-color: #E8F0FE;\n",
              "      --fill-color: #1967D2;\n",
              "      --hover-bg-color: #E2EBFA;\n",
              "      --hover-fill-color: #174EA6;\n",
              "      --disabled-fill-color: #AAA;\n",
              "      --disabled-bg-color: #DDD;\n",
              "  }\n",
              "\n",
              "  [theme=dark] .colab-df-quickchart {\n",
              "      --bg-color: #3B4455;\n",
              "      --fill-color: #D2E3FC;\n",
              "      --hover-bg-color: #434B5C;\n",
              "      --hover-fill-color: #FFFFFF;\n",
              "      --disabled-bg-color: #3B4455;\n",
              "      --disabled-fill-color: #666;\n",
              "  }\n",
              "\n",
              "  .colab-df-quickchart {\n",
              "    background-color: var(--bg-color);\n",
              "    border: none;\n",
              "    border-radius: 50%;\n",
              "    cursor: pointer;\n",
              "    display: none;\n",
              "    fill: var(--fill-color);\n",
              "    height: 32px;\n",
              "    padding: 0;\n",
              "    width: 32px;\n",
              "  }\n",
              "\n",
              "  .colab-df-quickchart:hover {\n",
              "    background-color: var(--hover-bg-color);\n",
              "    box-shadow: 0 1px 2px rgba(60, 64, 67, 0.3), 0 1px 3px 1px rgba(60, 64, 67, 0.15);\n",
              "    fill: var(--button-hover-fill-color);\n",
              "  }\n",
              "\n",
              "  .colab-df-quickchart-complete:disabled,\n",
              "  .colab-df-quickchart-complete:disabled:hover {\n",
              "    background-color: var(--disabled-bg-color);\n",
              "    fill: var(--disabled-fill-color);\n",
              "    box-shadow: none;\n",
              "  }\n",
              "\n",
              "  .colab-df-spinner {\n",
              "    border: 2px solid var(--fill-color);\n",
              "    border-color: transparent;\n",
              "    border-bottom-color: var(--fill-color);\n",
              "    animation:\n",
              "      spin 1s steps(1) infinite;\n",
              "  }\n",
              "\n",
              "  @keyframes spin {\n",
              "    0% {\n",
              "      border-color: transparent;\n",
              "      border-bottom-color: var(--fill-color);\n",
              "      border-left-color: var(--fill-color);\n",
              "    }\n",
              "    20% {\n",
              "      border-color: transparent;\n",
              "      border-left-color: var(--fill-color);\n",
              "      border-top-color: var(--fill-color);\n",
              "    }\n",
              "    30% {\n",
              "      border-color: transparent;\n",
              "      border-left-color: var(--fill-color);\n",
              "      border-top-color: var(--fill-color);\n",
              "      border-right-color: var(--fill-color);\n",
              "    }\n",
              "    40% {\n",
              "      border-color: transparent;\n",
              "      border-right-color: var(--fill-color);\n",
              "      border-top-color: var(--fill-color);\n",
              "    }\n",
              "    60% {\n",
              "      border-color: transparent;\n",
              "      border-right-color: var(--fill-color);\n",
              "    }\n",
              "    80% {\n",
              "      border-color: transparent;\n",
              "      border-right-color: var(--fill-color);\n",
              "      border-bottom-color: var(--fill-color);\n",
              "    }\n",
              "    90% {\n",
              "      border-color: transparent;\n",
              "      border-bottom-color: var(--fill-color);\n",
              "    }\n",
              "  }\n",
              "</style>\n",
              "\n",
              "      <script>\n",
              "        async function quickchart(key) {\n",
              "          const quickchartButtonEl =\n",
              "            document.querySelector('#' + key + ' button');\n",
              "          quickchartButtonEl.disabled = true;  // To prevent multiple clicks.\n",
              "          quickchartButtonEl.classList.add('colab-df-spinner');\n",
              "          try {\n",
              "            const charts = await google.colab.kernel.invokeFunction(\n",
              "                'suggestCharts', [key], {});\n",
              "          } catch (error) {\n",
              "            console.error('Error during call to suggestCharts:', error);\n",
              "          }\n",
              "          quickchartButtonEl.classList.remove('colab-df-spinner');\n",
              "          quickchartButtonEl.classList.add('colab-df-quickchart-complete');\n",
              "        }\n",
              "        (() => {\n",
              "          let quickchartButtonEl =\n",
              "            document.querySelector('#df-8f4330a3-5fa8-4e69-879d-bfbdd27b489a button');\n",
              "          quickchartButtonEl.style.display =\n",
              "            google.colab.kernel.accessAllowed ? 'block' : 'none';\n",
              "        })();\n",
              "      </script>\n",
              "    </div>\n",
              "\n",
              "    </div>\n",
              "  </div>\n"
            ],
            "application/vnd.google.colaboratory.intrinsic+json": {
              "type": "dataframe",
              "variable_name": "raw",
              "summary": "{\n  \"name\": \"raw\",\n  \"rows\": 98401,\n  \"fields\": [\n    {\n      \"column\": \"headlines\",\n      \"properties\": {\n        \"dtype\": \"string\",\n        \"num_unique_values\": 98280,\n        \"samples\": [\n          \"Salman Khan asked to appear before court in Arms Act case\",\n          \"Man who beat Federer at Wimbledon once lost to AB de Villiers\",\n          \"Alwar lynching victim died of 'shock': Post-mortem report\"\n        ],\n        \"semantic_type\": \"\",\n        \"description\": \"\"\n      }\n    },\n    {\n      \"column\": \"text\",\n      \"properties\": {\n        \"dtype\": \"string\",\n        \"num_unique_values\": 98360,\n        \"samples\": [\n          \"Digital payments startup Paytm has raised $1.4 billion from SoftBank in India's largest funding round. This is also SoftBank's biggest investment in the Indian startup ecosystem till date. The latest investment by SoftBank will value Paytm at around $8 billion, up from its valuation of $4.8 billion in August 2016. \",\n          \"Oil companies on Thursday reduced the petrol price by \\u00c3\\u00a2\\u00c2\\u0082\\u00c2\\u00b91.12/litre and diesel by \\u00c3\\u00a2\\u00c2\\u0082\\u00c2\\u00b91.24/litre effective June 16. This is the first cut in prices following the decision to revise fuel prices daily and the revision shall be applicable from 6 AM to 6 AM the next day. Customers can know the revised prices through social media posts and 'Fuel@IOC' app.\",\n          \"The Indian Army has announced plans to deploy women officers for cyber warfare as they face cybersecurity threats from both state and non-state actors. In order to increase the number of female officers and provide them more opportunities, the Army is also planning to hire 850 of women in the military police branch and some in the language training branch.\"\n        ],\n        \"semantic_type\": \"\",\n        \"description\": \"\"\n      }\n    }\n  ]\n}"
            }
          },
          "metadata": {},
          "execution_count": 104
        }
      ],
      "source": [
        "raw.head()"
      ]
    },
    {
      "cell_type": "code",
      "execution_count": 105,
      "metadata": {
        "colab": {
          "base_uri": "https://localhost:8080/",
          "height": 384
        },
        "id": "zeev9bnF1N7N",
        "outputId": "c3314c05-ea29-4093-8dc5-8d3eddb9928d"
      },
      "outputs": [
        {
          "output_type": "display_data",
          "data": {
            "text/plain": [
              "<Figure size 1000x500 with 1 Axes>"
            ],
            "image/png": "[encoded data removed]"
          },
          "metadata": {}
        }
      ],
      "source": [
        "\n",
        "from wordcloud import WordCloud\n",
        "import matplotlib.pyplot as plt\n",
        "\n",
        "all_text = \" \".join(raw['text'].dropna())\n",
        "wordcloud = WordCloud(width=800, height=400, background_color='white').generate(all_text)\n",
        "\n",
        "\n",
        "plt.figure(figsize=(10, 5))\n",
        "plt.imshow(wordcloud, interpolation='bilinear')\n",
        "plt.axis(\"off\")\n",
        "plt.show()"
      ]
    },
    {
      "cell_type": "code",
      "execution_count": 106,
      "metadata": {
        "id": "dfsL6aOT1Frs"
      },
      "outputs": [],
      "source": [
        "df=pd.concat([raw,summary]).reset_index(drop=True)#vertical concatination"
      ]
    },
    {
      "cell_type": "code",
      "execution_count": 107,
      "metadata": {
        "colab": {
          "base_uri": "https://localhost:8080/",
          "height": 1000
        },
        "id": "gm1V7gkz3jWs",
        "outputId": "45212ef8-8ca6-4b15-d023-e2a8c31425f5"
      },
      "outputs": [
        {
          "output_type": "execute_result",
          "data": {
            "text/plain": [
              "                                                headlines  \\\n",
              "0       upGrad learner switches to career in ML & Al w...   \n",
              "1       Delhi techie wins free food from Swiggy for on...   \n",
              "2       New Zealand end Rohit Sharma-led India's 12-ma...   \n",
              "3       Aegon life iTerm insurance plan helps customer...   \n",
              "4       Have known Hirani for yrs, what if MeToo claim...   \n",
              "...                                                   ...   \n",
              "102910  Rasna seeking ?250 cr revenue from snack categ...   \n",
              "102911  Sachin attends Rajya Sabha after questions on ...   \n",
              "102912  Shouldn't rob their childhood: Aamir on kids r...   \n",
              "102913  Asha Bhosle gets ?53,000 power bill for unused...   \n",
              "102914  More than half of India's languages may die in...   \n",
              "\n",
              "                                                     text          author  \\\n",
              "0       Saurav Kant, an alumnus of upGrad and IIIT-B's...             NaN   \n",
              "1       Kunal Shah's credit card bill payment platform...             NaN   \n",
              "2       New Zealand defeated India by 8 wickets in the...             NaN   \n",
              "3       With Aegon Life iTerm Insurance plan, customer...             NaN   \n",
              "4       Speaking about the sexual harassment allegatio...             NaN   \n",
              "...                                                   ...             ...   \n",
              "102910  Fruit juice concentrate maker Rasna is eyeing ...  Mansha Mahajan   \n",
              "102911  Former Indian cricketer Sachin Tendulkar atten...  Dishant Sharma   \n",
              "102912  Aamir Khan, while talking about reality shows ...   Tanya Dhingra   \n",
              "102913  The Maharashtra government has initiated an in...  Pragya Swastik   \n",
              "102914  At least 400 languages or more than half langu...    Chhavi Tyagi   \n",
              "\n",
              "                         date  \\\n",
              "0                         NaN   \n",
              "1                         NaN   \n",
              "2                         NaN   \n",
              "3                         NaN   \n",
              "4                         NaN   \n",
              "...                       ...   \n",
              "102910     24 Feb 2017,Friday   \n",
              "102911   03 Aug 2017,Thursday   \n",
              "102912   03 Aug 2017,Thursday   \n",
              "102913  07 Dec 2016,Wednesday   \n",
              "102914   03 Aug 2017,Thursday   \n",
              "\n",
              "                                                read_more  \\\n",
              "0                                                     NaN   \n",
              "1                                                     NaN   \n",
              "2                                                     NaN   \n",
              "3                                                     NaN   \n",
              "4                                                     NaN   \n",
              "...                                                   ...   \n",
              "102910  http://indiatoday.intoday.in/story/rasna-eyes-...   \n",
              "102911  http://indiatoday.intoday.in/story/sachin-tend...   \n",
              "102912  http://www.hindustantimes.com/bollywood/secret...   \n",
              "102913  http://indiatoday.intoday.in/story/singer-asha...   \n",
              "102914  http://indiatoday.intoday.in/story/indian-lang...   \n",
              "\n",
              "                                                    ctext  \n",
              "0                                                     NaN  \n",
              "1                                                     NaN  \n",
              "2                                                     NaN  \n",
              "3                                                     NaN  \n",
              "4                                                     NaN  \n",
              "...                                                   ...  \n",
              "102910  Mumbai, Feb 23 (PTI) Fruit juice concentrate m...  \n",
              "102911  Former cricketer Sachin Tendulkar was spotted ...  \n",
              "102912  Aamir Khan, whose last film Dangal told the st...  \n",
              "102913  Maharahstra Power Minister Chandrashekhar Bawa...  \n",
              "102914  More than half of the languages spoken by Indi...  \n",
              "\n",
              "[102915 rows x 6 columns]"
            ],
            "text/html": [
              "\n",
              "  <div id=\"df-280f510a-a7ef-453b-8e59-b9157d092c31\" class=\"colab-df-container\">\n",
              "    <div>\n",
              "<style scoped>\n",
              "    .dataframe tbody tr th:only-of-type {\n",
              "        vertical-align: middle;\n",
              "    }\n",
              "\n",
              "    .dataframe tbody tr th {\n",
              "        vertical-align: top;\n",
              "    }\n",
              "\n",
              "    .dataframe thead th {\n",
              "        text-align: right;\n",
              "    }\n",
              "</style>\n",
              "<table border=\"1\" class=\"dataframe\">\n",
              "  <thead>\n",
              "    <tr style=\"text-align: right;\">\n",
              "      <th></th>\n",
              "      <th>headlines</th>\n",
              "      <th>text</th>\n",
              "      <th>author</th>\n",
              "      <th>date</th>\n",
              "      <th>read_more</th>\n",
              "      <th>ctext</th>\n",
              "    </tr>\n",
              "  </thead>\n",
              "  <tbody>\n",
              "    <tr>\n",
              "      <th>0</th>\n",
              "      <td>upGrad learner switches to career in ML &amp; Al w...</td>\n",
              "      <td>Saurav Kant, an alumnus of upGrad and IIIT-B's...</td>\n",
              "      <td>NaN</td>\n",
              "      <td>NaN</td>\n",
              "      <td>NaN</td>\n",
              "      <td>NaN</td>\n",
              "    </tr>\n",
              "    <tr>\n",
              "      <th>1</th>\n",
              "      <td>Delhi techie wins free food from Swiggy for on...</td>\n",
              "      <td>Kunal Shah's credit card bill payment platform...</td>\n",
              "      <td>NaN</td>\n",
              "      <td>NaN</td>\n",
              "      <td>NaN</td>\n",
              "      <td>NaN</td>\n",
              "    </tr>\n",
              "    <tr>\n",
              "      <th>2</th>\n",
              "      <td>New Zealand end Rohit Sharma-led India's 12-ma...</td>\n",
              "      <td>New Zealand defeated India by 8 wickets in the...</td>\n",
              "      <td>NaN</td>\n",
              "      <td>NaN</td>\n",
              "      <td>NaN</td>\n",
              "      <td>NaN</td>\n",
              "    </tr>\n",
              "    <tr>\n",
              "      <th>3</th>\n",
              "      <td>Aegon life iTerm insurance plan helps customer...</td>\n",
              "      <td>With Aegon Life iTerm Insurance plan, customer...</td>\n",
              "      <td>NaN</td>\n",
              "      <td>NaN</td>\n",
              "      <td>NaN</td>\n",
              "      <td>NaN</td>\n",
              "    </tr>\n",
              "    <tr>\n",
              "      <th>4</th>\n",
              "      <td>Have known Hirani for yrs, what if MeToo claim...</td>\n",
              "      <td>Speaking about the sexual harassment allegatio...</td>\n",
              "      <td>NaN</td>\n",
              "      <td>NaN</td>\n",
              "      <td>NaN</td>\n",
              "      <td>NaN</td>\n",
              "    </tr>\n",
              "    <tr>\n",
              "      <th>...</th>\n",
              "      <td>...</td>\n",
              "      <td>...</td>\n",
              "      <td>...</td>\n",
              "      <td>...</td>\n",
              "      <td>...</td>\n",
              "      <td>...</td>\n",
              "    </tr>\n",
              "    <tr>\n",
              "      <th>102910</th>\n",
              "      <td>Rasna seeking ?250 cr revenue from snack categ...</td>\n",
              "      <td>Fruit juice concentrate maker Rasna is eyeing ...</td>\n",
              "      <td>Mansha Mahajan</td>\n",
              "      <td>24 Feb 2017,Friday</td>\n",
              "      <td>http://indiatoday.intoday.in/story/rasna-eyes-...</td>\n",
              "      <td>Mumbai, Feb 23 (PTI) Fruit juice concentrate m...</td>\n",
              "    </tr>\n",
              "    <tr>\n",
              "      <th>102911</th>\n",
              "      <td>Sachin attends Rajya Sabha after questions on ...</td>\n",
              "      <td>Former Indian cricketer Sachin Tendulkar atten...</td>\n",
              "      <td>Dishant Sharma</td>\n",
              "      <td>03 Aug 2017,Thursday</td>\n",
              "      <td>http://indiatoday.intoday.in/story/sachin-tend...</td>\n",
              "      <td>Former cricketer Sachin Tendulkar was spotted ...</td>\n",
              "    </tr>\n",
              "    <tr>\n",
              "      <th>102912</th>\n",
              "      <td>Shouldn't rob their childhood: Aamir on kids r...</td>\n",
              "      <td>Aamir Khan, while talking about reality shows ...</td>\n",
              "      <td>Tanya Dhingra</td>\n",
              "      <td>03 Aug 2017,Thursday</td>\n",
              "      <td>http://www.hindustantimes.com/bollywood/secret...</td>\n",
              "      <td>Aamir Khan, whose last film Dangal told the st...</td>\n",
              "    </tr>\n",
              "    <tr>\n",
              "      <th>102913</th>\n",
              "      <td>Asha Bhosle gets ?53,000 power bill for unused...</td>\n",
              "      <td>The Maharashtra government has initiated an in...</td>\n",
              "      <td>Pragya Swastik</td>\n",
              "      <td>07 Dec 2016,Wednesday</td>\n",
              "      <td>http://indiatoday.intoday.in/story/singer-asha...</td>\n",
              "      <td>Maharahstra Power Minister Chandrashekhar Bawa...</td>\n",
              "    </tr>\n",
              "    <tr>\n",
              "      <th>102914</th>\n",
              "      <td>More than half of India's languages may die in...</td>\n",
              "      <td>At least 400 languages or more than half langu...</td>\n",
              "      <td>Chhavi Tyagi</td>\n",
              "      <td>03 Aug 2017,Thursday</td>\n",
              "      <td>http://indiatoday.intoday.in/story/indian-lang...</td>\n",
              "      <td>More than half of the languages spoken by Indi...</td>\n",
              "    </tr>\n",
              "  </tbody>\n",
              "</table>\n",
              "<p>102915 rows × 6 columns</p>\n",
              "</div>\n",
              "    <div class=\"colab-df-buttons\">\n",
              "\n",
              "  <div class=\"colab-df-container\">\n",
              "    <button class=\"colab-df-convert\" onclick=\"convertToInteractive('df-280f510a-a7ef-453b-8e59-b9157d092c31')\"\n",
              "            title=\"Convert this dataframe to an interactive table.\"\n",
              "            style=\"display:none;\">\n",
              "\n",
              "  <svg xmlns=\"http://www.w3.org/2000/svg\" height=\"24px\" viewBox=\"0 -960 960 960\">\n",
              "    <path d=\"M120-120v-720h720v720H120Zm60-500h600v-160H180v160Zm220 220h160v-160H400v160Zm0 220h160v-160H400v160ZM180-400h160v-160H180v160Zm440 0h160v-160H620v160ZM180-180h160v-160H180v160Zm440 0h160v-160H620v160Z\"/>\n",
              "  </svg>\n",
              "    </button>\n",
              "\n",
              "  <style>\n",
              "    .colab-df-container {\n",
              "      display:flex;\n",
              "      gap: 12px;\n",
              "    }\n",
              "\n",
              "    .colab-df-convert {\n",
              "      background-color: #E8F0FE;\n",
              "      border: none;\n",
              "      border-radius: 50%;\n",
              "      cursor: pointer;\n",
              "      display: none;\n",
              "      fill: #1967D2;\n",
              "      height: 32px;\n",
              "      padding: 0 0 0 0;\n",
              "      width: 32px;\n",
              "    }\n",
              "\n",
              "    .colab-df-convert:hover {\n",
              "      background-color: #E2EBFA;\n",
              "      box-shadow: 0px 1px 2px rgba(60, 64, 67, 0.3), 0px 1px 3px 1px rgba(60, 64, 67, 0.15);\n",
              "      fill: #174EA6;\n",
              "    }\n",
              "\n",
              "    .colab-df-buttons div {\n",
              "      margin-bottom: 4px;\n",
              "    }\n",
              "\n",
              "    [theme=dark] .colab-df-convert {\n",
              "      background-color: #3B4455;\n",
              "      fill: #D2E3FC;\n",
              "    }\n",
              "\n",
              "    [theme=dark] .colab-df-convert:hover {\n",
              "      background-color: #434B5C;\n",
              "      box-shadow: 0px 1px 3px 1px rgba(0, 0, 0, 0.15);\n",
              "      filter: drop-shadow(0px 1px 2px rgba(0, 0, 0, 0.3));\n",
              "      fill: #FFFFFF;\n",
              "    }\n",
              "  </style>\n",
              "\n",
              "    <script>\n",
              "      const buttonEl =\n",
              "        document.querySelector('#df-280f510a-a7ef-453b-8e59-b9157d092c31 button.colab-df-convert');\n",
              "      buttonEl.style.display =\n",
              "        google.colab.kernel.accessAllowed ? 'block' : 'none';\n",
              "\n",
              "      async function convertToInteractive(key) {\n",
              "        const element = document.querySelector('#df-280f510a-a7ef-453b-8e59-b9157d092c31');\n",
              "        const dataTable =\n",
              "          await google.colab.kernel.invokeFunction('convertToInteractive',\n",
              "                                                    [key], {});\n",
              "        if (!dataTable) return;\n",
              "\n",
              "        const docLinkHtml = 'Like what you see? Visit the ' +\n",
              "          '<a target=\"_blank\" href=https://colab.research.google.com/notebooks/data_table.ipynb>data table notebook</a>'\n",
              "          + ' to learn more about interactive tables.';\n",
              "        element.innerHTML = '';\n",
              "        dataTable['output_type'] = 'display_data';\n",
              "        await google.colab.output.renderOutput(dataTable, element);\n",
              "        const docLink = document.createElement('div');\n",
              "        docLink.innerHTML = docLinkHtml;\n",
              "        element.appendChild(docLink);\n",
              "      }\n",
              "    </script>\n",
              "  </div>\n",
              "\n",
              "\n",
              "    <div id=\"df-107e72de-34b0-401f-9bc7-ba902686e0db\">\n",
              "      <button class=\"colab-df-quickchart\" onclick=\"quickchart('df-107e72de-34b0-401f-9bc7-ba902686e0db')\"\n",
              "                title=\"Suggest charts\"\n",
              "                style=\"display:none;\">\n",
              "\n",
              "<svg xmlns=\"http://www.w3.org/2000/svg\" height=\"24px\"viewBox=\"0 0 24 24\"\n",
              "     width=\"24px\">\n",
              "    <g>\n",
              "        <path d=\"M19 3H5c-1.1 0-2 .9-2 2v14c0 1.1.9 2 2 2h14c1.1 0 2-.9 2-2V5c0-1.1-.9-2-2-2zM9 17H7v-7h2v7zm4 0h-2V7h2v10zm4 0h-2v-4h2v4z\"/>\n",
              "    </g>\n",
              "</svg>\n",
              "      </button>\n",
              "\n",
              "<style>\n",
              "  .colab-df-quickchart {\n",
              "      --bg-color: #E8F0FE;\n",
              "      --fill-color: #1967D2;\n",
              "      --hover-bg-color: #E2EBFA;\n",
              "      --hover-fill-color: #174EA6;\n",
              "      --disabled-fill-color: #AAA;\n",
              "      --disabled-bg-color: #DDD;\n",
              "  }\n",
              "\n",
              "  [theme=dark] .colab-df-quickchart {\n",
              "      --bg-color: #3B4455;\n",
              "      --fill-color: #D2E3FC;\n",
              "      --hover-bg-color: #434B5C;\n",
              "      --hover-fill-color: #FFFFFF;\n",
              "      --disabled-bg-color: #3B4455;\n",
              "      --disabled-fill-color: #666;\n",
              "  }\n",
              "\n",
              "  .colab-df-quickchart {\n",
              "    background-color: var(--bg-color);\n",
              "    border: none;\n",
              "    border-radius: 50%;\n",
              "    cursor: pointer;\n",
              "    display: none;\n",
              "    fill: var(--fill-color);\n",
              "    height: 32px;\n",
              "    padding: 0;\n",
              "    width: 32px;\n",
              "  }\n",
              "\n",
              "  .colab-df-quickchart:hover {\n",
              "    background-color: var(--hover-bg-color);\n",
              "    box-shadow: 0 1px 2px rgba(60, 64, 67, 0.3), 0 1px 3px 1px rgba(60, 64, 67, 0.15);\n",
              "    fill: var(--button-hover-fill-color);\n",
              "  }\n",
              "\n",
              "  .colab-df-quickchart-complete:disabled,\n",
              "  .colab-df-quickchart-complete:disabled:hover {\n",
              "    background-color: var(--disabled-bg-color);\n",
              "    fill: var(--disabled-fill-color);\n",
              "    box-shadow: none;\n",
              "  }\n",
              "\n",
              "  .colab-df-spinner {\n",
              "    border: 2px solid var(--fill-color);\n",
              "    border-color: transparent;\n",
              "    border-bottom-color: var(--fill-color);\n",
              "    animation:\n",
              "      spin 1s steps(1) infinite;\n",
              "  }\n",
              "\n",
              "  @keyframes spin {\n",
              "    0% {\n",
              "      border-color: transparent;\n",
              "      border-bottom-color: var(--fill-color);\n",
              "      border-left-color: var(--fill-color);\n",
              "    }\n",
              "    20% {\n",
              "      border-color: transparent;\n",
              "      border-left-color: var(--fill-color);\n",
              "      border-top-color: var(--fill-color);\n",
              "    }\n",
              "    30% {\n",
              "      border-color: transparent;\n",
              "      border-left-color: var(--fill-color);\n",
              "      border-top-color: var(--fill-color);\n",
              "      border-right-color: var(--fill-color);\n",
              "    }\n",
              "    40% {\n",
              "      border-color: transparent;\n",
              "      border-right-color: var(--fill-color);\n",
              "      border-top-color: var(--fill-color);\n",
              "    }\n",
              "    60% {\n",
              "      border-color: transparent;\n",
              "      border-right-color: var(--fill-color);\n",
              "    }\n",
              "    80% {\n",
              "      border-color: transparent;\n",
              "      border-right-color: var(--fill-color);\n",
              "      border-bottom-color: var(--fill-color);\n",
              "    }\n",
              "    90% {\n",
              "      border-color: transparent;\n",
              "      border-bottom-color: var(--fill-color);\n",
              "    }\n",
              "  }\n",
              "</style>\n",
              "\n",
              "      <script>\n",
              "        async function quickchart(key) {\n",
              "          const quickchartButtonEl =\n",
              "            document.querySelector('#' + key + ' button');\n",
              "          quickchartButtonEl.disabled = true;  // To prevent multiple clicks.\n",
              "          quickchartButtonEl.classList.add('colab-df-spinner');\n",
              "          try {\n",
              "            const charts = await google.colab.kernel.invokeFunction(\n",
              "                'suggestCharts', [key], {});\n",
              "          } catch (error) {\n",
              "            console.error('Error during call to suggestCharts:', error);\n",
              "          }\n",
              "          quickchartButtonEl.classList.remove('colab-df-spinner');\n",
              "          quickchartButtonEl.classList.add('colab-df-quickchart-complete');\n",
              "        }\n",
              "        (() => {\n",
              "          let quickchartButtonEl =\n",
              "            document.querySelector('#df-107e72de-34b0-401f-9bc7-ba902686e0db button');\n",
              "          quickchartButtonEl.style.display =\n",
              "            google.colab.kernel.accessAllowed ? 'block' : 'none';\n",
              "        })();\n",
              "      </script>\n",
              "    </div>\n",
              "\n",
              "  <div id=\"id_fc18a1f1-1e48-464f-b104-587b6f6ff4f5\">\n",
              "    <style>\n",
              "      .colab-df-generate {\n",
              "        background-color: #E8F0FE;\n",
              "        border: none;\n",
              "        border-radius: 50%;\n",
              "        cursor: pointer;\n",
              "        display: none;\n",
              "        fill: #1967D2;\n",
              "        height: 32px;\n",
              "        padding: 0 0 0 0;\n",
              "        width: 32px;\n",
              "      }\n",
              "\n",
              "      .colab-df-generate:hover {\n",
              "        background-color: #E2EBFA;\n",
              "        box-shadow: 0px 1px 2px rgba(60, 64, 67, 0.3), 0px 1px 3px 1px rgba(60, 64, 67, 0.15);\n",
              "        fill: #174EA6;\n",
              "      }\n",
              "\n",
              "      [theme=dark] .colab-df-generate {\n",
              "        background-color: #3B4455;\n",
              "        fill: #D2E3FC;\n",
              "      }\n",
              "\n",
              "      [theme=dark] .colab-df-generate:hover {\n",
              "        background-color: #434B5C;\n",
              "        box-shadow: 0px 1px 3px 1px rgba(0, 0, 0, 0.15);\n",
              "        filter: drop-shadow(0px 1px 2px rgba(0, 0, 0, 0.3));\n",
              "        fill: #FFFFFF;\n",
              "      }\n",
              "    </style>\n",
              "    <button class=\"colab-df-generate\" onclick=\"generateWithVariable('df')\"\n",
              "            title=\"Generate code using this dataframe.\"\n",
              "            style=\"display:none;\">\n",
              "\n",
              "  <svg xmlns=\"http://www.w3.org/2000/svg\" height=\"24px\"viewBox=\"0 0 24 24\"\n",
              "       width=\"24px\">\n",
              "    <path d=\"M7,19H8.4L18.45,9,17,7.55,7,17.6ZM5,21V16.75L18.45,3.32a2,2,0,0,1,2.83,0l1.4,1.43a1.91,1.91,0,0,1,.58,1.4,1.91,1.91,0,0,1-.58,1.4L9.25,21ZM18.45,9,17,7.55Zm-12,3A5.31,5.31,0,0,0,4.9,8.1,5.31,5.31,0,0,0,1,6.5,5.31,5.31,0,0,0,4.9,4.9,5.31,5.31,0,0,0,6.5,1,5.31,5.31,0,0,0,8.1,4.9,5.31,5.31,0,0,0,12,6.5,5.46,5.46,0,0,0,6.5,12Z\"/>\n",
              "  </svg>\n",
              "    </button>\n",
              "    <script>\n",
              "      (() => {\n",
              "      const buttonEl =\n",
              "        document.querySelector('#id_fc18a1f1-1e48-464f-b104-587b6f6ff4f5 button.colab-df-generate');\n",
              "      buttonEl.style.display =\n",
              "        google.colab.kernel.accessAllowed ? 'block' : 'none';\n",
              "\n",
              "      buttonEl.onclick = () => {\n",
              "        google.colab.notebook.generateWithVariable('df');\n",
              "      }\n",
              "      })();\n",
              "    </script>\n",
              "  </div>\n",
              "\n",
              "    </div>\n",
              "  </div>\n"
            ],
            "application/vnd.google.colaboratory.intrinsic+json": {
              "type": "dataframe",
              "variable_name": "df"
            }
          },
          "metadata": {},
          "execution_count": 107
        }
      ],
      "source": [
        "df"
      ]
    },
    {
      "cell_type": "code",
      "execution_count": 108,
      "metadata": {
        "id": "NPOgdjNc3mem"
      },
      "outputs": [],
      "source": [
        "config={\n",
        "    'min_text_len':40,\n",
        "    'max_text_len':60,\n",
        "    'max_summary_len':30,\n",
        "    'latent_dim': 300,\n",
        "    'embedding_dim':200 }"
      ]
    },
    {
      "cell_type": "code",
      "execution_count": 109,
      "metadata": {
        "id": "VgJKnfLJC9QN"
      },
      "outputs": [],
      "source": [
        "# since we are using  a weaker technology ( encoder decoder) compared to transformer\n",
        "# we will be using text only on range of 40 to 60 words."
      ]
    },
    {
      "cell_type": "code",
      "execution_count": 110,
      "metadata": {
        "colab": {
          "base_uri": "https://localhost:8080/"
        },
        "id": "NxROAuleDTLB",
        "outputId": "cc055e58-8024-404d-dd4c-faa611f343b2"
      },
      "outputs": [
        {
          "output_type": "stream",
          "name": "stdout",
          "text": [
            "Before filtering : (102915, 6)\n"
          ]
        }
      ],
      "source": [
        "print(f\"Before filtering : {df.shape}\")"
      ]
    },
    {
      "cell_type": "code",
      "execution_count": 111,
      "metadata": {
        "id": "a5t4ORrbDXQp"
      },
      "outputs": [],
      "source": [
        "# now applying config to our data\n",
        "df=df.loc[((df['text'].str.split(\" \").str.len()>config['min_text_len']) & (df['text'].str.split(\" \").str.len()<config[\"max_text_len\"]))].reset_index(drop=True)"
      ]
    },
    {
      "cell_type": "code",
      "execution_count": 112,
      "metadata": {
        "colab": {
          "base_uri": "https://localhost:8080/"
        },
        "id": "BumaxEO_Ema6",
        "outputId": "6dc828c1-28e1-4e0f-a4b1-fe1bc60626c2"
      },
      "outputs": [
        {
          "output_type": "execute_result",
          "data": {
            "text/plain": [
              "(54572, 6)"
            ]
          },
          "metadata": {},
          "execution_count": 112
        }
      ],
      "source": [
        "df.shape"
      ]
    },
    {
      "cell_type": "code",
      "execution_count": 113,
      "metadata": {
        "colab": {
          "base_uri": "https://localhost:8080/",
          "height": 310
        },
        "id": "UZQli9HdF_jh",
        "outputId": "2f71ff28-1e89-4ec6-9d4e-55234ba03268"
      },
      "outputs": [
        {
          "output_type": "execute_result",
          "data": {
            "text/plain": [
              "                                           headlines  \\\n",
              "0  Rahat Fateh Ali Khan denies getting notice for...   \n",
              "1  India get all out for 92, their lowest ODI tot...   \n",
              "2  Called PM Modi 'sir' 10 times to satisfy his e...   \n",
              "3  81-yr-old woman conducts physical training in ...   \n",
              "4  Karan Johar, Tabu turn showstoppers on opening...   \n",
              "\n",
              "                                                text author date read_more  \\\n",
              "0  Pakistani singer Rahat Fateh Ali Khan has deni...    NaN  NaN       NaN   \n",
              "1  India recorded their lowest ODI total in New Z...    NaN  NaN       NaN   \n",
              "2  Andhra Pradesh CM N Chandrababu Naidu has said...    NaN  NaN       NaN   \n",
              "3  Isha Ghosh, an 81-year-old member of Bharat Sc...    NaN  NaN       NaN   \n",
              "4  Filmmaker Karan Johar and actress Tabu turned ...    NaN  NaN       NaN   \n",
              "\n",
              "  ctext  \n",
              "0   NaN  \n",
              "1   NaN  \n",
              "2   NaN  \n",
              "3   NaN  \n",
              "4   NaN  "
            ],
            "text/html": [
              "\n",
              "  <div id=\"df-12b24edd-5f75-4ff8-a0b7-c0183ca871f8\" class=\"colab-df-container\">\n",
              "    <div>\n",
              "<style scoped>\n",
              "    .dataframe tbody tr th:only-of-type {\n",
              "        vertical-align: middle;\n",
              "    }\n",
              "\n",
              "    .dataframe tbody tr th {\n",
              "        vertical-align: top;\n",
              "    }\n",
              "\n",
              "    .dataframe thead th {\n",
              "        text-align: right;\n",
              "    }\n",
              "</style>\n",
              "<table border=\"1\" class=\"dataframe\">\n",
              "  <thead>\n",
              "    <tr style=\"text-align: right;\">\n",
              "      <th></th>\n",
              "      <th>headlines</th>\n",
              "      <th>text</th>\n",
              "      <th>author</th>\n",
              "      <th>date</th>\n",
              "      <th>read_more</th>\n",
              "      <th>ctext</th>\n",
              "    </tr>\n",
              "  </thead>\n",
              "  <tbody>\n",
              "    <tr>\n",
              "      <th>0</th>\n",
              "      <td>Rahat Fateh Ali Khan denies getting notice for...</td>\n",
              "      <td>Pakistani singer Rahat Fateh Ali Khan has deni...</td>\n",
              "      <td>NaN</td>\n",
              "      <td>NaN</td>\n",
              "      <td>NaN</td>\n",
              "      <td>NaN</td>\n",
              "    </tr>\n",
              "    <tr>\n",
              "      <th>1</th>\n",
              "      <td>India get all out for 92, their lowest ODI tot...</td>\n",
              "      <td>India recorded their lowest ODI total in New Z...</td>\n",
              "      <td>NaN</td>\n",
              "      <td>NaN</td>\n",
              "      <td>NaN</td>\n",
              "      <td>NaN</td>\n",
              "    </tr>\n",
              "    <tr>\n",
              "      <th>2</th>\n",
              "      <td>Called PM Modi 'sir' 10 times to satisfy his e...</td>\n",
              "      <td>Andhra Pradesh CM N Chandrababu Naidu has said...</td>\n",
              "      <td>NaN</td>\n",
              "      <td>NaN</td>\n",
              "      <td>NaN</td>\n",
              "      <td>NaN</td>\n",
              "    </tr>\n",
              "    <tr>\n",
              "      <th>3</th>\n",
              "      <td>81-yr-old woman conducts physical training in ...</td>\n",
              "      <td>Isha Ghosh, an 81-year-old member of Bharat Sc...</td>\n",
              "      <td>NaN</td>\n",
              "      <td>NaN</td>\n",
              "      <td>NaN</td>\n",
              "      <td>NaN</td>\n",
              "    </tr>\n",
              "    <tr>\n",
              "      <th>4</th>\n",
              "      <td>Karan Johar, Tabu turn showstoppers on opening...</td>\n",
              "      <td>Filmmaker Karan Johar and actress Tabu turned ...</td>\n",
              "      <td>NaN</td>\n",
              "      <td>NaN</td>\n",
              "      <td>NaN</td>\n",
              "      <td>NaN</td>\n",
              "    </tr>\n",
              "  </tbody>\n",
              "</table>\n",
              "</div>\n",
              "    <div class=\"colab-df-buttons\">\n",
              "\n",
              "  <div class=\"colab-df-container\">\n",
              "    <button class=\"colab-df-convert\" onclick=\"convertToInteractive('df-12b24edd-5f75-4ff8-a0b7-c0183ca871f8')\"\n",
              "            title=\"Convert this dataframe to an interactive table.\"\n",
              "            style=\"display:none;\">\n",
              "\n",
              "  <svg xmlns=\"http://www.w3.org/2000/svg\" height=\"24px\" viewBox=\"0 -960 960 960\">\n",
              "    <path d=\"M120-120v-720h720v720H120Zm60-500h600v-160H180v160Zm220 220h160v-160H400v160Zm0 220h160v-160H400v160ZM180-400h160v-160H180v160Zm440 0h160v-160H620v160ZM180-180h160v-160H180v160Zm440 0h160v-160H620v160Z\"/>\n",
              "  </svg>\n",
              "    </button>\n",
              "\n",
              "  <style>\n",
              "    .colab-df-container {\n",
              "      display:flex;\n",
              "      gap: 12px;\n",
              "    }\n",
              "\n",
              "    .colab-df-convert {\n",
              "      background-color: #E8F0FE;\n",
              "      border: none;\n",
              "      border-radius: 50%;\n",
              "      cursor: pointer;\n",
              "      display: none;\n",
              "      fill: #1967D2;\n",
              "      height: 32px;\n",
              "      padding: 0 0 0 0;\n",
              "      width: 32px;\n",
              "    }\n",
              "\n",
              "    .colab-df-convert:hover {\n",
              "      background-color: #E2EBFA;\n",
              "      box-shadow: 0px 1px 2px rgba(60, 64, 67, 0.3), 0px 1px 3px 1px rgba(60, 64, 67, 0.15);\n",
              "      fill: #174EA6;\n",
              "    }\n",
              "\n",
              "    .colab-df-buttons div {\n",
              "      margin-bottom: 4px;\n",
              "    }\n",
              "\n",
              "    [theme=dark] .colab-df-convert {\n",
              "      background-color: #3B4455;\n",
              "      fill: #D2E3FC;\n",
              "    }\n",
              "\n",
              "    [theme=dark] .colab-df-convert:hover {\n",
              "      background-color: #434B5C;\n",
              "      box-shadow: 0px 1px 3px 1px rgba(0, 0, 0, 0.15);\n",
              "      filter: drop-shadow(0px 1px 2px rgba(0, 0, 0, 0.3));\n",
              "      fill: #FFFFFF;\n",
              "    }\n",
              "  </style>\n",
              "\n",
              "    <script>\n",
              "      const buttonEl =\n",
              "        document.querySelector('#df-12b24edd-5f75-4ff8-a0b7-c0183ca871f8 button.colab-df-convert');\n",
              "      buttonEl.style.display =\n",
              "        google.colab.kernel.accessAllowed ? 'block' : 'none';\n",
              "\n",
              "      async function convertToInteractive(key) {\n",
              "        const element = document.querySelector('#df-12b24edd-5f75-4ff8-a0b7-c0183ca871f8');\n",
              "        const dataTable =\n",
              "          await google.colab.kernel.invokeFunction('convertToInteractive',\n",
              "                                                    [key], {});\n",
              "        if (!dataTable) return;\n",
              "\n",
              "        const docLinkHtml = 'Like what you see? Visit the ' +\n",
              "          '<a target=\"_blank\" href=https://colab.research.google.com/notebooks/data_table.ipynb>data table notebook</a>'\n",
              "          + ' to learn more about interactive tables.';\n",
              "        element.innerHTML = '';\n",
              "        dataTable['output_type'] = 'display_data';\n",
              "        await google.colab.output.renderOutput(dataTable, element);\n",
              "        const docLink = document.createElement('div');\n",
              "        docLink.innerHTML = docLinkHtml;\n",
              "        element.appendChild(docLink);\n",
              "      }\n",
              "    </script>\n",
              "  </div>\n",
              "\n",
              "\n",
              "    <div id=\"df-c786ca80-c36f-4e34-a702-1b1e41d999e2\">\n",
              "      <button class=\"colab-df-quickchart\" onclick=\"quickchart('df-c786ca80-c36f-4e34-a702-1b1e41d999e2')\"\n",
              "                title=\"Suggest charts\"\n",
              "                style=\"display:none;\">\n",
              "\n",
              "<svg xmlns=\"http://www.w3.org/2000/svg\" height=\"24px\"viewBox=\"0 0 24 24\"\n",
              "     width=\"24px\">\n",
              "    <g>\n",
              "        <path d=\"M19 3H5c-1.1 0-2 .9-2 2v14c0 1.1.9 2 2 2h14c1.1 0 2-.9 2-2V5c0-1.1-.9-2-2-2zM9 17H7v-7h2v7zm4 0h-2V7h2v10zm4 0h-2v-4h2v4z\"/>\n",
              "    </g>\n",
              "</svg>\n",
              "      </button>\n",
              "\n",
              "<style>\n",
              "  .colab-df-quickchart {\n",
              "      --bg-color: #E8F0FE;\n",
              "      --fill-color: #1967D2;\n",
              "      --hover-bg-color: #E2EBFA;\n",
              "      --hover-fill-color: #174EA6;\n",
              "      --disabled-fill-color: #AAA;\n",
              "      --disabled-bg-color: #DDD;\n",
              "  }\n",
              "\n",
              "  [theme=dark] .colab-df-quickchart {\n",
              "      --bg-color: #3B4455;\n",
              "      --fill-color: #D2E3FC;\n",
              "      --hover-bg-color: #434B5C;\n",
              "      --hover-fill-color: #FFFFFF;\n",
              "      --disabled-bg-color: #3B4455;\n",
              "      --disabled-fill-color: #666;\n",
              "  }\n",
              "\n",
              "  .colab-df-quickchart {\n",
              "    background-color: var(--bg-color);\n",
              "    border: none;\n",
              "    border-radius: 50%;\n",
              "    cursor: pointer;\n",
              "    display: none;\n",
              "    fill: var(--fill-color);\n",
              "    height: 32px;\n",
              "    padding: 0;\n",
              "    width: 32px;\n",
              "  }\n",
              "\n",
              "  .colab-df-quickchart:hover {\n",
              "    background-color: var(--hover-bg-color);\n",
              "    box-shadow: 0 1px 2px rgba(60, 64, 67, 0.3), 0 1px 3px 1px rgba(60, 64, 67, 0.15);\n",
              "    fill: var(--button-hover-fill-color);\n",
              "  }\n",
              "\n",
              "  .colab-df-quickchart-complete:disabled,\n",
              "  .colab-df-quickchart-complete:disabled:hover {\n",
              "    background-color: var(--disabled-bg-color);\n",
              "    fill: var(--disabled-fill-color);\n",
              "    box-shadow: none;\n",
              "  }\n",
              "\n",
              "  .colab-df-spinner {\n",
              "    border: 2px solid var(--fill-color);\n",
              "    border-color: transparent;\n",
              "    border-bottom-color: var(--fill-color);\n",
              "    animation:\n",
              "      spin 1s steps(1) infinite;\n",
              "  }\n",
              "\n",
              "  @keyframes spin {\n",
              "    0% {\n",
              "      border-color: transparent;\n",
              "      border-bottom-color: var(--fill-color);\n",
              "      border-left-color: var(--fill-color);\n",
              "    }\n",
              "    20% {\n",
              "      border-color: transparent;\n",
              "      border-left-color: var(--fill-color);\n",
              "      border-top-color: var(--fill-color);\n",
              "    }\n",
              "    30% {\n",
              "      border-color: transparent;\n",
              "      border-left-color: var(--fill-color);\n",
              "      border-top-color: var(--fill-color);\n",
              "      border-right-color: var(--fill-color);\n",
              "    }\n",
              "    40% {\n",
              "      border-color: transparent;\n",
              "      border-right-color: var(--fill-color);\n",
              "      border-top-color: var(--fill-color);\n",
              "    }\n",
              "    60% {\n",
              "      border-color: transparent;\n",
              "      border-right-color: var(--fill-color);\n",
              "    }\n",
              "    80% {\n",
              "      border-color: transparent;\n",
              "      border-right-color: var(--fill-color);\n",
              "      border-bottom-color: var(--fill-color);\n",
              "    }\n",
              "    90% {\n",
              "      border-color: transparent;\n",
              "      border-bottom-color: var(--fill-color);\n",
              "    }\n",
              "  }\n",
              "</style>\n",
              "\n",
              "      <script>\n",
              "        async function quickchart(key) {\n",
              "          const quickchartButtonEl =\n",
              "            document.querySelector('#' + key + ' button');\n",
              "          quickchartButtonEl.disabled = true;  // To prevent multiple clicks.\n",
              "          quickchartButtonEl.classList.add('colab-df-spinner');\n",
              "          try {\n",
              "            const charts = await google.colab.kernel.invokeFunction(\n",
              "                'suggestCharts', [key], {});\n",
              "          } catch (error) {\n",
              "            console.error('Error during call to suggestCharts:', error);\n",
              "          }\n",
              "          quickchartButtonEl.classList.remove('colab-df-spinner');\n",
              "          quickchartButtonEl.classList.add('colab-df-quickchart-complete');\n",
              "        }\n",
              "        (() => {\n",
              "          let quickchartButtonEl =\n",
              "            document.querySelector('#df-c786ca80-c36f-4e34-a702-1b1e41d999e2 button');\n",
              "          quickchartButtonEl.style.display =\n",
              "            google.colab.kernel.accessAllowed ? 'block' : 'none';\n",
              "        })();\n",
              "      </script>\n",
              "    </div>\n",
              "\n",
              "    </div>\n",
              "  </div>\n"
            ],
            "application/vnd.google.colaboratory.intrinsic+json": {
              "type": "dataframe",
              "variable_name": "df",
              "summary": "{\n  \"name\": \"df\",\n  \"rows\": 54572,\n  \"fields\": [\n    {\n      \"column\": \"headlines\",\n      \"properties\": {\n        \"dtype\": \"string\",\n        \"num_unique_values\": 53025,\n        \"samples\": [\n          \"Govt gives approval for disinvestment of Air India\",\n          \"Security officer who placed ISIS note at Mumbai airport held\",\n          \"Las Vegas eatery sells donuts covered with gold\"\n        ],\n        \"semantic_type\": \"\",\n        \"description\": \"\"\n      }\n    },\n    {\n      \"column\": \"text\",\n      \"properties\": {\n        \"dtype\": \"string\",\n        \"num_unique_values\": 53159,\n        \"samples\": [\n          \"Filmmaker Meghna Gulzar, who directed Alia Bhatt's 'Raazi', said, \\\"I'm making film on the life of Field Marshal of our country Sam Manekshaw but it's not a biopic.\\\" Further, talking about 'Raazi', she added, \\\"My last film 'Raazi' was also not a biopic.\\\" Meghna earlier said she feels she does \\\"a better job with true life\\\" stories.\",\n          \"Qatar on Monday filed a legal complaint at the World Trade Organisation (WTO) against a trade boycott by Saudi Arabia, Bahrain, and United Arab Emirates. By formally requesting consultations with the three countries, Qatar has triggered a 60-day deadline for them to settle the complaint or face litigation at the WTO and potential retaliatory trade sanctions.\",\n          \"The in-house logistics arm of Snapdeal, Vulcan Express, will likely form part of the negotiations of the ongoing merger talks between Flipkart and Snapdeal. The final terms of the deal will decide whether Vulcan will be merged with Flipkart's logistics arm Ekart, or continue to operate as a separate entity. Vulcan Express handles more than 55% of Snapdeal's deliveries.\"\n        ],\n        \"semantic_type\": \"\",\n        \"description\": \"\"\n      }\n    },\n    {\n      \"column\": \"author\",\n      \"properties\": {\n        \"dtype\": \"category\",\n        \"num_unique_values\": 43,\n        \"samples\": [\n          \"Rini Kapoor\",\n          \"Rini Sinha\",\n          \"Nihal Thondepu\"\n        ],\n        \"semantic_type\": \"\",\n        \"description\": \"\"\n      }\n    },\n    {\n      \"column\": \"date\",\n      \"properties\": {\n        \"dtype\": \"date\",\n        \"min\": \"2016-12-07 00:00:00\",\n        \"max\": \"2017-08-03 00:00:00\",\n        \"num_unique_values\": 238,\n        \"samples\": [\n          \"27 Jun 2017,Tuesday\",\n          \"19 Jul 2017,Wednesday\",\n          \"21 Mar 2017,Tuesday\"\n        ],\n        \"semantic_type\": \"\",\n        \"description\": \"\"\n      }\n    },\n    {\n      \"column\": \"read_more\",\n      \"properties\": {\n        \"dtype\": \"category\",\n        \"num_unique_values\": 2367,\n        \"samples\": [\n          \"http://indiatoday.intoday.in/story/mumbai-driving-soldier-wife-car-rams-cycle-kids-die/1/833110.html \",\n          \"http://indiatoday.intoday.in/story/brazilian-baby-walks-just-moments-after-birth/1/965725.html \",\n          \"http://indiatoday.intoday.in/story/koffee-with-karan-5-tiger-shroff-dating-disha-patani-crush-jackie-kjo/1/869660.html \"\n        ],\n        \"semantic_type\": \"\",\n        \"description\": \"\"\n      }\n    },\n    {\n      \"column\": \"ctext\",\n      \"properties\": {\n        \"dtype\": \"category\",\n        \"num_unique_values\": 2303,\n        \"samples\": [\n          \"The societal difference between the rich and poor no longer prevails in the city of Chandigarh.With the inception of 'Wall of Kindness' also known as 'Neki ki Diwar', life seems easier for those who spend their nights on the pavements in this shivering cold winter. The whole idea of\\u00a0 the 'Wall of Kindness' originated from NGO Yuvasatta, that works for the benefit of needy. The practice was first initiated in September 2016. They simply hooked up a pipe on a school wall and put up a signboard asking to donate clothes. The initiative goes by the motto ''Leave if you do not need. Take if you need.''\",\n          \"A day after Bihar Chief Minister Nitish Kumar stopped short of asking him to step down in the wake of corruption charges, deputy CM Tejashwi Yadav ruled out possibility of quitting. Tejashwi, who attended the Cabinet meeting called by Nitish alongwith elder brother Tej Pratap, described corruption charges levelled against him as a conspiracy hatched by the Bharatiya Janata Party (BJP). \\\"I was just 13 or 14 when the sale of railway hotels took place. (2004 mein humari moochein bhi nahi aayi thi. 13-14 saal ka baccha ye sab kaise kar sakta hai?),\\\" Tejashwi Yadav told reporters in Patna.\\\"I had pledged zero tolerance on corruption when I took over as minister. Not one case of corruption has been reported in any of the three departments I hold so far,\\\" he said. \\\"FIR against me is political vendetta. Conspiracy by Amit Shah and PM Modi. From Day 1 they have been trying to break our alliance but\\u00a0 Mahagathbandhan is will not break and BJP will get a befitting reply,\\\" Tejashwi, who has been named by the CBI in a land-for-hotel case, said.\\\"First, they feared my father (Lalu) and now they are nervous of me also and therefore they are targeting me,\\\" a defiant Tejashwi said. He went on to play the caste card\\u00a0 asserting that since he came from backward caste, the BJP was targeting him. \\\"People of Bihar elected me. I have been doing good work which has made the BJP and their leaders nervous. I am being targeted because I belong to backward caste,\\\" he said. TEJASHWI WON'T QUIT: LALURJD chief Lalu Yadav has already made it clear that his son won't step down . n his first interview after last week's CBI raids on his family and associates, the former Bihar CM categorically ruled out Tejashwi resigning from Nitish Kumar's Cabinet.Lalu described the CBI raids as part of a conspiracy hatched by Prime Minister Narendra Modi and BJP president Amit Shah to \\\"finish off him and his party - RJD\\\".\\\"Tejashwi was a minor...cricket player when the hotel deal was finalised. These are baseless allegations,\\\" he said.Nitish's JD-U had on Tuesday asked Tejashwi Yadav, an accused in the land-for-hotels scandal, to \\\"come out with facts in public against the accusations\\\" but stopped short of demanding his resignation. ALSO READ:EXCLUSIVE: No question of Tejashwi resigning, says Lalu on Nitish's 4-day ultimatumAs Nitish Kumar decides on dumping Tejashwi Yadav, Lalu's son is hitting political worries for a sixAfter CBI raids on Lalu Prasad Yadav, ED searches farms of Misa Bharti, husband Shailesh in Delhi\",\n          \"India?s ?bloated self-assertiveness? made it infringe on China?s sovereignty and New Delhi had levelled false allegations and accusations against Beijing to serve its hegemonic ambitions, a stinging commentary from the official Chinese media said on Monday evening.The commentary, released by the official Xinhua news agency , said India first levelled false allegations about Chinese encroachment of its territory but later changed the tone to say Indian troops had gone into Doklam (or Donglang) region to ?protect? Bhutan.The piece by Xinhua was the latest in a series of articles and opinion pieces in the state media criticising India for the three-week-old standoff at the strategic tri-junction of India, Bhutan and China. India has said its troops acted in coordination with the Bhutan government to prevent the construction of a road by Chinese troops in the Donglang or Doklam region, which is claimed by Thimphu. China has accused Indian troops of trespassing into its territory.The commentary made specific reference to defence minister Arun Jaitley?s comment that the India of today is different from what it was 1962, when it was defeated in a border war by China.?Bluffing about a potential clash that could be similar to that 55 years ago when India's military suffered a bitter defeat, Indian Defence Minister Arun Jaitley said, ?India in 2017 is different from India in 1962?, implying the country's improved military strength and bloated self-assertiveness,? the commentary said.It added: ?On the other hand, Jaitley should not ignore China's unwavering and consistent stance which has continued over the last five decades and its firm belief in the international justice that no country can pursue its security at the cost of another country's sovereignty.?The commentary said that since the Indian soldiers ?crossed? into Chinese territory and obstructed work on a road in Doklam in June, China had lodged a series of protests demanding that India immediately pull back its troops. ?However, New Delhi views both the incident and its actions quite differently,? it said.?In order to illegally install its troops on Chinese soil for as long as possible and achieve a fait accompli, India firstly claimed its border had been encroached by China. After realising its own false allegation was ridiculous, it changed its tone to its actions to being in the name of ?protecting? Bhutan,? it added.?India, who calls Bhutan an ?ally?, said it had intervened on behalf of its neighbour, yet the true subtext is the South Asian giant wants to maintain and expand regional hegemony,? it said.The Doklam area, under Chinese control, is claimed by Bhutan.But the commentary said: ?The Doklam area has long been recognised as Chinese sovereign territory with a clear history and legal basis, so there is absolutely no reason for India's incursion.?The commentary made no mention of what India has argued and expressed concerns about.New Delhi has said it reached an agreement with Beijing in 2012 that the ?tri-junction boundary points between India, China and third countries will be finalised in consultation with the concerned countries?. Any attempt to unilaterally determine the tri-junction points is a ?violation of this understanding?, the external affairs ministry said last week.The ministry?s statement added that India and China had also reached an understanding in 2012 on the ?basis of the alignment? of the boundary in Sikkim sector and that the finalisation of the frontier was being discussed by the Special Representatives on the border issue.\"\n        ],\n        \"semantic_type\": \"\",\n        \"description\": \"\"\n      }\n    }\n  ]\n}"
            }
          },
          "metadata": {},
          "execution_count": 113
        }
      ],
      "source": [
        "df.head()"
      ]
    },
    {
      "cell_type": "code",
      "execution_count": 114,
      "metadata": {
        "id": "kr4Ay0DeHJhu"
      },
      "outputs": [],
      "source": [
        "df.rename(columns={\"headlines\": \"summary\"},inplace=True)"
      ]
    },
    {
      "cell_type": "markdown",
      "metadata": {
        "id": "7Fl6D1UhHfzA"
      },
      "source": [
        "sample data"
      ]
    },
    {
      "cell_type": "code",
      "execution_count": 115,
      "metadata": {
        "colab": {
          "base_uri": "https://localhost:8080/"
        },
        "id": "5AACmjHEEoWI",
        "outputId": "0addd600-5380-449f-ee17-a1b9aa595fe3"
      },
      "outputs": [
        {
          "output_type": "stream",
          "name": "stdout",
          "text": [
            "Text: The US Parliament on Friday approved a bill to fund the federal government through March 23 and to increase overall spending limits over two years. The bill, which needs President Donald Trump's signature, would end an hours-long government shutdown that started on Thursday midnight after current government funding expired. It is the second US government shutdown in three weeks. \n",
            "\n",
            "Summary: US Parliament passes bill to end overnight govt shutdown \n",
            "\n",
            "Text length: 59\n",
            "Summary length: 13\n"
          ]
        }
      ],
      "source": [
        "ran_num = np.random.randint(1, 54572)\n",
        "print(f\"Text: {df['text'][ran_num]} \\n\")\n",
        "print(f\"Summary: {df['summary'][ran_num]} \\n\")\n",
        "print(f\"Text length: {len(df['text'][ran_num].split())}\")\n",
        "print(f\"Summary length: {len(df['summary'].str.split()[1])}\")\n"
      ]
    },
    {
      "cell_type": "markdown",
      "metadata": {
        "id": "EXbYvDTqI8S6"
      },
      "source": [
        "# PreProcessing"
      ]
    },
    {
      "cell_type": "code",
      "execution_count": 116,
      "metadata": {
        "id": "GbXGR-MPF3Ny"
      },
      "outputs": [],
      "source": [
        "import tensorflow as tf\n",
        "from tensorflow.keras.preprocessing.text import Tokenizer\n",
        "from tensorflow.keras.preprocessing.sequence import pad_sequences\n",
        "import re\n"
      ]
    },
    {
      "cell_type": "code",
      "execution_count": 117,
      "metadata": {
        "id": "XBcYKmnTm8ym"
      },
      "outputs": [],
      "source": [
        "#textual data cleaning\n",
        "\n",
        "def text_clean(sentence):\n",
        "  # removes all the escapes sequences\n",
        "  sentence=re.sub(r\"\\t|\\n|\\r\",\" \",sentence).lower()\n",
        "\n",
        "#remove if -- is repeated\n",
        "  sentence=re.sub(r\"-{2,}\",\" \",sentence)\n",
        "\n",
        "#remove .. if repeated\n",
        "  sentence=re.sub(r\"\\.{2,}\",\" \",sentence)\n",
        "\n",
        "#remove special characters\n",
        "  sentence=re.sub(r\"[^a-zA-Z0-9]\",\" \",sentence)\n",
        "#remove multiple spaces\n",
        "\n",
        "  sentence = re.sub(\"(\\s+)\", \" \", str(sentence))\n",
        "\n",
        "  return sentence\n",
        "\n"
      ]
    },
    {
      "cell_type": "code",
      "execution_count": 118,
      "metadata": {
        "id": "h1QXR0Ivpi3b"
      },
      "outputs": [],
      "source": [
        "df['cleaned_text']=df.text.apply(text_clean)\n",
        "#putting start and end in our data summary for encoder decoder\n",
        "#also we are adding sostok for decoding input and eostok for decoding output\n",
        "df['cleaned_summary']=df.summary.apply(lambda x : '_START_ ' + text_clean(x)+ ' _END_')\n",
        "df['cleaned_summary']=df['cleaned_summary'].apply(lambda x: 'sostok '+ x+' eostok')"
      ]
    },
    {
      "cell_type": "code",
      "execution_count": 119,
      "metadata": {
        "colab": {
          "base_uri": "https://localhost:8080/",
          "height": 590
        },
        "id": "V2N6wKIoqrj5",
        "outputId": "119d8ed8-bc62-46e6-e262-c38b89c01152"
      },
      "outputs": [
        {
          "output_type": "execute_result",
          "data": {
            "text/plain": [
              "                                             summary  \\\n",
              "0  Rahat Fateh Ali Khan denies getting notice for...   \n",
              "1  India get all out for 92, their lowest ODI tot...   \n",
              "2  Called PM Modi 'sir' 10 times to satisfy his e...   \n",
              "3  81-yr-old woman conducts physical training in ...   \n",
              "4  Karan Johar, Tabu turn showstoppers on opening...   \n",
              "\n",
              "                                                text author date read_more  \\\n",
              "0  Pakistani singer Rahat Fateh Ali Khan has deni...    NaN  NaN       NaN   \n",
              "1  India recorded their lowest ODI total in New Z...    NaN  NaN       NaN   \n",
              "2  Andhra Pradesh CM N Chandrababu Naidu has said...    NaN  NaN       NaN   \n",
              "3  Isha Ghosh, an 81-year-old member of Bharat Sc...    NaN  NaN       NaN   \n",
              "4  Filmmaker Karan Johar and actress Tabu turned ...    NaN  NaN       NaN   \n",
              "\n",
              "  ctext                                       cleaned_text  \\\n",
              "0   NaN  pakistani singer rahat fateh ali khan has deni...   \n",
              "1   NaN  india recorded their lowest odi total in new z...   \n",
              "2   NaN  andhra pradesh cm n chandrababu naidu has said...   \n",
              "3   NaN  isha ghosh an 81 year old member of bharat sco...   \n",
              "4   NaN  filmmaker karan johar and actress tabu turned ...   \n",
              "\n",
              "                                     cleaned_summary  \n",
              "0  sostok _START_ rahat fateh ali khan denies get...  \n",
              "1  sostok _START_ india get all out for 92 their ...  \n",
              "2  sostok _START_ called pm modi sir 10 times to ...  \n",
              "3  sostok _START_ 81 yr old woman conducts physic...  \n",
              "4  sostok _START_ karan johar tabu turn showstopp...  "
            ],
            "text/html": [
              "\n",
              "  <div id=\"df-4cd1e0f2-6320-4b90-8a82-1a75b53fdc03\" class=\"colab-df-container\">\n",
              "    <div>\n",
              "<style scoped>\n",
              "    .dataframe tbody tr th:only-of-type {\n",
              "        vertical-align: middle;\n",
              "    }\n",
              "\n",
              "    .dataframe tbody tr th {\n",
              "        vertical-align: top;\n",
              "    }\n",
              "\n",
              "    .dataframe thead th {\n",
              "        text-align: right;\n",
              "    }\n",
              "</style>\n",
              "<table border=\"1\" class=\"dataframe\">\n",
              "  <thead>\n",
              "    <tr style=\"text-align: right;\">\n",
              "      <th></th>\n",
              "      <th>summary</th>\n",
              "      <th>text</th>\n",
              "      <th>author</th>\n",
              "      <th>date</th>\n",
              "      <th>read_more</th>\n",
              "      <th>ctext</th>\n",
              "      <th>cleaned_text</th>\n",
              "      <th>cleaned_summary</th>\n",
              "    </tr>\n",
              "  </thead>\n",
              "  <tbody>\n",
              "    <tr>\n",
              "      <th>0</th>\n",
              "      <td>Rahat Fateh Ali Khan denies getting notice for...</td>\n",
              "      <td>Pakistani singer Rahat Fateh Ali Khan has deni...</td>\n",
              "      <td>NaN</td>\n",
              "      <td>NaN</td>\n",
              "      <td>NaN</td>\n",
              "      <td>NaN</td>\n",
              "      <td>pakistani singer rahat fateh ali khan has deni...</td>\n",
              "      <td>sostok _START_ rahat fateh ali khan denies get...</td>\n",
              "    </tr>\n",
              "    <tr>\n",
              "      <th>1</th>\n",
              "      <td>India get all out for 92, their lowest ODI tot...</td>\n",
              "      <td>India recorded their lowest ODI total in New Z...</td>\n",
              "      <td>NaN</td>\n",
              "      <td>NaN</td>\n",
              "      <td>NaN</td>\n",
              "      <td>NaN</td>\n",
              "      <td>india recorded their lowest odi total in new z...</td>\n",
              "      <td>sostok _START_ india get all out for 92 their ...</td>\n",
              "    </tr>\n",
              "    <tr>\n",
              "      <th>2</th>\n",
              "      <td>Called PM Modi 'sir' 10 times to satisfy his e...</td>\n",
              "      <td>Andhra Pradesh CM N Chandrababu Naidu has said...</td>\n",
              "      <td>NaN</td>\n",
              "      <td>NaN</td>\n",
              "      <td>NaN</td>\n",
              "      <td>NaN</td>\n",
              "      <td>andhra pradesh cm n chandrababu naidu has said...</td>\n",
              "      <td>sostok _START_ called pm modi sir 10 times to ...</td>\n",
              "    </tr>\n",
              "    <tr>\n",
              "      <th>3</th>\n",
              "      <td>81-yr-old woman conducts physical training in ...</td>\n",
              "      <td>Isha Ghosh, an 81-year-old member of Bharat Sc...</td>\n",
              "      <td>NaN</td>\n",
              "      <td>NaN</td>\n",
              "      <td>NaN</td>\n",
              "      <td>NaN</td>\n",
              "      <td>isha ghosh an 81 year old member of bharat sco...</td>\n",
              "      <td>sostok _START_ 81 yr old woman conducts physic...</td>\n",
              "    </tr>\n",
              "    <tr>\n",
              "      <th>4</th>\n",
              "      <td>Karan Johar, Tabu turn showstoppers on opening...</td>\n",
              "      <td>Filmmaker Karan Johar and actress Tabu turned ...</td>\n",
              "      <td>NaN</td>\n",
              "      <td>NaN</td>\n",
              "      <td>NaN</td>\n",
              "      <td>NaN</td>\n",
              "      <td>filmmaker karan johar and actress tabu turned ...</td>\n",
              "      <td>sostok _START_ karan johar tabu turn showstopp...</td>\n",
              "    </tr>\n",
              "  </tbody>\n",
              "</table>\n",
              "</div>\n",
              "    <div class=\"colab-df-buttons\">\n",
              "\n",
              "  <div class=\"colab-df-container\">\n",
              "    <button class=\"colab-df-convert\" onclick=\"convertToInteractive('df-4cd1e0f2-6320-4b90-8a82-1a75b53fdc03')\"\n",
              "            title=\"Convert this dataframe to an interactive table.\"\n",
              "            style=\"display:none;\">\n",
              "\n",
              "  <svg xmlns=\"http://www.w3.org/2000/svg\" height=\"24px\" viewBox=\"0 -960 960 960\">\n",
              "    <path d=\"M120-120v-720h720v720H120Zm60-500h600v-160H180v160Zm220 220h160v-160H400v160Zm0 220h160v-160H400v160ZM180-400h160v-160H180v160Zm440 0h160v-160H620v160ZM180-180h160v-160H180v160Zm440 0h160v-160H620v160Z\"/>\n",
              "  </svg>\n",
              "    </button>\n",
              "\n",
              "  <style>\n",
              "    .colab-df-container {\n",
              "      display:flex;\n",
              "      gap: 12px;\n",
              "    }\n",
              "\n",
              "    .colab-df-convert {\n",
              "      background-color: #E8F0FE;\n",
              "      border: none;\n",
              "      border-radius: 50%;\n",
              "      cursor: pointer;\n",
              "      display: none;\n",
              "      fill: #1967D2;\n",
              "      height: 32px;\n",
              "      padding: 0 0 0 0;\n",
              "      width: 32px;\n",
              "    }\n",
              "\n",
              "    .colab-df-convert:hover {\n",
              "      background-color: #E2EBFA;\n",
              "      box-shadow: 0px 1px 2px rgba(60, 64, 67, 0.3), 0px 1px 3px 1px rgba(60, 64, 67, 0.15);\n",
              "      fill: #174EA6;\n",
              "    }\n",
              "\n",
              "    .colab-df-buttons div {\n",
              "      margin-bottom: 4px;\n",
              "    }\n",
              "\n",
              "    [theme=dark] .colab-df-convert {\n",
              "      background-color: #3B4455;\n",
              "      fill: #D2E3FC;\n",
              "    }\n",
              "\n",
              "    [theme=dark] .colab-df-convert:hover {\n",
              "      background-color: #434B5C;\n",
              "      box-shadow: 0px 1px 3px 1px rgba(0, 0, 0, 0.15);\n",
              "      filter: drop-shadow(0px 1px 2px rgba(0, 0, 0, 0.3));\n",
              "      fill: #FFFFFF;\n",
              "    }\n",
              "  </style>\n",
              "\n",
              "    <script>\n",
              "      const buttonEl =\n",
              "        document.querySelector('#df-4cd1e0f2-6320-4b90-8a82-1a75b53fdc03 button.colab-df-convert');\n",
              "      buttonEl.style.display =\n",
              "        google.colab.kernel.accessAllowed ? 'block' : 'none';\n",
              "\n",
              "      async function convertToInteractive(key) {\n",
              "        const element = document.querySelector('#df-4cd1e0f2-6320-4b90-8a82-1a75b53fdc03');\n",
              "        const dataTable =\n",
              "          await google.colab.kernel.invokeFunction('convertToInteractive',\n",
              "                                                    [key], {});\n",
              "        if (!dataTable) return;\n",
              "\n",
              "        const docLinkHtml = 'Like what you see? Visit the ' +\n",
              "          '<a target=\"_blank\" href=https://colab.research.google.com/notebooks/data_table.ipynb>data table notebook</a>'\n",
              "          + ' to learn more about interactive tables.';\n",
              "        element.innerHTML = '';\n",
              "        dataTable['output_type'] = 'display_data';\n",
              "        await google.colab.output.renderOutput(dataTable, element);\n",
              "        const docLink = document.createElement('div');\n",
              "        docLink.innerHTML = docLinkHtml;\n",
              "        element.appendChild(docLink);\n",
              "      }\n",
              "    </script>\n",
              "  </div>\n",
              "\n",
              "\n",
              "    <div id=\"df-472f1535-c2ff-4333-b266-0761a841edbf\">\n",
              "      <button class=\"colab-df-quickchart\" onclick=\"quickchart('df-472f1535-c2ff-4333-b266-0761a841edbf')\"\n",
              "                title=\"Suggest charts\"\n",
              "                style=\"display:none;\">\n",
              "\n",
              "<svg xmlns=\"http://www.w3.org/2000/svg\" height=\"24px\"viewBox=\"0 0 24 24\"\n",
              "     width=\"24px\">\n",
              "    <g>\n",
              "        <path d=\"M19 3H5c-1.1 0-2 .9-2 2v14c0 1.1.9 2 2 2h14c1.1 0 2-.9 2-2V5c0-1.1-.9-2-2-2zM9 17H7v-7h2v7zm4 0h-2V7h2v10zm4 0h-2v-4h2v4z\"/>\n",
              "    </g>\n",
              "</svg>\n",
              "      </button>\n",
              "\n",
              "<style>\n",
              "  .colab-df-quickchart {\n",
              "      --bg-color: #E8F0FE;\n",
              "      --fill-color: #1967D2;\n",
              "      --hover-bg-color: #E2EBFA;\n",
              "      --hover-fill-color: #174EA6;\n",
              "      --disabled-fill-color: #AAA;\n",
              "      --disabled-bg-color: #DDD;\n",
              "  }\n",
              "\n",
              "  [theme=dark] .colab-df-quickchart {\n",
              "      --bg-color: #3B4455;\n",
              "      --fill-color: #D2E3FC;\n",
              "      --hover-bg-color: #434B5C;\n",
              "      --hover-fill-color: #FFFFFF;\n",
              "      --disabled-bg-color: #3B4455;\n",
              "      --disabled-fill-color: #666;\n",
              "  }\n",
              "\n",
              "  .colab-df-quickchart {\n",
              "    background-color: var(--bg-color);\n",
              "    border: none;\n",
              "    border-radius: 50%;\n",
              "    cursor: pointer;\n",
              "    display: none;\n",
              "    fill: var(--fill-color);\n",
              "    height: 32px;\n",
              "    padding: 0;\n",
              "    width: 32px;\n",
              "  }\n",
              "\n",
              "  .colab-df-quickchart:hover {\n",
              "    background-color: var(--hover-bg-color);\n",
              "    box-shadow: 0 1px 2px rgba(60, 64, 67, 0.3), 0 1px 3px 1px rgba(60, 64, 67, 0.15);\n",
              "    fill: var(--button-hover-fill-color);\n",
              "  }\n",
              "\n",
              "  .colab-df-quickchart-complete:disabled,\n",
              "  .colab-df-quickchart-complete:disabled:hover {\n",
              "    background-color: var(--disabled-bg-color);\n",
              "    fill: var(--disabled-fill-color);\n",
              "    box-shadow: none;\n",
              "  }\n",
              "\n",
              "  .colab-df-spinner {\n",
              "    border: 2px solid var(--fill-color);\n",
              "    border-color: transparent;\n",
              "    border-bottom-color: var(--fill-color);\n",
              "    animation:\n",
              "      spin 1s steps(1) infinite;\n",
              "  }\n",
              "\n",
              "  @keyframes spin {\n",
              "    0% {\n",
              "      border-color: transparent;\n",
              "      border-bottom-color: var(--fill-color);\n",
              "      border-left-color: var(--fill-color);\n",
              "    }\n",
              "    20% {\n",
              "      border-color: transparent;\n",
              "      border-left-color: var(--fill-color);\n",
              "      border-top-color: var(--fill-color);\n",
              "    }\n",
              "    30% {\n",
              "      border-color: transparent;\n",
              "      border-left-color: var(--fill-color);\n",
              "      border-top-color: var(--fill-color);\n",
              "      border-right-color: var(--fill-color);\n",
              "    }\n",
              "    40% {\n",
              "      border-color: transparent;\n",
              "      border-right-color: var(--fill-color);\n",
              "      border-top-color: var(--fill-color);\n",
              "    }\n",
              "    60% {\n",
              "      border-color: transparent;\n",
              "      border-right-color: var(--fill-color);\n",
              "    }\n",
              "    80% {\n",
              "      border-color: transparent;\n",
              "      border-right-color: var(--fill-color);\n",
              "      border-bottom-color: var(--fill-color);\n",
              "    }\n",
              "    90% {\n",
              "      border-color: transparent;\n",
              "      border-bottom-color: var(--fill-color);\n",
              "    }\n",
              "  }\n",
              "</style>\n",
              "\n",
              "      <script>\n",
              "        async function quickchart(key) {\n",
              "          const quickchartButtonEl =\n",
              "            document.querySelector('#' + key + ' button');\n",
              "          quickchartButtonEl.disabled = true;  // To prevent multiple clicks.\n",
              "          quickchartButtonEl.classList.add('colab-df-spinner');\n",
              "          try {\n",
              "            const charts = await google.colab.kernel.invokeFunction(\n",
              "                'suggestCharts', [key], {});\n",
              "          } catch (error) {\n",
              "            console.error('Error during call to suggestCharts:', error);\n",
              "          }\n",
              "          quickchartButtonEl.classList.remove('colab-df-spinner');\n",
              "          quickchartButtonEl.classList.add('colab-df-quickchart-complete');\n",
              "        }\n",
              "        (() => {\n",
              "          let quickchartButtonEl =\n",
              "            document.querySelector('#df-472f1535-c2ff-4333-b266-0761a841edbf button');\n",
              "          quickchartButtonEl.style.display =\n",
              "            google.colab.kernel.accessAllowed ? 'block' : 'none';\n",
              "        })();\n",
              "      </script>\n",
              "    </div>\n",
              "\n",
              "    </div>\n",
              "  </div>\n"
            ],
            "application/vnd.google.colaboratory.intrinsic+json": {
              "type": "dataframe",
              "variable_name": "df",
              "summary": "{\n  \"name\": \"df\",\n  \"rows\": 54572,\n  \"fields\": [\n    {\n      \"column\": \"summary\",\n      \"properties\": {\n        \"dtype\": \"string\",\n        \"num_unique_values\": 53025,\n        \"samples\": [\n          \"Govt gives approval for disinvestment of Air India\",\n          \"Security officer who placed ISIS note at Mumbai airport held\",\n          \"Las Vegas eatery sells donuts covered with gold\"\n        ],\n        \"semantic_type\": \"\",\n        \"description\": \"\"\n      }\n    },\n    {\n      \"column\": \"text\",\n      \"properties\": {\n        \"dtype\": \"string\",\n        \"num_unique_values\": 53159,\n        \"samples\": [\n          \"Filmmaker Meghna Gulzar, who directed Alia Bhatt's 'Raazi', said, \\\"I'm making film on the life of Field Marshal of our country Sam Manekshaw but it's not a biopic.\\\" Further, talking about 'Raazi', she added, \\\"My last film 'Raazi' was also not a biopic.\\\" Meghna earlier said she feels she does \\\"a better job with true life\\\" stories.\",\n          \"Qatar on Monday filed a legal complaint at the World Trade Organisation (WTO) against a trade boycott by Saudi Arabia, Bahrain, and United Arab Emirates. By formally requesting consultations with the three countries, Qatar has triggered a 60-day deadline for them to settle the complaint or face litigation at the WTO and potential retaliatory trade sanctions.\",\n          \"The in-house logistics arm of Snapdeal, Vulcan Express, will likely form part of the negotiations of the ongoing merger talks between Flipkart and Snapdeal. The final terms of the deal will decide whether Vulcan will be merged with Flipkart's logistics arm Ekart, or continue to operate as a separate entity. Vulcan Express handles more than 55% of Snapdeal's deliveries.\"\n        ],\n        \"semantic_type\": \"\",\n        \"description\": \"\"\n      }\n    },\n    {\n      \"column\": \"author\",\n      \"properties\": {\n        \"dtype\": \"category\",\n        \"num_unique_values\": 43,\n        \"samples\": [\n          \"Rini Kapoor\",\n          \"Rini Sinha\",\n          \"Nihal Thondepu\"\n        ],\n        \"semantic_type\": \"\",\n        \"description\": \"\"\n      }\n    },\n    {\n      \"column\": \"date\",\n      \"properties\": {\n        \"dtype\": \"date\",\n        \"min\": \"2016-12-07 00:00:00\",\n        \"max\": \"2017-08-03 00:00:00\",\n        \"num_unique_values\": 238,\n        \"samples\": [\n          \"27 Jun 2017,Tuesday\",\n          \"19 Jul 2017,Wednesday\",\n          \"21 Mar 2017,Tuesday\"\n        ],\n        \"semantic_type\": \"\",\n        \"description\": \"\"\n      }\n    },\n    {\n      \"column\": \"read_more\",\n      \"properties\": {\n        \"dtype\": \"category\",\n        \"num_unique_values\": 2367,\n        \"samples\": [\n          \"http://indiatoday.intoday.in/story/mumbai-driving-soldier-wife-car-rams-cycle-kids-die/1/833110.html \",\n          \"http://indiatoday.intoday.in/story/brazilian-baby-walks-just-moments-after-birth/1/965725.html \",\n          \"http://indiatoday.intoday.in/story/koffee-with-karan-5-tiger-shroff-dating-disha-patani-crush-jackie-kjo/1/869660.html \"\n        ],\n        \"semantic_type\": \"\",\n        \"description\": \"\"\n      }\n    },\n    {\n      \"column\": \"ctext\",\n      \"properties\": {\n        \"dtype\": \"category\",\n        \"num_unique_values\": 2303,\n        \"samples\": [\n          \"The societal difference between the rich and poor no longer prevails in the city of Chandigarh.With the inception of 'Wall of Kindness' also known as 'Neki ki Diwar', life seems easier for those who spend their nights on the pavements in this shivering cold winter. The whole idea of\\u00a0 the 'Wall of Kindness' originated from NGO Yuvasatta, that works for the benefit of needy. The practice was first initiated in September 2016. They simply hooked up a pipe on a school wall and put up a signboard asking to donate clothes. The initiative goes by the motto ''Leave if you do not need. Take if you need.''\",\n          \"A day after Bihar Chief Minister Nitish Kumar stopped short of asking him to step down in the wake of corruption charges, deputy CM Tejashwi Yadav ruled out possibility of quitting. Tejashwi, who attended the Cabinet meeting called by Nitish alongwith elder brother Tej Pratap, described corruption charges levelled against him as a conspiracy hatched by the Bharatiya Janata Party (BJP). \\\"I was just 13 or 14 when the sale of railway hotels took place. (2004 mein humari moochein bhi nahi aayi thi. 13-14 saal ka baccha ye sab kaise kar sakta hai?),\\\" Tejashwi Yadav told reporters in Patna.\\\"I had pledged zero tolerance on corruption when I took over as minister. Not one case of corruption has been reported in any of the three departments I hold so far,\\\" he said. \\\"FIR against me is political vendetta. Conspiracy by Amit Shah and PM Modi. From Day 1 they have been trying to break our alliance but\\u00a0 Mahagathbandhan is will not break and BJP will get a befitting reply,\\\" Tejashwi, who has been named by the CBI in a land-for-hotel case, said.\\\"First, they feared my father (Lalu) and now they are nervous of me also and therefore they are targeting me,\\\" a defiant Tejashwi said. He went on to play the caste card\\u00a0 asserting that since he came from backward caste, the BJP was targeting him. \\\"People of Bihar elected me. I have been doing good work which has made the BJP and their leaders nervous. I am being targeted because I belong to backward caste,\\\" he said. TEJASHWI WON'T QUIT: LALURJD chief Lalu Yadav has already made it clear that his son won't step down . n his first interview after last week's CBI raids on his family and associates, the former Bihar CM categorically ruled out Tejashwi resigning from Nitish Kumar's Cabinet.Lalu described the CBI raids as part of a conspiracy hatched by Prime Minister Narendra Modi and BJP president Amit Shah to \\\"finish off him and his party - RJD\\\".\\\"Tejashwi was a minor...cricket player when the hotel deal was finalised. These are baseless allegations,\\\" he said.Nitish's JD-U had on Tuesday asked Tejashwi Yadav, an accused in the land-for-hotels scandal, to \\\"come out with facts in public against the accusations\\\" but stopped short of demanding his resignation. ALSO READ:EXCLUSIVE: No question of Tejashwi resigning, says Lalu on Nitish's 4-day ultimatumAs Nitish Kumar decides on dumping Tejashwi Yadav, Lalu's son is hitting political worries for a sixAfter CBI raids on Lalu Prasad Yadav, ED searches farms of Misa Bharti, husband Shailesh in Delhi\",\n          \"India?s ?bloated self-assertiveness? made it infringe on China?s sovereignty and New Delhi had levelled false allegations and accusations against Beijing to serve its hegemonic ambitions, a stinging commentary from the official Chinese media said on Monday evening.The commentary, released by the official Xinhua news agency , said India first levelled false allegations about Chinese encroachment of its territory but later changed the tone to say Indian troops had gone into Doklam (or Donglang) region to ?protect? Bhutan.The piece by Xinhua was the latest in a series of articles and opinion pieces in the state media criticising India for the three-week-old standoff at the strategic tri-junction of India, Bhutan and China. India has said its troops acted in coordination with the Bhutan government to prevent the construction of a road by Chinese troops in the Donglang or Doklam region, which is claimed by Thimphu. China has accused Indian troops of trespassing into its territory.The commentary made specific reference to defence minister Arun Jaitley?s comment that the India of today is different from what it was 1962, when it was defeated in a border war by China.?Bluffing about a potential clash that could be similar to that 55 years ago when India's military suffered a bitter defeat, Indian Defence Minister Arun Jaitley said, ?India in 2017 is different from India in 1962?, implying the country's improved military strength and bloated self-assertiveness,? the commentary said.It added: ?On the other hand, Jaitley should not ignore China's unwavering and consistent stance which has continued over the last five decades and its firm belief in the international justice that no country can pursue its security at the cost of another country's sovereignty.?The commentary said that since the Indian soldiers ?crossed? into Chinese territory and obstructed work on a road in Doklam in June, China had lodged a series of protests demanding that India immediately pull back its troops. ?However, New Delhi views both the incident and its actions quite differently,? it said.?In order to illegally install its troops on Chinese soil for as long as possible and achieve a fait accompli, India firstly claimed its border had been encroached by China. After realising its own false allegation was ridiculous, it changed its tone to its actions to being in the name of ?protecting? Bhutan,? it added.?India, who calls Bhutan an ?ally?, said it had intervened on behalf of its neighbour, yet the true subtext is the South Asian giant wants to maintain and expand regional hegemony,? it said.The Doklam area, under Chinese control, is claimed by Bhutan.But the commentary said: ?The Doklam area has long been recognised as Chinese sovereign territory with a clear history and legal basis, so there is absolutely no reason for India's incursion.?The commentary made no mention of what India has argued and expressed concerns about.New Delhi has said it reached an agreement with Beijing in 2012 that the ?tri-junction boundary points between India, China and third countries will be finalised in consultation with the concerned countries?. Any attempt to unilaterally determine the tri-junction points is a ?violation of this understanding?, the external affairs ministry said last week.The ministry?s statement added that India and China had also reached an understanding in 2012 on the ?basis of the alignment? of the boundary in Sikkim sector and that the finalisation of the frontier was being discussed by the Special Representatives on the border issue.\"\n        ],\n        \"semantic_type\": \"\",\n        \"description\": \"\"\n      }\n    },\n    {\n      \"column\": \"cleaned_text\",\n      \"properties\": {\n        \"dtype\": \"string\",\n        \"num_unique_values\": 52934,\n        \"samples\": [\n          \"tamil nadu s municipal administration minister sp velumani said that the state is better prepared to manage heavy rainfall than the united states and the united kingdom meanwhile around four people have died due to rain related incidents in tamil nadu prompting the state administration to issue an order to keep all the schools shut for the third consecutive day \",\n          \"the number of applications for driving licences in delhi doubled within a day after the online mode for the payment of fees was reintroduced as per reports the number of daily applications for driving licences stood at around 300 till december 24 and it shot up to over 700 on december 26 the next working day \",\n          \"dubai has started testing world s first two seater self flying taxi called autonomous air taxi aat for transportation the aat supplied by german manufacturer volocopter was unmanned and hovered 200 metres above the ground during the test flight the electric prototype studded with 18 propellers has a maximum flight time of 30 minutes and a maximum airspeed of 100 kmph \"\n        ],\n        \"semantic_type\": \"\",\n        \"description\": \"\"\n      }\n    },\n    {\n      \"column\": \"cleaned_summary\",\n      \"properties\": {\n        \"dtype\": \"string\",\n        \"num_unique_values\": 52923,\n        \"samples\": [\n          \"sostok _START_ william nordhaus paul romer win 50th nobel prize for economics _END_ eostok\",\n          \"sostok _START_ india s search bias ruling may harm our reputation google _END_ eostok\",\n          \"sostok _START_ bmc denies ganesh mandal s demand for online approval _END_ eostok\"\n        ],\n        \"semantic_type\": \"\",\n        \"description\": \"\"\n      }\n    }\n  ]\n}"
            }
          },
          "metadata": {},
          "execution_count": 119
        }
      ],
      "source": [
        "df.head()"
      ]
    },
    {
      "cell_type": "code",
      "execution_count": 120,
      "metadata": {
        "colab": {
          "base_uri": "https://localhost:8080/"
        },
        "id": "etOSHt30q36b",
        "outputId": "04054322-e75c-420f-f565-a64d8a0fdac6"
      },
      "outputs": [
        {
          "output_type": "execute_result",
          "data": {
            "text/plain": [
              "(54572, 8)"
            ]
          },
          "metadata": {},
          "execution_count": 120
        }
      ],
      "source": [
        "df.shape\n"
      ]
    },
    {
      "cell_type": "code",
      "execution_count": 121,
      "metadata": {
        "colab": {
          "base_uri": "https://localhost:8080/"
        },
        "id": "agLNbp2zsDmC",
        "outputId": "c3a67168-898c-4dd0-c490-7b49a313e382"
      },
      "outputs": [
        {
          "output_type": "execute_result",
          "data": {
            "text/plain": [
              "74"
            ]
          },
          "metadata": {},
          "execution_count": 121
        }
      ],
      "source": [
        "df['cleaned_text'].str.split().str.len().max() #huh"
      ]
    },
    {
      "cell_type": "code",
      "execution_count": 122,
      "metadata": {
        "colab": {
          "base_uri": "https://localhost:8080/"
        },
        "id": "I_n4CK3ysOdB",
        "outputId": "0778eaab-7c84-4297-9894-5c3ee9e63ba4"
      },
      "outputs": [
        {
          "output_type": "execute_result",
          "data": {
            "text/plain": [
              "21"
            ]
          },
          "metadata": {},
          "execution_count": 122
        }
      ],
      "source": [
        "df['cleaned_summary'].str.split().str.len().max()"
      ]
    },
    {
      "cell_type": "code",
      "execution_count": 123,
      "metadata": {
        "colab": {
          "base_uri": "https://localhost:8080/"
        },
        "id": "lGcY7sd9sToF",
        "outputId": "5f21f65a-ecb1-41ca-98ef-3b64c02053fc"
      },
      "outputs": [
        {
          "output_type": "stream",
          "name": "stdout",
          "text": [
            "(38095, 8)\n"
          ]
        }
      ],
      "source": [
        "df = df[((df.cleaned_text.str.split().str.len()<=config['max_text_len']) &\n",
        "                (df.cleaned_summary.str.split().str.len()<=(config['max_summary_len']+4)))].copy()\n",
        "df = df.reset_index(drop=True)\n",
        "print(df.shape)\n"
      ]
    },
    {
      "cell_type": "code",
      "execution_count": 124,
      "metadata": {
        "colab": {
          "base_uri": "https://localhost:8080/"
        },
        "id": "ZloCa_k6s3ug",
        "outputId": "89d67782-8d22-492f-c0fa-a263cdbd139d"
      },
      "outputs": [
        {
          "output_type": "stream",
          "name": "stdout",
          "text": [
            "max len of text :  60 \n",
            " Max len of summary :  21\n"
          ]
        }
      ],
      "source": [
        "print(\"max len of text : \",df['cleaned_text'].str.split().str.len().max(),\"\\n Max len of summary : \",df['cleaned_summary'].str.split().str.len().max())"
      ]
    },
    {
      "cell_type": "code",
      "execution_count": 125,
      "metadata": {
        "id": "GljMWSrtufUm"
      },
      "outputs": [],
      "source": [
        "df=df.drop(['text','summary'],axis=1)"
      ]
    },
    {
      "cell_type": "code",
      "execution_count": 126,
      "metadata": {
        "id": "83Lu0v2HurnU"
      },
      "outputs": [],
      "source": [
        "df.rename(columns={'cleaned_text': 'text','cleaned_summary': 'summary'},inplace=True)"
      ]
    },
    {
      "cell_type": "code",
      "execution_count": 127,
      "metadata": {
        "colab": {
          "base_uri": "https://localhost:8080/",
          "height": 310
        },
        "id": "I155bCl1u09v",
        "outputId": "92c45376-e90e-4131-866f-0d988deb433e"
      },
      "outputs": [
        {
          "output_type": "execute_result",
          "data": {
            "text/plain": [
              "  author date read_more ctext  \\\n",
              "0    NaN  NaN       NaN   NaN   \n",
              "1    NaN  NaN       NaN   NaN   \n",
              "2    NaN  NaN       NaN   NaN   \n",
              "3    NaN  NaN       NaN   NaN   \n",
              "4    NaN  NaN       NaN   NaN   \n",
              "\n",
              "                                                text  \\\n",
              "0  pakistani singer rahat fateh ali khan has deni...   \n",
              "1  andhra pradesh cm n chandrababu naidu has said...   \n",
              "2  filmmaker karan johar and actress tabu turned ...   \n",
              "3  days after he threatened to step down from his...   \n",
              "4  claiming there is a dearth of ideas among oppo...   \n",
              "\n",
              "                                             summary  \n",
              "0  sostok _START_ rahat fateh ali khan denies get...  \n",
              "1  sostok _START_ called pm modi sir 10 times to ...  \n",
              "2  sostok _START_ karan johar tabu turn showstopp...  \n",
              "3  sostok _START_ how long can i tolerate congres...  \n",
              "4  sostok _START_ i think the opposition even dre...  "
            ],
            "text/html": [
              "\n",
              "  <div id=\"df-e94da416-353e-45ad-9b90-86ea75514948\" class=\"colab-df-container\">\n",
              "    <div>\n",
              "<style scoped>\n",
              "    .dataframe tbody tr th:only-of-type {\n",
              "        vertical-align: middle;\n",
              "    }\n",
              "\n",
              "    .dataframe tbody tr th {\n",
              "        vertical-align: top;\n",
              "    }\n",
              "\n",
              "    .dataframe thead th {\n",
              "        text-align: right;\n",
              "    }\n",
              "</style>\n",
              "<table border=\"1\" class=\"dataframe\">\n",
              "  <thead>\n",
              "    <tr style=\"text-align: right;\">\n",
              "      <th></th>\n",
              "      <th>author</th>\n",
              "      <th>date</th>\n",
              "      <th>read_more</th>\n",
              "      <th>ctext</th>\n",
              "      <th>text</th>\n",
              "      <th>summary</th>\n",
              "    </tr>\n",
              "  </thead>\n",
              "  <tbody>\n",
              "    <tr>\n",
              "      <th>0</th>\n",
              "      <td>NaN</td>\n",
              "      <td>NaN</td>\n",
              "      <td>NaN</td>\n",
              "      <td>NaN</td>\n",
              "      <td>pakistani singer rahat fateh ali khan has deni...</td>\n",
              "      <td>sostok _START_ rahat fateh ali khan denies get...</td>\n",
              "    </tr>\n",
              "    <tr>\n",
              "      <th>1</th>\n",
              "      <td>NaN</td>\n",
              "      <td>NaN</td>\n",
              "      <td>NaN</td>\n",
              "      <td>NaN</td>\n",
              "      <td>andhra pradesh cm n chandrababu naidu has said...</td>\n",
              "      <td>sostok _START_ called pm modi sir 10 times to ...</td>\n",
              "    </tr>\n",
              "    <tr>\n",
              "      <th>2</th>\n",
              "      <td>NaN</td>\n",
              "      <td>NaN</td>\n",
              "      <td>NaN</td>\n",
              "      <td>NaN</td>\n",
              "      <td>filmmaker karan johar and actress tabu turned ...</td>\n",
              "      <td>sostok _START_ karan johar tabu turn showstopp...</td>\n",
              "    </tr>\n",
              "    <tr>\n",
              "      <th>3</th>\n",
              "      <td>NaN</td>\n",
              "      <td>NaN</td>\n",
              "      <td>NaN</td>\n",
              "      <td>NaN</td>\n",
              "      <td>days after he threatened to step down from his...</td>\n",
              "      <td>sostok _START_ how long can i tolerate congres...</td>\n",
              "    </tr>\n",
              "    <tr>\n",
              "      <th>4</th>\n",
              "      <td>NaN</td>\n",
              "      <td>NaN</td>\n",
              "      <td>NaN</td>\n",
              "      <td>NaN</td>\n",
              "      <td>claiming there is a dearth of ideas among oppo...</td>\n",
              "      <td>sostok _START_ i think the opposition even dre...</td>\n",
              "    </tr>\n",
              "  </tbody>\n",
              "</table>\n",
              "</div>\n",
              "    <div class=\"colab-df-buttons\">\n",
              "\n",
              "  <div class=\"colab-df-container\">\n",
              "    <button class=\"colab-df-convert\" onclick=\"convertToInteractive('df-e94da416-353e-45ad-9b90-86ea75514948')\"\n",
              "            title=\"Convert this dataframe to an interactive table.\"\n",
              "            style=\"display:none;\">\n",
              "\n",
              "  <svg xmlns=\"http://www.w3.org/2000/svg\" height=\"24px\" viewBox=\"0 -960 960 960\">\n",
              "    <path d=\"M120-120v-720h720v720H120Zm60-500h600v-160H180v160Zm220 220h160v-160H400v160Zm0 220h160v-160H400v160ZM180-400h160v-160H180v160Zm440 0h160v-160H620v160ZM180-180h160v-160H180v160Zm440 0h160v-160H620v160Z\"/>\n",
              "  </svg>\n",
              "    </button>\n",
              "\n",
              "  <style>\n",
              "    .colab-df-container {\n",
              "      display:flex;\n",
              "      gap: 12px;\n",
              "    }\n",
              "\n",
              "    .colab-df-convert {\n",
              "      background-color: #E8F0FE;\n",
              "      border: none;\n",
              "      border-radius: 50%;\n",
              "      cursor: pointer;\n",
              "      display: none;\n",
              "      fill: #1967D2;\n",
              "      height: 32px;\n",
              "      padding: 0 0 0 0;\n",
              "      width: 32px;\n",
              "    }\n",
              "\n",
              "    .colab-df-convert:hover {\n",
              "      background-color: #E2EBFA;\n",
              "      box-shadow: 0px 1px 2px rgba(60, 64, 67, 0.3), 0px 1px 3px 1px rgba(60, 64, 67, 0.15);\n",
              "      fill: #174EA6;\n",
              "    }\n",
              "\n",
              "    .colab-df-buttons div {\n",
              "      margin-bottom: 4px;\n",
              "    }\n",
              "\n",
              "    [theme=dark] .colab-df-convert {\n",
              "      background-color: #3B4455;\n",
              "      fill: #D2E3FC;\n",
              "    }\n",
              "\n",
              "    [theme=dark] .colab-df-convert:hover {\n",
              "      background-color: #434B5C;\n",
              "      box-shadow: 0px 1px 3px 1px rgba(0, 0, 0, 0.15);\n",
              "      filter: drop-shadow(0px 1px 2px rgba(0, 0, 0, 0.3));\n",
              "      fill: #FFFFFF;\n",
              "    }\n",
              "  </style>\n",
              "\n",
              "    <script>\n",
              "      const buttonEl =\n",
              "        document.querySelector('#df-e94da416-353e-45ad-9b90-86ea75514948 button.colab-df-convert');\n",
              "      buttonEl.style.display =\n",
              "        google.colab.kernel.accessAllowed ? 'block' : 'none';\n",
              "\n",
              "      async function convertToInteractive(key) {\n",
              "        const element = document.querySelector('#df-e94da416-353e-45ad-9b90-86ea75514948');\n",
              "        const dataTable =\n",
              "          await google.colab.kernel.invokeFunction('convertToInteractive',\n",
              "                                                    [key], {});\n",
              "        if (!dataTable) return;\n",
              "\n",
              "        const docLinkHtml = 'Like what you see? Visit the ' +\n",
              "          '<a target=\"_blank\" href=https://colab.research.google.com/notebooks/data_table.ipynb>data table notebook</a>'\n",
              "          + ' to learn more about interactive tables.';\n",
              "        element.innerHTML = '';\n",
              "        dataTable['output_type'] = 'display_data';\n",
              "        await google.colab.output.renderOutput(dataTable, element);\n",
              "        const docLink = document.createElement('div');\n",
              "        docLink.innerHTML = docLinkHtml;\n",
              "        element.appendChild(docLink);\n",
              "      }\n",
              "    </script>\n",
              "  </div>\n",
              "\n",
              "\n",
              "    <div id=\"df-a668cd3d-38f0-47c3-bec8-cb5b7fbd62ca\">\n",
              "      <button class=\"colab-df-quickchart\" onclick=\"quickchart('df-a668cd3d-38f0-47c3-bec8-cb5b7fbd62ca')\"\n",
              "                title=\"Suggest charts\"\n",
              "                style=\"display:none;\">\n",
              "\n",
              "<svg xmlns=\"http://www.w3.org/2000/svg\" height=\"24px\"viewBox=\"0 0 24 24\"\n",
              "     width=\"24px\">\n",
              "    <g>\n",
              "        <path d=\"M19 3H5c-1.1 0-2 .9-2 2v14c0 1.1.9 2 2 2h14c1.1 0 2-.9 2-2V5c0-1.1-.9-2-2-2zM9 17H7v-7h2v7zm4 0h-2V7h2v10zm4 0h-2v-4h2v4z\"/>\n",
              "    </g>\n",
              "</svg>\n",
              "      </button>\n",
              "\n",
              "<style>\n",
              "  .colab-df-quickchart {\n",
              "      --bg-color: #E8F0FE;\n",
              "      --fill-color: #1967D2;\n",
              "      --hover-bg-color: #E2EBFA;\n",
              "      --hover-fill-color: #174EA6;\n",
              "      --disabled-fill-color: #AAA;\n",
              "      --disabled-bg-color: #DDD;\n",
              "  }\n",
              "\n",
              "  [theme=dark] .colab-df-quickchart {\n",
              "      --bg-color: #3B4455;\n",
              "      --fill-color: #D2E3FC;\n",
              "      --hover-bg-color: #434B5C;\n",
              "      --hover-fill-color: #FFFFFF;\n",
              "      --disabled-bg-color: #3B4455;\n",
              "      --disabled-fill-color: #666;\n",
              "  }\n",
              "\n",
              "  .colab-df-quickchart {\n",
              "    background-color: var(--bg-color);\n",
              "    border: none;\n",
              "    border-radius: 50%;\n",
              "    cursor: pointer;\n",
              "    display: none;\n",
              "    fill: var(--fill-color);\n",
              "    height: 32px;\n",
              "    padding: 0;\n",
              "    width: 32px;\n",
              "  }\n",
              "\n",
              "  .colab-df-quickchart:hover {\n",
              "    background-color: var(--hover-bg-color);\n",
              "    box-shadow: 0 1px 2px rgba(60, 64, 67, 0.3), 0 1px 3px 1px rgba(60, 64, 67, 0.15);\n",
              "    fill: var(--button-hover-fill-color);\n",
              "  }\n",
              "\n",
              "  .colab-df-quickchart-complete:disabled,\n",
              "  .colab-df-quickchart-complete:disabled:hover {\n",
              "    background-color: var(--disabled-bg-color);\n",
              "    fill: var(--disabled-fill-color);\n",
              "    box-shadow: none;\n",
              "  }\n",
              "\n",
              "  .colab-df-spinner {\n",
              "    border: 2px solid var(--fill-color);\n",
              "    border-color: transparent;\n",
              "    border-bottom-color: var(--fill-color);\n",
              "    animation:\n",
              "      spin 1s steps(1) infinite;\n",
              "  }\n",
              "\n",
              "  @keyframes spin {\n",
              "    0% {\n",
              "      border-color: transparent;\n",
              "      border-bottom-color: var(--fill-color);\n",
              "      border-left-color: var(--fill-color);\n",
              "    }\n",
              "    20% {\n",
              "      border-color: transparent;\n",
              "      border-left-color: var(--fill-color);\n",
              "      border-top-color: var(--fill-color);\n",
              "    }\n",
              "    30% {\n",
              "      border-color: transparent;\n",
              "      border-left-color: var(--fill-color);\n",
              "      border-top-color: var(--fill-color);\n",
              "      border-right-color: var(--fill-color);\n",
              "    }\n",
              "    40% {\n",
              "      border-color: transparent;\n",
              "      border-right-color: var(--fill-color);\n",
              "      border-top-color: var(--fill-color);\n",
              "    }\n",
              "    60% {\n",
              "      border-color: transparent;\n",
              "      border-right-color: var(--fill-color);\n",
              "    }\n",
              "    80% {\n",
              "      border-color: transparent;\n",
              "      border-right-color: var(--fill-color);\n",
              "      border-bottom-color: var(--fill-color);\n",
              "    }\n",
              "    90% {\n",
              "      border-color: transparent;\n",
              "      border-bottom-color: var(--fill-color);\n",
              "    }\n",
              "  }\n",
              "</style>\n",
              "\n",
              "      <script>\n",
              "        async function quickchart(key) {\n",
              "          const quickchartButtonEl =\n",
              "            document.querySelector('#' + key + ' button');\n",
              "          quickchartButtonEl.disabled = true;  // To prevent multiple clicks.\n",
              "          quickchartButtonEl.classList.add('colab-df-spinner');\n",
              "          try {\n",
              "            const charts = await google.colab.kernel.invokeFunction(\n",
              "                'suggestCharts', [key], {});\n",
              "          } catch (error) {\n",
              "            console.error('Error during call to suggestCharts:', error);\n",
              "          }\n",
              "          quickchartButtonEl.classList.remove('colab-df-spinner');\n",
              "          quickchartButtonEl.classList.add('colab-df-quickchart-complete');\n",
              "        }\n",
              "        (() => {\n",
              "          let quickchartButtonEl =\n",
              "            document.querySelector('#df-a668cd3d-38f0-47c3-bec8-cb5b7fbd62ca button');\n",
              "          quickchartButtonEl.style.display =\n",
              "            google.colab.kernel.accessAllowed ? 'block' : 'none';\n",
              "        })();\n",
              "      </script>\n",
              "    </div>\n",
              "\n",
              "    </div>\n",
              "  </div>\n"
            ],
            "application/vnd.google.colaboratory.intrinsic+json": {
              "type": "dataframe",
              "variable_name": "df",
              "summary": "{\n  \"name\": \"df\",\n  \"rows\": 38095,\n  \"fields\": [\n    {\n      \"column\": \"author\",\n      \"properties\": {\n        \"dtype\": \"category\",\n        \"num_unique_values\": 42,\n        \"samples\": [\n          \"Vani Vivek\",\n          \"Saloni Tandon\",\n          \"Niharika Prabhakar\"\n        ],\n        \"semantic_type\": \"\",\n        \"description\": \"\"\n      }\n    },\n    {\n      \"column\": \"date\",\n      \"properties\": {\n        \"dtype\": \"date\",\n        \"min\": \"2016-12-07 00:00:00\",\n        \"max\": \"2017-08-03 00:00:00\",\n        \"num_unique_values\": 236,\n        \"samples\": [\n          \"31 Dec 2016,Saturday\",\n          \"11 Apr 2017,Tuesday\",\n          \"20 Apr 2017,Thursday\"\n        ],\n        \"semantic_type\": \"\",\n        \"description\": \"\"\n      }\n    },\n    {\n      \"column\": \"read_more\",\n      \"properties\": {\n        \"dtype\": \"category\",\n        \"num_unique_values\": 1734,\n        \"samples\": [\n          \"http://indiatoday.intoday.in/story/jharkhand-minster-hari-narayan-rai-money-laundering-case/1/870611.html \",\n          \"http://www.hindustantimes.com/india-news/no-immediate-arrests-in-dowry-harassment-cases-sc-rules-to-curb-misuse-by-disgruntled-wives/story-Kb0FhYidsg3YKedZoN8gzJ.html?utm_source=inshorts&utm_medium=referral&utm_campaign=fullarticle \",\n          \"http://indiatoday.intoday.in/story/aamir-khan-dangal-amul-cartoon-mahavir-singh-phogat-nitesh-tiwari/1/843741.html \"\n        ],\n        \"semantic_type\": \"\",\n        \"description\": \"\"\n      }\n    },\n    {\n      \"column\": \"ctext\",\n      \"properties\": {\n        \"dtype\": \"category\",\n        \"num_unique_values\": 1690,\n        \"samples\": [\n          \"The communications regulator is hunting a radio pirate who has repeatedly hijacked the airwaves of a local station with a deliberately offensive song about masturbation.The Winker?s Song, a 1970s ditty by an artist going by the name Ivor Biggun, has been illegally forced on to the output of Mansfield 103.2 at least eight times in the last month.Ofcom said it was taking the incident ?extremely seriously? and its engineers were working closely with the radio station to trace and identify the pirate.Listeners were last subjected to the song, which uses the word ?wanker? 36 times, this weekend during a live family broadcast from Mansfield?s Party in the Market event.It is believed the rogue broadcaster could be using a small transmitter to play the adult theme on the same frequency, overriding the station?s scheduled programming. Tony Delahunty, managing director of Mansfield 103.2, said: ?Some people have told me that their children have started humming the song in the car. ?We have had calls from people who have found it hilarious, while some have raised their concerns, including our competitors, and a lot of people in the industry are aghast at how difficult it is to stop these people.?Speaking to BBC Radio 4?s Today programme, he added: ?There?s is absolutely nothing we could do about it and we?re trying very hard to do something about it.?We are told by Ofcom who are investigating the matter, that you only need, and this is the frightening thing, a small transmitter and if you can get near where there is an outside broadcast or a signal and you can overpower that signal [and] you?re on the airwaves.?He claimed the incidents raised the potential for a more serious hijacking of a radio station. ?This is a clown but it exposes a situation that is available for, who knows a terrorist, that type of person, some idiot who wants to put emergency messages on. It could become an awful lot worse. The big problem is you can?t catch them ??I want it to stop, because it could be inflicting a very nasty message to very young kids and their parents could be annoyed.?Ofcom said maliciously causing radio interference was a criminal offence carrying a potential sentence of two years in prison and an unlimited fine.But a spokesman said ?it doesn?t happen that often? and requires specialist knowledge and equipment. ?You need quite a high-powered transmitter to be able to go over the levels that the station is broadcasting at to interrupt their frequencies.Ofcom stressed that it is not as easy to hack a radio station as Delahunty suggested He added: ?We have a spectrum enforcement team who look after our airwaves and make sure they are kept free from interference, whether it is deliberate or accidental, and we have strong enforcement powers.If radio stations broadcast content that is deemed harmful or offensive, under the Digital Economy Act they can be suspended. Last week Ofcom suspended Sheffield based Imam FM after it broadcast lectures from a former terrorist leader.\",\n          \"programmes Mumbai, Mar 6 (PTI) The Maharashtra Government spent Rs 8 crore from Contingency Fund to meet publicity expenses for the foundation stone laying ceremonies of various projects which were kicked off by Prime Minister Narendra Modi last December. The projects also included the \\\"jal poojan\\\" of the Chhatrapati Shivaji memorial in Arabin sea. \\\"It was decided to provide funds of Rs 8 crore for advertisement and publicity for the Jal Poojan ceremony of the memorial of Chhatrapati Shivaji Maharaj and (for) inauguration of Mumbai Metro line, Sweree-Nhawa Sheva project and new railway projects under Mumbai Urban Transport Project (MUTP),\\\" the PWD Department stated in the supplementary demands for grants tabled by Finance department in both Houses of the Maharashtra legislature on the first day of the Budget session. The supplementary demands for grants worth Rs 11104 crore, 96 lakh, 25 thousand would be discussed on March 14 and 15. During his visit to Mumbai on December 24, Modi had performed \\\"Jal Poojan\\\" for the Shivaji memorial in Arabian sea. He had also laid the foundation stones for key infrastructure projects, including 22.5-km Mumbai Trans Harbour Link, two new metro projects, and for multiple works to be carried out as part of the third phase of the Mumbai Urban Transport Project. The PWD stated that the amount was withdrawn from contingency fund (CF) since the expenditure was of an \\\"urgent nature\\\". However, the Leader of Opposition in the Legislative Council Dhananjay Munde (NCP) criticised the government over withdrawal from the CF. \\\"The CF is reserved for purposes of urgency and this fund must be used carefully. However, the state has a normal practice of using the CF for any purpose. \",\n          \"Mumbai, Apr 30 (PTI) A large number of big corporates and reputed developers are entering the affordable housing segment, attracted by huge tax benefits and reforms initiated by the government, eminent banker Deepak Parekh has said. He also expressed hope that real estate prices would decline more once RBI allows banks and housing finance firms to lend to developers for land purchases and approval processes for projects are further streamlined and shortened. Lauding the NDA government for coordinated efforts of the Prime Ministers Office with various ministries and departments on the Housing for All by 2022 mission, Parekh said this has been one of the main promises made by Prime Minister Narendra Modi and several steps have been taken, especially this year, to achieve this goal. \\\"I will call this years Budget an affordable housing budget. I am very excited about housing growth in India in next 3-5 years and I have never been so enthused about it,\\\" Parekh told PTI in an interview. Parekh, Chairman of housing finance major HDFC Ltd, said the government is focusing on \\\"practical and realistic steps\\\" which are good for developers, consumers and even the lenders. Speaking in detail about various schemes and measures, Parekh said the government has extended the 100 per cent tax deduction scheme for affordable housing projects approved between June 2016 and March 2019, by two more years till 2021. \\\"What this effectively means is that any developer, for affordable housing project, has to pay zero tax. I do not know of any industry in India where you have to pay zero tax even if you make profit, other than in affordable housing. \\\"It shows the importance, the urgency and the critical need that housing requires in a vast country like ours,\\\" he said. Parekh also said that a clear carpet area definition has been put in place for affordable housing units -- 30 sq meters in four metros and 60 square meters for rest of the country. \\\"They have also made it clear that these measurements are for municipal limits, so areas like Navi Mumbai and Thane would not have Mumbai limit of 30 sq mt. The business leader said the infrastructure status to affordable housing is another major benefit that builders have been given by the government and this will help lenders too. \\\"This means they can take long-term funds from institutions such as insurers and pension funds. Insurance firms and pension funds need to invest certain portion of their money in infrastructure sector and the affordable housing now qualifies for those funds. \\\"The RERA (Real Estate Regulatory Act) and these new measures will also stop the practice of builders taking full money in advance from the customers and then building the project entirely on the basis of customers money. \\\"The tax benefit is attracting builders in a big way to affordable housing. We have seen big builders in big cities approaching us that they want to get into affordable housing. We are supporting the builders for getting into affordable housing,\\\" he said. Talking about other steps that would give a big fillip to the sector, he said the housing loan interest subsidy scheme is a game changer that gives subsidy of up to 6.5 per cent. The scheme was initially launched for EWS/LIG but now has been modified and extended to MIG also which is a very good step. \\\"There are 3-4 other things which the government has done. Holding of property is down to 2 years to qualify as a long term capital asset,\\\" he said. On other good provisions, Parekh said when a builder earlier had unsold flats in a completed project, the notional rent was taxed on these unsold flats from the year in which the project was completed. Now, notional rent of properties will be taken as nil for one year from the date of obtaining completion certificate. \"\n        ],\n        \"semantic_type\": \"\",\n        \"description\": \"\"\n      }\n    },\n    {\n      \"column\": \"text\",\n      \"properties\": {\n        \"dtype\": \"string\",\n        \"num_unique_values\": 36889,\n        \"samples\": [\n          \"a swedish activist prevented an afghan asylum seeker s deportation by refusing to sit down until he was removed from the flight elin ersson livestreamed her protest a footage of which emerged on social media ersson is heard saying that the man will most likely get killed in afghanistan following which both of them were taken off the plane \",\n          \"a video was posted on twitter that showed a pakistani cricket fan singing the indian national anthem while attending the match between india and pakistan in the asia cup on wednesday earlier pakistan s superfan bashir chacha helped indian fan sudhir gautam financially so that the latter could travel to uae to witness the matches in the asia cup 2018 \",\n          \"mumbai based online fashion startup fynd has raised an undisclosed amount of funding in its series c round led by technology major google existing investors including kae capital iifl singularity ventures and venture catalyst also participated in the funding round founded in 2012 by harsh shah farooq adam and sreeraman mg fynd retails lifestyle products for both men and women \"\n        ],\n        \"semantic_type\": \"\",\n        \"description\": \"\"\n      }\n    },\n    {\n      \"column\": \"summary\",\n      \"properties\": {\n        \"dtype\": \"string\",\n        \"num_unique_values\": 36884,\n        \"samples\": [\n          \"sostok _START_ messenger updates that disappear in 24 hrs launched in india _END_ eostok\",\n          \"sostok _START_ release date of tiger s student of the year 2 announced _END_ eostok\",\n          \"sostok _START_ vrindavan temples to boycott chinese goods for janmashtami _END_ eostok\"\n        ],\n        \"semantic_type\": \"\",\n        \"description\": \"\"\n      }\n    }\n  ]\n}"
            }
          },
          "metadata": {},
          "execution_count": 127
        }
      ],
      "source": [
        "df.head()"
      ]
    },
    {
      "cell_type": "code",
      "execution_count": 128,
      "metadata": {
        "id": "ozFb5mdDs7_V"
      },
      "outputs": [],
      "source": [
        "#good enough"
      ]
    },
    {
      "cell_type": "code",
      "execution_count": 129,
      "metadata": {
        "id": "csh3GdtEtQYK"
      },
      "outputs": [],
      "source": [
        "# Calculating %of words that come less than 5 times in entire corpus\n",
        "\n",
        "# Are you asking why?\n",
        "# thats because having them in corpus will just increase the vocabulary size , aint really good for our model"
      ]
    },
    {
      "cell_type": "code",
      "execution_count": 130,
      "metadata": {
        "id": "VZxefTYbtxLt"
      },
      "outputs": [],
      "source": [
        "def rare_words(text):\n",
        "  #tokenizer\n",
        "  tokenizer=Tokenizer()\n",
        "  tokenizer.fit_on_texts(list(text))\n",
        "  #not using the tokenizer.tokenize as its pdFrame\n",
        "\n",
        "  threshold=5\n",
        "  count=0\n",
        "  total_count=0\n",
        "\n",
        "\n",
        "  for key,value in tokenizer.word_counts.items():\n",
        "    total_count=total_count+ 1\n",
        "    if value < threshold :\n",
        "      count=count+1\n",
        "  print((count/total_count)*100,\"% of words are rare\")\n",
        "\n",
        "  return count,total_count\n",
        "\n"
      ]
    },
    {
      "cell_type": "code",
      "execution_count": 131,
      "metadata": {
        "id": "zTmAS3Xv7Srk"
      },
      "outputs": [],
      "source": [
        "from sklearn.model_selection import train_test_split"
      ]
    },
    {
      "cell_type": "code",
      "execution_count": 132,
      "metadata": {
        "id": "pgvsnxkqxOUz"
      },
      "outputs": [],
      "source": [
        "X_train,X_val,y_train,y_val=train_test_split(df['text'],df['summary'],test_size=0.2,random_state=42)"
      ]
    },
    {
      "cell_type": "code",
      "execution_count": 133,
      "metadata": {
        "colab": {
          "base_uri": "https://localhost:8080/"
        },
        "id": "L4zlNtho6T9n",
        "outputId": "dc592e3e-89b7-4e42-8fc9-022eaaa9b4d0"
      },
      "outputs": [
        {
          "output_type": "stream",
          "name": "stdout",
          "text": [
            "64.50334356389358 % of words are rare\n"
          ]
        }
      ],
      "source": [
        "x_train_count,x_train_total_count=rare_words(X_train)\n"
      ]
    },
    {
      "cell_type": "code",
      "execution_count": 134,
      "metadata": {
        "colab": {
          "base_uri": "https://localhost:8080/"
        },
        "id": "edBOkq9c9wzv",
        "outputId": "797dc64c-c3e5-4dd5-c821-f82cefef8e2c"
      },
      "outputs": [
        {
          "output_type": "stream",
          "name": "stdout",
          "text": [
            "67.73699617203333 % of words are rare\n"
          ]
        }
      ],
      "source": [
        "y_train_count,y_train_total_count=rare_words(y_train)"
      ]
    },
    {
      "cell_type": "code",
      "execution_count": 135,
      "metadata": {
        "colab": {
          "base_uri": "https://localhost:8080/"
        },
        "id": "Tr-0kDJX7p3x",
        "outputId": "8326cc08-fdcc-4d87-b3ba-dbb153fdfc75"
      },
      "outputs": [
        {
          "output_type": "execute_result",
          "data": {
            "text/plain": [
              "(31735, 49199)"
            ]
          },
          "metadata": {},
          "execution_count": 135
        }
      ],
      "source": [
        "x_train_count,x_train_total_count"
      ]
    },
    {
      "cell_type": "markdown",
      "metadata": {
        "id": "UlFnGlcx8d8U"
      },
      "source": [
        "### Tokenization"
      ]
    },
    {
      "cell_type": "code",
      "execution_count": 136,
      "metadata": {
        "colab": {
          "base_uri": "https://localhost:8080/",
          "height": 115
        },
        "id": "T_oFPl5o8D8u",
        "outputId": "2966d889-b49d-45fb-f708-b8b539247374"
      },
      "outputs": [
        {
          "output_type": "execute_result",
          "data": {
            "text/plain": [
              "'pakistani singer rahat fateh ali khan has denied receiving any notice from the enforcement directorate over allegedly smuggling foreign currency out of india it would have been better if the authorities would have served the notice first if any and then publicised this reads a press release issued on behalf of rahat the statement further called the allegation bizarre '"
            ],
            "application/vnd.google.colaboratory.intrinsic+json": {
              "type": "string"
            }
          },
          "metadata": {},
          "execution_count": 136
        }
      ],
      "source": [
        "x_tokenizer=Tokenizer(num_words=x_train_total_count-x_train_count) #only get top numwords frequent words\n",
        "x_tokenizer.fit_on_texts(list(X_train))\n",
        "\n",
        "#convertin text into integers\n",
        "x_train_seq=x_tokenizer.texts_to_sequences(X_train)\n",
        "x_val_seq=x_tokenizer.texts_to_sequences(X_val)\n",
        "#padding\n",
        "x_train_padded=pad_sequences(x_train_seq,maxlen=config['max_text_len'],padding='post')\n",
        "x_val_padded=pad_sequences(x_val_seq,maxlen=config['max_text_len'],padding='post')\n",
        "\n",
        "# size of vocabulary (+1 for padding token)\n",
        "x_vocabulary_size=x_tokenizer.num_words+1\n",
        "X_train[0]\n"
      ]
    },
    {
      "cell_type": "code",
      "execution_count": 137,
      "metadata": {
        "colab": {
          "base_uri": "https://localhost:8080/"
        },
        "id": "yJeDy_gL9Tto",
        "outputId": "deb23ce8-153f-46d7-9565-0b2a695b6a3a"
      },
      "outputs": [
        {
          "output_type": "execute_result",
          "data": {
            "text/plain": [
              "array([12543, 13123,     8,  2963,     1,  1850,   223,   473,  1190,\n",
              "        1390,    11,     1,  2897,   134,   535, 15696, 15696,     1,\n",
              "         473,     8,    29,  2305,    15,  3428,  2042,     6,     1,\n",
              "        2582,    27,    29,  4465,    15,  1591,  4429,   215,    15,\n",
              "        3210,     1,    54,    21,   712,     1,   551,   751,     5,\n",
              "        2696,   103, 17320,     0,     0,     0,     0,     0,     0,\n",
              "           0,     0,     0,     0,     0,     0], dtype=int32)"
            ]
          },
          "metadata": {},
          "execution_count": 137
        }
      ],
      "source": [
        "x_val_padded[0]"
      ]
    },
    {
      "cell_type": "code",
      "execution_count": 138,
      "metadata": {
        "id": "aPIrJ6Ew9XIh"
      },
      "outputs": [],
      "source": [
        "#same for y"
      ]
    },
    {
      "cell_type": "code",
      "execution_count": 139,
      "metadata": {
        "id": "qHS1NPvW9oT6"
      },
      "outputs": [],
      "source": [
        "# Prepare a tokenizer, again -- by not considering the rare words\n",
        "y_tokenizer = Tokenizer(num_words=y_train_total_count - y_train_count)\n",
        "# y_tokenizer = Tokenizer(num_words=y_train_tot_cnt)\n",
        "y_tokenizer.fit_on_texts(list(y_train))\n",
        "\n",
        "# Convert text sequences to integer sequences\n",
        "y_tr_seq = y_tokenizer.texts_to_sequences(y_train)\n",
        "y_val_seq = y_tokenizer.texts_to_sequences(y_val)\n",
        "\n",
        "# Pad zero upto maximum length\n",
        "y_padded_train = pad_sequences(y_tr_seq, maxlen=config['max_summary_len'], padding='post')\n",
        "y_padded_val = pad_sequences(y_val_seq, maxlen=config['max_summary_len'], padding='post')\n",
        "\n",
        "# Size of vocabulary (+1 for padding token)\n",
        "y_voc = y_tokenizer.num_words + 1"
      ]
    },
    {
      "cell_type": "code",
      "execution_count": 140,
      "metadata": {
        "colab": {
          "base_uri": "https://localhost:8080/",
          "height": 58
        },
        "id": "yZlLsLp09_rX",
        "outputId": "a3612a31-6013-4c29-a56f-e90111177986"
      },
      "outputs": [
        {
          "output_type": "execute_result",
          "data": {
            "text/plain": [
              "'sostok _START_ called pm modi sir 10 times to satisfy his ego andhra cm _END_ eostok'"
            ],
            "application/vnd.google.colaboratory.intrinsic+json": {
              "type": "string"
            }
          },
          "metadata": {},
          "execution_count": 140
        }
      ],
      "source": [
        "y_train[1]\n"
      ]
    },
    {
      "cell_type": "code",
      "execution_count": 141,
      "metadata": {
        "colab": {
          "base_uri": "https://localhost:8080/"
        },
        "id": "z4iLc0FM-CBs",
        "outputId": "761f672c-470a-4d06-9a73-3a8f07536a45"
      },
      "outputs": [
        {
          "output_type": "execute_result",
          "data": {
            "text/plain": [
              "array([   3,    2,  869,    7,  549,   99, 6247,    6,   21,  296,  168,\n",
              "        171, 1844,    1,    4,    0,    0,    0,    0,    0,    0,    0,\n",
              "          0,    0,    0,    0,    0,    0,    0,    0], dtype=int32)"
            ]
          },
          "metadata": {},
          "execution_count": 141
        }
      ],
      "source": [
        "y_padded_train[1]"
      ]
    },
    {
      "cell_type": "markdown",
      "metadata": {
        "id": "VtyacB3D-n2H"
      },
      "source": [
        "# Initializing LSTM Encoder and Decoder Architecture"
      ]
    },
    {
      "cell_type": "code",
      "execution_count": 142,
      "metadata": {
        "id": "JQXrwczy-F48"
      },
      "outputs": [],
      "source": [
        "from tensorflow.keras.layers import Embedding, LSTM, Dense, Input, InputLayer, TimeDistributed\n",
        "from tensorflow.keras.models import Sequential, Model\n",
        "from tensorflow.keras.callbacks import ModelCheckpoint, EarlyStopping\n"
      ]
    },
    {
      "cell_type": "code",
      "execution_count": 143,
      "metadata": {
        "id": "L2DBB35j-w8a"
      },
      "outputs": [],
      "source": [
        "\n",
        "#remember our config\n",
        "config = {'min_text_len':40,\n",
        "          'max_text_len':60,\n",
        "          'max_summary_len':30,\n",
        "          'latent_dim' : 300,\n",
        "          'embedding_dim' : 200}\n",
        "\n",
        "\n",
        "# SETTING ENCODER\n",
        "encoder_input= Input(shape=(config['max_text_len'],))\n",
        "\n",
        "# EMBEDDING LAYER\n",
        "encoder_embedding=Embedding(input_dim=x_vocabulary_size,output_dim=config['embedding_dim'])(encoder_input)\n",
        "\n",
        "\n",
        "# ENCODER LSTM 1\n",
        "#using stacked lstm / deep lstm\n",
        "encoder_lstm1=LSTM(units=config['latent_dim'],return_sequences=True,return_state=True,dropout=0.3,recurrent_dropout=0.3)\n",
        "(encoder_output1,state_h1,state_c1)=encoder_lstm1(encoder_embedding)\n",
        "\n",
        "#ENCODER LSTM2\n",
        "encoder_lstm2=LSTM(units=config['latent_dim'],return_sequences=True,return_state=True,dropout=0.3,recurrent_dropout=0.3)\n",
        "(encoder_output2,state_h2,state_c2)=encoder_lstm2(encoder_output1)\n",
        "\n",
        "#ENCODER LSTM3\n",
        "encoder_lstm3=LSTM(units=config['latent_dim'],return_state=True,return_sequences=True,dropout=0.4,recurrent_dropout=0.4)\n",
        "(encoder_outputs,state_h,state_c)=encoder_lstm3(encoder_output2)\n",
        "\n",
        "##### SETTTING DECODER\n",
        "\n",
        "decoder_inputs=Input(shape=(None,))\n",
        "\n",
        "# Embedding Layer\n",
        "decoder_embedding_layer = Embedding(y_voc,config['embedding_dim'],trainable=True)\n",
        "decoder_embedding = decoder_embedding_layer(decoder_inputs)\n",
        "# using softmax the model with predict next word with highest probability.\n",
        "\n",
        "#Decoder LSTM\n",
        "\n",
        "decoder_lstm=LSTM(config['latent_dim'], return_sequences=True,\n",
        "                    return_state=True, dropout=0.4,\n",
        "                    recurrent_dropout=0.2)\n",
        "(decoder_outputs,decoder_fwd_state,decoder_back_state)=decoder_lstm(decoder_embedding,initial_state=[state_h,state_c])\n",
        "\n",
        "\n",
        "#So it will output:\n",
        "#All time-step outputs (called decoder_outputs)\n",
        "#Final hidden state (decoder_fwd_state)\n",
        "#Final cell state (decoder_back_state)\n",
        "\n",
        "# DENSE FINAL LAYER\n",
        "\n",
        "decoder_dense=TimeDistributed(Dense(y_voc,activation='softmax'))\n",
        "decoder_output=decoder_dense(decoder_outputs)\n"
      ]
    },
    {
      "cell_type": "code",
      "execution_count": 144,
      "metadata": {
        "id": "-o_7u93uMnaL"
      },
      "outputs": [],
      "source": [
        "#Defining the Model\n",
        "\n",
        "model=Model([encoder_input,decoder_inputs],decoder_output)"
      ]
    },
    {
      "cell_type": "code",
      "execution_count": 145,
      "metadata": {
        "colab": {
          "base_uri": "https://localhost:8080/",
          "height": 682
        },
        "id": "gvfWTdJWMvSl",
        "outputId": "3018b998-c2cf-46af-a1fe-6a61e2e9edfd"
      },
      "outputs": [
        {
          "output_type": "display_data",
          "data": {
            "text/plain": [
              "\u001b[1mModel: \"functional_4\"\u001b[0m\n"
            ],
            "text/html": [
              "<pre style=\"white-space:pre;overflow-x:auto;line-height:normal;font-family:Menlo,'DejaVu Sans Mono',consolas,'Courier New',monospace\"><span style=\"font-weight: bold\">Model: \"functional_4\"</span>\n",
              "</pre>\n"
            ]
          },
          "metadata": {}
        },
        {
          "output_type": "display_data",
          "data": {
            "text/plain": [
              "┏━━━━━━━━━━━━━━━━━━━━━┳━━━━━━━━━━━━━━━━━━━┳━━━━━━━━━━━━┳━━━━━━━━━━━━━━━━━━━┓\n",
              "┃\u001b[1m \u001b[0m\u001b[1mLayer (type)       \u001b[0m\u001b[1m \u001b[0m┃\u001b[1m \u001b[0m\u001b[1mOutput Shape     \u001b[0m\u001b[1m \u001b[0m┃\u001b[1m \u001b[0m\u001b[1m   Param #\u001b[0m\u001b[1m \u001b[0m┃\u001b[1m \u001b[0m\u001b[1mConnected to     \u001b[0m\u001b[1m \u001b[0m┃\n",
              "┡━━━━━━━━━━━━━━━━━━━━━╇━━━━━━━━━━━━━━━━━━━╇━━━━━━━━━━━━╇━━━━━━━━━━━━━━━━━━━┩\n",
              "│ input_layer_7       │ (\u001b[38;5;45mNone\u001b[0m, \u001b[38;5;34m60\u001b[0m)        │          \u001b[38;5;34m0\u001b[0m │ -                 │\n",
              "│ (\u001b[38;5;33mInputLayer\u001b[0m)        │                   │            │                   │\n",
              "├─────────────────────┼───────────────────┼────────────┼───────────────────┤\n",
              "│ embedding_4         │ (\u001b[38;5;45mNone\u001b[0m, \u001b[38;5;34m60\u001b[0m, \u001b[38;5;34m200\u001b[0m)   │  \u001b[38;5;34m3,493,000\u001b[0m │ input_layer_7[\u001b[38;5;34m0\u001b[0m]… │\n",
              "│ (\u001b[38;5;33mEmbedding\u001b[0m)         │                   │            │                   │\n",
              "├─────────────────────┼───────────────────┼────────────┼───────────────────┤\n",
              "│ lstm_9 (\u001b[38;5;33mLSTM\u001b[0m)       │ [(\u001b[38;5;45mNone\u001b[0m, \u001b[38;5;34m60\u001b[0m, \u001b[38;5;34m300\u001b[0m), │    \u001b[38;5;34m601,200\u001b[0m │ embedding_4[\u001b[38;5;34m0\u001b[0m][\u001b[38;5;34m0\u001b[0m] │\n",
              "│                     │ (\u001b[38;5;45mNone\u001b[0m, \u001b[38;5;34m300\u001b[0m),      │            │                   │\n",
              "│                     │ (\u001b[38;5;45mNone\u001b[0m, \u001b[38;5;34m300\u001b[0m)]      │            │                   │\n",
              "├─────────────────────┼───────────────────┼────────────┼───────────────────┤\n",
              "│ input_layer_8       │ (\u001b[38;5;45mNone\u001b[0m, \u001b[38;5;45mNone\u001b[0m)      │          \u001b[38;5;34m0\u001b[0m │ -                 │\n",
              "│ (\u001b[38;5;33mInputLayer\u001b[0m)        │                   │            │                   │\n",
              "├─────────────────────┼───────────────────┼────────────┼───────────────────┤\n",
              "│ lstm_10 (\u001b[38;5;33mLSTM\u001b[0m)      │ [(\u001b[38;5;45mNone\u001b[0m, \u001b[38;5;34m60\u001b[0m, \u001b[38;5;34m300\u001b[0m), │    \u001b[38;5;34m721,200\u001b[0m │ lstm_9[\u001b[38;5;34m0\u001b[0m][\u001b[38;5;34m0\u001b[0m]      │\n",
              "│                     │ (\u001b[38;5;45mNone\u001b[0m, \u001b[38;5;34m300\u001b[0m),      │            │                   │\n",
              "│                     │ (\u001b[38;5;45mNone\u001b[0m, \u001b[38;5;34m300\u001b[0m)]      │            │                   │\n",
              "├─────────────────────┼───────────────────┼────────────┼───────────────────┤\n",
              "│ embedding_5         │ (\u001b[38;5;45mNone\u001b[0m, \u001b[38;5;45mNone\u001b[0m, \u001b[38;5;34m200\u001b[0m) │  \u001b[38;5;34m1,433,000\u001b[0m │ input_layer_8[\u001b[38;5;34m0\u001b[0m]… │\n",
              "│ (\u001b[38;5;33mEmbedding\u001b[0m)         │                   │            │                   │\n",
              "├─────────────────────┼───────────────────┼────────────┼───────────────────┤\n",
              "│ lstm_11 (\u001b[38;5;33mLSTM\u001b[0m)      │ [(\u001b[38;5;45mNone\u001b[0m, \u001b[38;5;34m60\u001b[0m, \u001b[38;5;34m300\u001b[0m), │    \u001b[38;5;34m721,200\u001b[0m │ lstm_10[\u001b[38;5;34m0\u001b[0m][\u001b[38;5;34m0\u001b[0m]     │\n",
              "│                     │ (\u001b[38;5;45mNone\u001b[0m, \u001b[38;5;34m300\u001b[0m),      │            │                   │\n",
              "│                     │ (\u001b[38;5;45mNone\u001b[0m, \u001b[38;5;34m300\u001b[0m)]      │            │                   │\n",
              "├─────────────────────┼───────────────────┼────────────┼───────────────────┤\n",
              "│ lstm_12 (\u001b[38;5;33mLSTM\u001b[0m)      │ [(\u001b[38;5;45mNone\u001b[0m, \u001b[38;5;45mNone\u001b[0m,     │    \u001b[38;5;34m601,200\u001b[0m │ embedding_5[\u001b[38;5;34m0\u001b[0m][\u001b[38;5;34m0\u001b[0m… │\n",
              "│                     │ \u001b[38;5;34m300\u001b[0m), (\u001b[38;5;45mNone\u001b[0m,      │            │ lstm_11[\u001b[38;5;34m0\u001b[0m][\u001b[38;5;34m1\u001b[0m],    │\n",
              "│                     │ \u001b[38;5;34m300\u001b[0m), (\u001b[38;5;45mNone\u001b[0m,      │            │ lstm_11[\u001b[38;5;34m0\u001b[0m][\u001b[38;5;34m2\u001b[0m]     │\n",
              "│                     │ \u001b[38;5;34m300\u001b[0m)]             │            │                   │\n",
              "├─────────────────────┼───────────────────┼────────────┼───────────────────┤\n",
              "│ time_distributed_2  │ (\u001b[38;5;45mNone\u001b[0m, \u001b[38;5;45mNone\u001b[0m,      │  \u001b[38;5;34m2,156,665\u001b[0m │ lstm_12[\u001b[38;5;34m0\u001b[0m][\u001b[38;5;34m0\u001b[0m]     │\n",
              "│ (\u001b[38;5;33mTimeDistributed\u001b[0m)   │ \u001b[38;5;34m7165\u001b[0m)             │            │                   │\n",
              "└─────────────────────┴───────────────────┴────────────┴───────────────────┘\n"
            ],
            "text/html": [
              "<pre style=\"white-space:pre;overflow-x:auto;line-height:normal;font-family:Menlo,'DejaVu Sans Mono',consolas,'Courier New',monospace\">┏━━━━━━━━━━━━━━━━━━━━━┳━━━━━━━━━━━━━━━━━━━┳━━━━━━━━━━━━┳━━━━━━━━━━━━━━━━━━━┓\n",
              "┃<span style=\"font-weight: bold\"> Layer (type)        </span>┃<span style=\"font-weight: bold\"> Output Shape      </span>┃<span style=\"font-weight: bold\">    Param # </span>┃<span style=\"font-weight: bold\"> Connected to      </span>┃\n",
              "┡━━━━━━━━━━━━━━━━━━━━━╇━━━━━━━━━━━━━━━━━━━╇━━━━━━━━━━━━╇━━━━━━━━━━━━━━━━━━━┩\n",
              "│ input_layer_7       │ (<span style=\"color: #00d7ff; text-decoration-color: #00d7ff\">None</span>, <span style=\"color: #00af00; text-decoration-color: #00af00\">60</span>)        │          <span style=\"color: #00af00; text-decoration-color: #00af00\">0</span> │ -                 │\n",
              "│ (<span style=\"color: #0087ff; text-decoration-color: #0087ff\">InputLayer</span>)        │                   │            │                   │\n",
              "├─────────────────────┼───────────────────┼────────────┼───────────────────┤\n",
              "│ embedding_4         │ (<span style=\"color: #00d7ff; text-decoration-color: #00d7ff\">None</span>, <span style=\"color: #00af00; text-decoration-color: #00af00\">60</span>, <span style=\"color: #00af00; text-decoration-color: #00af00\">200</span>)   │  <span style=\"color: #00af00; text-decoration-color: #00af00\">3,493,000</span> │ input_layer_7[<span style=\"color: #00af00; text-decoration-color: #00af00\">0</span>]… │\n",
              "│ (<span style=\"color: #0087ff; text-decoration-color: #0087ff\">Embedding</span>)         │                   │            │                   │\n",
              "├─────────────────────┼───────────────────┼────────────┼───────────────────┤\n",
              "│ lstm_9 (<span style=\"color: #0087ff; text-decoration-color: #0087ff\">LSTM</span>)       │ [(<span style=\"color: #00d7ff; text-decoration-color: #00d7ff\">None</span>, <span style=\"color: #00af00; text-decoration-color: #00af00\">60</span>, <span style=\"color: #00af00; text-decoration-color: #00af00\">300</span>), │    <span style=\"color: #00af00; text-decoration-color: #00af00\">601,200</span> │ embedding_4[<span style=\"color: #00af00; text-decoration-color: #00af00\">0</span>][<span style=\"color: #00af00; text-decoration-color: #00af00\">0</span>] │\n",
              "│                     │ (<span style=\"color: #00d7ff; text-decoration-color: #00d7ff\">None</span>, <span style=\"color: #00af00; text-decoration-color: #00af00\">300</span>),      │            │                   │\n",
              "│                     │ (<span style=\"color: #00d7ff; text-decoration-color: #00d7ff\">None</span>, <span style=\"color: #00af00; text-decoration-color: #00af00\">300</span>)]      │            │                   │\n",
              "├─────────────────────┼───────────────────┼────────────┼───────────────────┤\n",
              "│ input_layer_8       │ (<span style=\"color: #00d7ff; text-decoration-color: #00d7ff\">None</span>, <span style=\"color: #00d7ff; text-decoration-color: #00d7ff\">None</span>)      │          <span style=\"color: #00af00; text-decoration-color: #00af00\">0</span> │ -                 │\n",
              "│ (<span style=\"color: #0087ff; text-decoration-color: #0087ff\">InputLayer</span>)        │                   │            │                   │\n",
              "├─────────────────────┼───────────────────┼────────────┼───────────────────┤\n",
              "│ lstm_10 (<span style=\"color: #0087ff; text-decoration-color: #0087ff\">LSTM</span>)      │ [(<span style=\"color: #00d7ff; text-decoration-color: #00d7ff\">None</span>, <span style=\"color: #00af00; text-decoration-color: #00af00\">60</span>, <span style=\"color: #00af00; text-decoration-color: #00af00\">300</span>), │    <span style=\"color: #00af00; text-decoration-color: #00af00\">721,200</span> │ lstm_9[<span style=\"color: #00af00; text-decoration-color: #00af00\">0</span>][<span style=\"color: #00af00; text-decoration-color: #00af00\">0</span>]      │\n",
              "│                     │ (<span style=\"color: #00d7ff; text-decoration-color: #00d7ff\">None</span>, <span style=\"color: #00af00; text-decoration-color: #00af00\">300</span>),      │            │                   │\n",
              "│                     │ (<span style=\"color: #00d7ff; text-decoration-color: #00d7ff\">None</span>, <span style=\"color: #00af00; text-decoration-color: #00af00\">300</span>)]      │            │                   │\n",
              "├─────────────────────┼───────────────────┼────────────┼───────────────────┤\n",
              "│ embedding_5         │ (<span style=\"color: #00d7ff; text-decoration-color: #00d7ff\">None</span>, <span style=\"color: #00d7ff; text-decoration-color: #00d7ff\">None</span>, <span style=\"color: #00af00; text-decoration-color: #00af00\">200</span>) │  <span style=\"color: #00af00; text-decoration-color: #00af00\">1,433,000</span> │ input_layer_8[<span style=\"color: #00af00; text-decoration-color: #00af00\">0</span>]… │\n",
              "│ (<span style=\"color: #0087ff; text-decoration-color: #0087ff\">Embedding</span>)         │                   │            │                   │\n",
              "├─────────────────────┼───────────────────┼────────────┼───────────────────┤\n",
              "│ lstm_11 (<span style=\"color: #0087ff; text-decoration-color: #0087ff\">LSTM</span>)      │ [(<span style=\"color: #00d7ff; text-decoration-color: #00d7ff\">None</span>, <span style=\"color: #00af00; text-decoration-color: #00af00\">60</span>, <span style=\"color: #00af00; text-decoration-color: #00af00\">300</span>), │    <span style=\"color: #00af00; text-decoration-color: #00af00\">721,200</span> │ lstm_10[<span style=\"color: #00af00; text-decoration-color: #00af00\">0</span>][<span style=\"color: #00af00; text-decoration-color: #00af00\">0</span>]     │\n",
              "│                     │ (<span style=\"color: #00d7ff; text-decoration-color: #00d7ff\">None</span>, <span style=\"color: #00af00; text-decoration-color: #00af00\">300</span>),      │            │                   │\n",
              "│                     │ (<span style=\"color: #00d7ff; text-decoration-color: #00d7ff\">None</span>, <span style=\"color: #00af00; text-decoration-color: #00af00\">300</span>)]      │            │                   │\n",
              "├─────────────────────┼───────────────────┼────────────┼───────────────────┤\n",
              "│ lstm_12 (<span style=\"color: #0087ff; text-decoration-color: #0087ff\">LSTM</span>)      │ [(<span style=\"color: #00d7ff; text-decoration-color: #00d7ff\">None</span>, <span style=\"color: #00d7ff; text-decoration-color: #00d7ff\">None</span>,     │    <span style=\"color: #00af00; text-decoration-color: #00af00\">601,200</span> │ embedding_5[<span style=\"color: #00af00; text-decoration-color: #00af00\">0</span>][<span style=\"color: #00af00; text-decoration-color: #00af00\">0</span>… │\n",
              "│                     │ <span style=\"color: #00af00; text-decoration-color: #00af00\">300</span>), (<span style=\"color: #00d7ff; text-decoration-color: #00d7ff\">None</span>,      │            │ lstm_11[<span style=\"color: #00af00; text-decoration-color: #00af00\">0</span>][<span style=\"color: #00af00; text-decoration-color: #00af00\">1</span>],    │\n",
              "│                     │ <span style=\"color: #00af00; text-decoration-color: #00af00\">300</span>), (<span style=\"color: #00d7ff; text-decoration-color: #00d7ff\">None</span>,      │            │ lstm_11[<span style=\"color: #00af00; text-decoration-color: #00af00\">0</span>][<span style=\"color: #00af00; text-decoration-color: #00af00\">2</span>]     │\n",
              "│                     │ <span style=\"color: #00af00; text-decoration-color: #00af00\">300</span>)]             │            │                   │\n",
              "├─────────────────────┼───────────────────┼────────────┼───────────────────┤\n",
              "│ time_distributed_2  │ (<span style=\"color: #00d7ff; text-decoration-color: #00d7ff\">None</span>, <span style=\"color: #00d7ff; text-decoration-color: #00d7ff\">None</span>,      │  <span style=\"color: #00af00; text-decoration-color: #00af00\">2,156,665</span> │ lstm_12[<span style=\"color: #00af00; text-decoration-color: #00af00\">0</span>][<span style=\"color: #00af00; text-decoration-color: #00af00\">0</span>]     │\n",
              "│ (<span style=\"color: #0087ff; text-decoration-color: #0087ff\">TimeDistributed</span>)   │ <span style=\"color: #00af00; text-decoration-color: #00af00\">7165</span>)             │            │                   │\n",
              "└─────────────────────┴───────────────────┴────────────┴───────────────────┘\n",
              "</pre>\n"
            ]
          },
          "metadata": {}
        },
        {
          "output_type": "display_data",
          "data": {
            "text/plain": [
              "\u001b[1m Total params: \u001b[0m\u001b[38;5;34m9,727,465\u001b[0m (37.11 MB)\n"
            ],
            "text/html": [
              "<pre style=\"white-space:pre;overflow-x:auto;line-height:normal;font-family:Menlo,'DejaVu Sans Mono',consolas,'Courier New',monospace\"><span style=\"font-weight: bold\"> Total params: </span><span style=\"color: #00af00; text-decoration-color: #00af00\">9,727,465</span> (37.11 MB)\n",
              "</pre>\n"
            ]
          },
          "metadata": {}
        },
        {
          "output_type": "display_data",
          "data": {
            "text/plain": [
              "\u001b[1m Trainable params: \u001b[0m\u001b[38;5;34m9,727,465\u001b[0m (37.11 MB)\n"
            ],
            "text/html": [
              "<pre style=\"white-space:pre;overflow-x:auto;line-height:normal;font-family:Menlo,'DejaVu Sans Mono',consolas,'Courier New',monospace\"><span style=\"font-weight: bold\"> Trainable params: </span><span style=\"color: #00af00; text-decoration-color: #00af00\">9,727,465</span> (37.11 MB)\n",
              "</pre>\n"
            ]
          },
          "metadata": {}
        },
        {
          "output_type": "display_data",
          "data": {
            "text/plain": [
              "\u001b[1m Non-trainable params: \u001b[0m\u001b[38;5;34m0\u001b[0m (0.00 B)\n"
            ],
            "text/html": [
              "<pre style=\"white-space:pre;overflow-x:auto;line-height:normal;font-family:Menlo,'DejaVu Sans Mono',consolas,'Courier New',monospace\"><span style=\"font-weight: bold\"> Non-trainable params: </span><span style=\"color: #00af00; text-decoration-color: #00af00\">0</span> (0.00 B)\n",
              "</pre>\n"
            ]
          },
          "metadata": {}
        }
      ],
      "source": [
        "model.summary()"
      ]
    },
    {
      "cell_type": "markdown",
      "metadata": {
        "id": "lCm0jkqvPk5G"
      },
      "source": [
        "semi final stage\n"
      ]
    },
    {
      "cell_type": "code",
      "execution_count": 146,
      "metadata": {
        "id": "HNHEQGFYOZoX"
      },
      "outputs": [],
      "source": [
        "model.compile(optimizer='Adam',loss='sparse_categorical_crossentropy',metrics=['accuracy'])\n",
        "\n",
        "model_name=\"text_summarizer.weights.h5\"\n",
        "\n",
        "save_model=tf.keras.callbacks.ModelCheckpoint(filepath=model_name,\n",
        "                                              save_weights_only=True,\n",
        "                                              save_best_only=True,\n",
        "                                              verbose=1)\n",
        "es=EarlyStopping(monitor='val_loss',mode='min',verbose=1,patience=10)"
      ]
    },
    {
      "cell_type": "markdown",
      "source": [
        "loss is still pretty high , more epochs are needed\n"
      ],
      "metadata": {
        "id": "YttvezdNgys4"
      }
    },
    {
      "cell_type": "markdown",
      "source": [
        "I ran the model with 40 epochs that put it into 75 % accuracy and 1.3 % loss\n",
        "and 76 % val accuracy"
      ],
      "metadata": {
        "id": "0VvN0bCVm5aB"
      }
    },
    {
      "cell_type": "markdown",
      "source": [
        "my tpu limits are crossed,so cant use it ,lol ,and training in cpu is not that good. So leaving it as it is."
      ],
      "metadata": {
        "id": "VvBtMIjSvDSZ"
      }
    },
    {
      "cell_type": "code",
      "source": [
        "history = model.fit(\n",
        "    [x_train_padded, y_padded_train[:, :-1]],\n",
        "    y_padded_train.reshape(y_padded_train.shape[0], y_padded_train.shape[1], 1)[:, 1:],\n",
        "    epochs=3,\n",
        "    callbacks=[es, save_model],\n",
        "    batch_size=1024,\n",
        "    validation_data=([x_val_padded, y_padded_val[:, :-1]],\n",
        "                     y_padded_val.reshape(y_padded_val.shape[0], y_padded_val.shape[1], 1)[:, 1:]),\n",
        "    )\n",
        "\n"
      ],
      "metadata": {
        "id": "AYkC-0n7tRAb",
        "colab": {
          "base_uri": "https://localhost:8080/",
          "height": 484
        },
        "outputId": "b83ebd59-b2aa-4d76-fba6-be3616e5ec6d"
      },
      "execution_count": 147,
      "outputs": [
        {
          "output_type": "stream",
          "name": "stdout",
          "text": [
            "Epoch 1/3\n",
            "\u001b[1m 1/30\u001b[0m \u001b[37m━━━━━━━━━━━━━━━━━━━━\u001b[0m \u001b[1m29:41\u001b[0m 61s/step - accuracy: 6.7349e-05 - loss: 8.8783"
          ]
        },
        {
          "output_type": "error",
          "ename": "KeyboardInterrupt",
          "evalue": "",
          "traceback": [
            "\u001b[0;31m---------------------------------------------------------------------------\u001b[0m",
            "\u001b[0;31mKeyboardInterrupt\u001b[0m                         Traceback (most recent call last)",
            "\u001b[0;32m/tmp/ipython-input-147-3475449380.py\u001b[0m in \u001b[0;36m<cell line: 0>\u001b[0;34m()\u001b[0m\n\u001b[0;32m----> 1\u001b[0;31m history = model.fit(\n\u001b[0m\u001b[1;32m      2\u001b[0m     \u001b[0;34m[\u001b[0m\u001b[0mx_train_padded\u001b[0m\u001b[0;34m,\u001b[0m \u001b[0my_padded_train\u001b[0m\u001b[0;34m[\u001b[0m\u001b[0;34m:\u001b[0m\u001b[0;34m,\u001b[0m \u001b[0;34m:\u001b[0m\u001b[0;34m-\u001b[0m\u001b[0;36m1\u001b[0m\u001b[0;34m]\u001b[0m\u001b[0;34m]\u001b[0m\u001b[0;34m,\u001b[0m\u001b[0;34m\u001b[0m\u001b[0;34m\u001b[0m\u001b[0m\n\u001b[1;32m      3\u001b[0m     \u001b[0my_padded_train\u001b[0m\u001b[0;34m.\u001b[0m\u001b[0mreshape\u001b[0m\u001b[0;34m(\u001b[0m\u001b[0my_padded_train\u001b[0m\u001b[0;34m.\u001b[0m\u001b[0mshape\u001b[0m\u001b[0;34m[\u001b[0m\u001b[0;36m0\u001b[0m\u001b[0;34m]\u001b[0m\u001b[0;34m,\u001b[0m \u001b[0my_padded_train\u001b[0m\u001b[0;34m.\u001b[0m\u001b[0mshape\u001b[0m\u001b[0;34m[\u001b[0m\u001b[0;36m1\u001b[0m\u001b[0;34m]\u001b[0m\u001b[0;34m,\u001b[0m \u001b[0;36m1\u001b[0m\u001b[0;34m)\u001b[0m\u001b[0;34m[\u001b[0m\u001b[0;34m:\u001b[0m\u001b[0;34m,\u001b[0m \u001b[0;36m1\u001b[0m\u001b[0;34m:\u001b[0m\u001b[0;34m]\u001b[0m\u001b[0;34m,\u001b[0m\u001b[0;34m\u001b[0m\u001b[0;34m\u001b[0m\u001b[0m\n\u001b[1;32m      4\u001b[0m     \u001b[0mepochs\u001b[0m\u001b[0;34m=\u001b[0m\u001b[0;36m3\u001b[0m\u001b[0;34m,\u001b[0m\u001b[0;34m\u001b[0m\u001b[0;34m\u001b[0m\u001b[0m\n\u001b[1;32m      5\u001b[0m     \u001b[0mcallbacks\u001b[0m\u001b[0;34m=\u001b[0m\u001b[0;34m[\u001b[0m\u001b[0mes\u001b[0m\u001b[0;34m,\u001b[0m \u001b[0msave_model\u001b[0m\u001b[0;34m]\u001b[0m\u001b[0;34m,\u001b[0m\u001b[0;34m\u001b[0m\u001b[0;34m\u001b[0m\u001b[0m\n",
            "\u001b[0;32m/usr/local/lib/python3.11/dist-packages/keras/src/utils/traceback_utils.py\u001b[0m in \u001b[0;36merror_handler\u001b[0;34m(*args, **kwargs)\u001b[0m\n\u001b[1;32m    115\u001b[0m         \u001b[0mfiltered_tb\u001b[0m \u001b[0;34m=\u001b[0m \u001b[0;32mNone\u001b[0m\u001b[0;34m\u001b[0m\u001b[0;34m\u001b[0m\u001b[0m\n\u001b[1;32m    116\u001b[0m         \u001b[0;32mtry\u001b[0m\u001b[0;34m:\u001b[0m\u001b[0;34m\u001b[0m\u001b[0;34m\u001b[0m\u001b[0m\n\u001b[0;32m--> 117\u001b[0;31m             \u001b[0;32mreturn\u001b[0m \u001b[0mfn\u001b[0m\u001b[0;34m(\u001b[0m\u001b[0;34m*\u001b[0m\u001b[0margs\u001b[0m\u001b[0;34m,\u001b[0m \u001b[0;34m**\u001b[0m\u001b[0mkwargs\u001b[0m\u001b[0;34m)\u001b[0m\u001b[0;34m\u001b[0m\u001b[0;34m\u001b[0m\u001b[0m\n\u001b[0m\u001b[1;32m    118\u001b[0m         \u001b[0;32mexcept\u001b[0m \u001b[0mException\u001b[0m \u001b[0;32mas\u001b[0m \u001b[0me\u001b[0m\u001b[0;34m:\u001b[0m\u001b[0;34m\u001b[0m\u001b[0;34m\u001b[0m\u001b[0m\n\u001b[1;32m    119\u001b[0m             \u001b[0mfiltered_tb\u001b[0m \u001b[0;34m=\u001b[0m \u001b[0m_process_traceback_frames\u001b[0m\u001b[0;34m(\u001b[0m\u001b[0me\u001b[0m\u001b[0;34m.\u001b[0m\u001b[0m__traceback__\u001b[0m\u001b[0;34m)\u001b[0m\u001b[0;34m\u001b[0m\u001b[0;34m\u001b[0m\u001b[0m\n",
            "\u001b[0;32m/usr/local/lib/python3.11/dist-packages/keras/src/backend/tensorflow/trainer.py\u001b[0m in \u001b[0;36mfit\u001b[0;34m(self, x, y, batch_size, epochs, verbose, callbacks, validation_split, validation_data, shuffle, class_weight, sample_weight, initial_epoch, steps_per_epoch, validation_steps, validation_batch_size, validation_freq)\u001b[0m\n\u001b[1;32m    369\u001b[0m                 \u001b[0;32mfor\u001b[0m \u001b[0mstep\u001b[0m\u001b[0;34m,\u001b[0m \u001b[0miterator\u001b[0m \u001b[0;32min\u001b[0m \u001b[0mepoch_iterator\u001b[0m\u001b[0;34m:\u001b[0m\u001b[0;34m\u001b[0m\u001b[0;34m\u001b[0m\u001b[0m\n\u001b[1;32m    370\u001b[0m                     \u001b[0mcallbacks\u001b[0m\u001b[0;34m.\u001b[0m\u001b[0mon_train_batch_begin\u001b[0m\u001b[0;34m(\u001b[0m\u001b[0mstep\u001b[0m\u001b[0;34m)\u001b[0m\u001b[0;34m\u001b[0m\u001b[0;34m\u001b[0m\u001b[0m\n\u001b[0;32m--> 371\u001b[0;31m                     \u001b[0mlogs\u001b[0m \u001b[0;34m=\u001b[0m \u001b[0mself\u001b[0m\u001b[0;34m.\u001b[0m\u001b[0mtrain_function\u001b[0m\u001b[0;34m(\u001b[0m\u001b[0miterator\u001b[0m\u001b[0;34m)\u001b[0m\u001b[0;34m\u001b[0m\u001b[0;34m\u001b[0m\u001b[0m\n\u001b[0m\u001b[1;32m    372\u001b[0m                     \u001b[0mcallbacks\u001b[0m\u001b[0;34m.\u001b[0m\u001b[0mon_train_batch_end\u001b[0m\u001b[0;34m(\u001b[0m\u001b[0mstep\u001b[0m\u001b[0;34m,\u001b[0m \u001b[0mlogs\u001b[0m\u001b[0;34m)\u001b[0m\u001b[0;34m\u001b[0m\u001b[0;34m\u001b[0m\u001b[0m\n\u001b[1;32m    373\u001b[0m                     \u001b[0;32mif\u001b[0m \u001b[0mself\u001b[0m\u001b[0;34m.\u001b[0m\u001b[0mstop_training\u001b[0m\u001b[0;34m:\u001b[0m\u001b[0;34m\u001b[0m\u001b[0;34m\u001b[0m\u001b[0m\n",
            "\u001b[0;32m/usr/local/lib/python3.11/dist-packages/keras/src/backend/tensorflow/trainer.py\u001b[0m in \u001b[0;36mfunction\u001b[0;34m(iterator)\u001b[0m\n\u001b[1;32m    217\u001b[0m                 \u001b[0miterator\u001b[0m\u001b[0;34m,\u001b[0m \u001b[0;34m(\u001b[0m\u001b[0mtf\u001b[0m\u001b[0;34m.\u001b[0m\u001b[0mdata\u001b[0m\u001b[0;34m.\u001b[0m\u001b[0mIterator\u001b[0m\u001b[0;34m,\u001b[0m \u001b[0mtf\u001b[0m\u001b[0;34m.\u001b[0m\u001b[0mdistribute\u001b[0m\u001b[0;34m.\u001b[0m\u001b[0mDistributedIterator\u001b[0m\u001b[0;34m)\u001b[0m\u001b[0;34m\u001b[0m\u001b[0;34m\u001b[0m\u001b[0m\n\u001b[1;32m    218\u001b[0m             ):\n\u001b[0;32m--> 219\u001b[0;31m                 \u001b[0mopt_outputs\u001b[0m \u001b[0;34m=\u001b[0m \u001b[0mmulti_step_on_iterator\u001b[0m\u001b[0;34m(\u001b[0m\u001b[0miterator\u001b[0m\u001b[0;34m)\u001b[0m\u001b[0;34m\u001b[0m\u001b[0;34m\u001b[0m\u001b[0m\n\u001b[0m\u001b[1;32m    220\u001b[0m                 \u001b[0;32mif\u001b[0m \u001b[0;32mnot\u001b[0m \u001b[0mopt_outputs\u001b[0m\u001b[0;34m.\u001b[0m\u001b[0mhas_value\u001b[0m\u001b[0;34m(\u001b[0m\u001b[0;34m)\u001b[0m\u001b[0;34m:\u001b[0m\u001b[0;34m\u001b[0m\u001b[0;34m\u001b[0m\u001b[0m\n\u001b[1;32m    221\u001b[0m                     \u001b[0;32mraise\u001b[0m \u001b[0mStopIteration\u001b[0m\u001b[0;34m\u001b[0m\u001b[0;34m\u001b[0m\u001b[0m\n",
            "\u001b[0;32m/usr/local/lib/python3.11/dist-packages/tensorflow/python/util/traceback_utils.py\u001b[0m in \u001b[0;36merror_handler\u001b[0;34m(*args, **kwargs)\u001b[0m\n\u001b[1;32m    148\u001b[0m     \u001b[0mfiltered_tb\u001b[0m \u001b[0;34m=\u001b[0m \u001b[0;32mNone\u001b[0m\u001b[0;34m\u001b[0m\u001b[0;34m\u001b[0m\u001b[0m\n\u001b[1;32m    149\u001b[0m     \u001b[0;32mtry\u001b[0m\u001b[0;34m:\u001b[0m\u001b[0;34m\u001b[0m\u001b[0;34m\u001b[0m\u001b[0m\n\u001b[0;32m--> 150\u001b[0;31m       \u001b[0;32mreturn\u001b[0m \u001b[0mfn\u001b[0m\u001b[0;34m(\u001b[0m\u001b[0;34m*\u001b[0m\u001b[0margs\u001b[0m\u001b[0;34m,\u001b[0m \u001b[0;34m**\u001b[0m\u001b[0mkwargs\u001b[0m\u001b[0;34m)\u001b[0m\u001b[0;34m\u001b[0m\u001b[0;34m\u001b[0m\u001b[0m\n\u001b[0m\u001b[1;32m    151\u001b[0m     \u001b[0;32mexcept\u001b[0m \u001b[0mException\u001b[0m \u001b[0;32mas\u001b[0m \u001b[0me\u001b[0m\u001b[0;34m:\u001b[0m\u001b[0;34m\u001b[0m\u001b[0;34m\u001b[0m\u001b[0m\n\u001b[1;32m    152\u001b[0m       \u001b[0mfiltered_tb\u001b[0m \u001b[0;34m=\u001b[0m \u001b[0m_process_traceback_frames\u001b[0m\u001b[0;34m(\u001b[0m\u001b[0me\u001b[0m\u001b[0;34m.\u001b[0m\u001b[0m__traceback__\u001b[0m\u001b[0;34m)\u001b[0m\u001b[0;34m\u001b[0m\u001b[0;34m\u001b[0m\u001b[0m\n",
            "\u001b[0;32m/usr/local/lib/python3.11/dist-packages/tensorflow/python/eager/polymorphic_function/polymorphic_function.py\u001b[0m in \u001b[0;36m__call__\u001b[0;34m(self, *args, **kwds)\u001b[0m\n\u001b[1;32m    831\u001b[0m \u001b[0;34m\u001b[0m\u001b[0m\n\u001b[1;32m    832\u001b[0m       \u001b[0;32mwith\u001b[0m \u001b[0mOptionalXlaContext\u001b[0m\u001b[0;34m(\u001b[0m\u001b[0mself\u001b[0m\u001b[0;34m.\u001b[0m\u001b[0m_jit_compile\u001b[0m\u001b[0;34m)\u001b[0m\u001b[0;34m:\u001b[0m\u001b[0;34m\u001b[0m\u001b[0;34m\u001b[0m\u001b[0m\n\u001b[0;32m--> 833\u001b[0;31m         \u001b[0mresult\u001b[0m \u001b[0;34m=\u001b[0m \u001b[0mself\u001b[0m\u001b[0;34m.\u001b[0m\u001b[0m_call\u001b[0m\u001b[0;34m(\u001b[0m\u001b[0;34m*\u001b[0m\u001b[0margs\u001b[0m\u001b[0;34m,\u001b[0m \u001b[0;34m**\u001b[0m\u001b[0mkwds\u001b[0m\u001b[0;34m)\u001b[0m\u001b[0;34m\u001b[0m\u001b[0;34m\u001b[0m\u001b[0m\n\u001b[0m\u001b[1;32m    834\u001b[0m \u001b[0;34m\u001b[0m\u001b[0m\n\u001b[1;32m    835\u001b[0m       \u001b[0mnew_tracing_count\u001b[0m \u001b[0;34m=\u001b[0m \u001b[0mself\u001b[0m\u001b[0;34m.\u001b[0m\u001b[0mexperimental_get_tracing_count\u001b[0m\u001b[0;34m(\u001b[0m\u001b[0;34m)\u001b[0m\u001b[0;34m\u001b[0m\u001b[0;34m\u001b[0m\u001b[0m\n",
            "\u001b[0;32m/usr/local/lib/python3.11/dist-packages/tensorflow/python/eager/polymorphic_function/polymorphic_function.py\u001b[0m in \u001b[0;36m_call\u001b[0;34m(self, *args, **kwds)\u001b[0m\n\u001b[1;32m    876\u001b[0m       \u001b[0;31m# In this case we have not created variables on the first call. So we can\u001b[0m\u001b[0;34m\u001b[0m\u001b[0;34m\u001b[0m\u001b[0m\n\u001b[1;32m    877\u001b[0m       \u001b[0;31m# run the first trace but we should fail if variables are created.\u001b[0m\u001b[0;34m\u001b[0m\u001b[0;34m\u001b[0m\u001b[0m\n\u001b[0;32m--> 878\u001b[0;31m       results = tracing_compilation.call_function(\n\u001b[0m\u001b[1;32m    879\u001b[0m           \u001b[0margs\u001b[0m\u001b[0;34m,\u001b[0m \u001b[0mkwds\u001b[0m\u001b[0;34m,\u001b[0m \u001b[0mself\u001b[0m\u001b[0;34m.\u001b[0m\u001b[0m_variable_creation_config\u001b[0m\u001b[0;34m\u001b[0m\u001b[0;34m\u001b[0m\u001b[0m\n\u001b[1;32m    880\u001b[0m       )\n",
            "\u001b[0;32m/usr/local/lib/python3.11/dist-packages/tensorflow/python/eager/polymorphic_function/tracing_compilation.py\u001b[0m in \u001b[0;36mcall_function\u001b[0;34m(args, kwargs, tracing_options)\u001b[0m\n\u001b[1;32m    137\u001b[0m   \u001b[0mbound_args\u001b[0m \u001b[0;34m=\u001b[0m \u001b[0mfunction\u001b[0m\u001b[0;34m.\u001b[0m\u001b[0mfunction_type\u001b[0m\u001b[0;34m.\u001b[0m\u001b[0mbind\u001b[0m\u001b[0;34m(\u001b[0m\u001b[0;34m*\u001b[0m\u001b[0margs\u001b[0m\u001b[0;34m,\u001b[0m \u001b[0;34m**\u001b[0m\u001b[0mkwargs\u001b[0m\u001b[0;34m)\u001b[0m\u001b[0;34m\u001b[0m\u001b[0;34m\u001b[0m\u001b[0m\n\u001b[1;32m    138\u001b[0m   \u001b[0mflat_inputs\u001b[0m \u001b[0;34m=\u001b[0m \u001b[0mfunction\u001b[0m\u001b[0;34m.\u001b[0m\u001b[0mfunction_type\u001b[0m\u001b[0;34m.\u001b[0m\u001b[0munpack_inputs\u001b[0m\u001b[0;34m(\u001b[0m\u001b[0mbound_args\u001b[0m\u001b[0;34m)\u001b[0m\u001b[0;34m\u001b[0m\u001b[0;34m\u001b[0m\u001b[0m\n\u001b[0;32m--> 139\u001b[0;31m   return function._call_flat(  # pylint: disable=protected-access\n\u001b[0m\u001b[1;32m    140\u001b[0m       \u001b[0mflat_inputs\u001b[0m\u001b[0;34m,\u001b[0m \u001b[0mcaptured_inputs\u001b[0m\u001b[0;34m=\u001b[0m\u001b[0mfunction\u001b[0m\u001b[0;34m.\u001b[0m\u001b[0mcaptured_inputs\u001b[0m\u001b[0;34m\u001b[0m\u001b[0;34m\u001b[0m\u001b[0m\n\u001b[1;32m    141\u001b[0m   )\n",
            "\u001b[0;32m/usr/local/lib/python3.11/dist-packages/tensorflow/python/eager/polymorphic_function/concrete_function.py\u001b[0m in \u001b[0;36m_call_flat\u001b[0;34m(self, tensor_inputs, captured_inputs)\u001b[0m\n\u001b[1;32m   1320\u001b[0m         and executing_eagerly):\n\u001b[1;32m   1321\u001b[0m       \u001b[0;31m# No tape is watching; skip to running the function.\u001b[0m\u001b[0;34m\u001b[0m\u001b[0;34m\u001b[0m\u001b[0m\n\u001b[0;32m-> 1322\u001b[0;31m       \u001b[0;32mreturn\u001b[0m \u001b[0mself\u001b[0m\u001b[0;34m.\u001b[0m\u001b[0m_inference_function\u001b[0m\u001b[0;34m.\u001b[0m\u001b[0mcall_preflattened\u001b[0m\u001b[0;34m(\u001b[0m\u001b[0margs\u001b[0m\u001b[0;34m)\u001b[0m\u001b[0;34m\u001b[0m\u001b[0;34m\u001b[0m\u001b[0m\n\u001b[0m\u001b[1;32m   1323\u001b[0m     forward_backward = self._select_forward_and_backward_functions(\n\u001b[1;32m   1324\u001b[0m         \u001b[0margs\u001b[0m\u001b[0;34m,\u001b[0m\u001b[0;34m\u001b[0m\u001b[0;34m\u001b[0m\u001b[0m\n",
            "\u001b[0;32m/usr/local/lib/python3.11/dist-packages/tensorflow/python/eager/polymorphic_function/atomic_function.py\u001b[0m in \u001b[0;36mcall_preflattened\u001b[0;34m(self, args)\u001b[0m\n\u001b[1;32m    214\u001b[0m   \u001b[0;32mdef\u001b[0m \u001b[0mcall_preflattened\u001b[0m\u001b[0;34m(\u001b[0m\u001b[0mself\u001b[0m\u001b[0;34m,\u001b[0m \u001b[0margs\u001b[0m\u001b[0;34m:\u001b[0m \u001b[0mSequence\u001b[0m\u001b[0;34m[\u001b[0m\u001b[0mcore\u001b[0m\u001b[0;34m.\u001b[0m\u001b[0mTensor\u001b[0m\u001b[0;34m]\u001b[0m\u001b[0;34m)\u001b[0m \u001b[0;34m->\u001b[0m \u001b[0mAny\u001b[0m\u001b[0;34m:\u001b[0m\u001b[0;34m\u001b[0m\u001b[0;34m\u001b[0m\u001b[0m\n\u001b[1;32m    215\u001b[0m     \u001b[0;34m\"\"\"Calls with flattened tensor inputs and returns the structured output.\"\"\"\u001b[0m\u001b[0;34m\u001b[0m\u001b[0;34m\u001b[0m\u001b[0m\n\u001b[0;32m--> 216\u001b[0;31m     \u001b[0mflat_outputs\u001b[0m \u001b[0;34m=\u001b[0m \u001b[0mself\u001b[0m\u001b[0;34m.\u001b[0m\u001b[0mcall_flat\u001b[0m\u001b[0;34m(\u001b[0m\u001b[0;34m*\u001b[0m\u001b[0margs\u001b[0m\u001b[0;34m)\u001b[0m\u001b[0;34m\u001b[0m\u001b[0;34m\u001b[0m\u001b[0m\n\u001b[0m\u001b[1;32m    217\u001b[0m     \u001b[0;32mreturn\u001b[0m \u001b[0mself\u001b[0m\u001b[0;34m.\u001b[0m\u001b[0mfunction_type\u001b[0m\u001b[0;34m.\u001b[0m\u001b[0mpack_output\u001b[0m\u001b[0;34m(\u001b[0m\u001b[0mflat_outputs\u001b[0m\u001b[0;34m)\u001b[0m\u001b[0;34m\u001b[0m\u001b[0;34m\u001b[0m\u001b[0m\n\u001b[1;32m    218\u001b[0m \u001b[0;34m\u001b[0m\u001b[0m\n",
            "\u001b[0;32m/usr/local/lib/python3.11/dist-packages/tensorflow/python/eager/polymorphic_function/atomic_function.py\u001b[0m in \u001b[0;36mcall_flat\u001b[0;34m(self, *args)\u001b[0m\n\u001b[1;32m    249\u001b[0m         \u001b[0;32mwith\u001b[0m \u001b[0mrecord\u001b[0m\u001b[0;34m.\u001b[0m\u001b[0mstop_recording\u001b[0m\u001b[0;34m(\u001b[0m\u001b[0;34m)\u001b[0m\u001b[0;34m:\u001b[0m\u001b[0;34m\u001b[0m\u001b[0;34m\u001b[0m\u001b[0m\n\u001b[1;32m    250\u001b[0m           \u001b[0;32mif\u001b[0m \u001b[0mself\u001b[0m\u001b[0;34m.\u001b[0m\u001b[0m_bound_context\u001b[0m\u001b[0;34m.\u001b[0m\u001b[0mexecuting_eagerly\u001b[0m\u001b[0;34m(\u001b[0m\u001b[0;34m)\u001b[0m\u001b[0;34m:\u001b[0m\u001b[0;34m\u001b[0m\u001b[0;34m\u001b[0m\u001b[0m\n\u001b[0;32m--> 251\u001b[0;31m             outputs = self._bound_context.call_function(\n\u001b[0m\u001b[1;32m    252\u001b[0m                 \u001b[0mself\u001b[0m\u001b[0;34m.\u001b[0m\u001b[0mname\u001b[0m\u001b[0;34m,\u001b[0m\u001b[0;34m\u001b[0m\u001b[0;34m\u001b[0m\u001b[0m\n\u001b[1;32m    253\u001b[0m                 \u001b[0mlist\u001b[0m\u001b[0;34m(\u001b[0m\u001b[0margs\u001b[0m\u001b[0;34m)\u001b[0m\u001b[0;34m,\u001b[0m\u001b[0;34m\u001b[0m\u001b[0;34m\u001b[0m\u001b[0m\n",
            "\u001b[0;32m/usr/local/lib/python3.11/dist-packages/tensorflow/python/eager/context.py\u001b[0m in \u001b[0;36mcall_function\u001b[0;34m(self, name, tensor_inputs, num_outputs)\u001b[0m\n\u001b[1;32m   1681\u001b[0m     \u001b[0mcancellation_context\u001b[0m \u001b[0;34m=\u001b[0m \u001b[0mcancellation\u001b[0m\u001b[0;34m.\u001b[0m\u001b[0mcontext\u001b[0m\u001b[0;34m(\u001b[0m\u001b[0;34m)\u001b[0m\u001b[0;34m\u001b[0m\u001b[0;34m\u001b[0m\u001b[0m\n\u001b[1;32m   1682\u001b[0m     \u001b[0;32mif\u001b[0m \u001b[0mcancellation_context\u001b[0m \u001b[0;32mis\u001b[0m \u001b[0;32mNone\u001b[0m\u001b[0;34m:\u001b[0m\u001b[0;34m\u001b[0m\u001b[0;34m\u001b[0m\u001b[0m\n\u001b[0;32m-> 1683\u001b[0;31m       outputs = execute.execute(\n\u001b[0m\u001b[1;32m   1684\u001b[0m           \u001b[0mname\u001b[0m\u001b[0;34m.\u001b[0m\u001b[0mdecode\u001b[0m\u001b[0;34m(\u001b[0m\u001b[0;34m\"utf-8\"\u001b[0m\u001b[0;34m)\u001b[0m\u001b[0;34m,\u001b[0m\u001b[0;34m\u001b[0m\u001b[0;34m\u001b[0m\u001b[0m\n\u001b[1;32m   1685\u001b[0m           \u001b[0mnum_outputs\u001b[0m\u001b[0;34m=\u001b[0m\u001b[0mnum_outputs\u001b[0m\u001b[0;34m,\u001b[0m\u001b[0;34m\u001b[0m\u001b[0;34m\u001b[0m\u001b[0m\n",
            "\u001b[0;32m/usr/local/lib/python3.11/dist-packages/tensorflow/python/eager/execute.py\u001b[0m in \u001b[0;36mquick_execute\u001b[0;34m(op_name, num_outputs, inputs, attrs, ctx, name)\u001b[0m\n\u001b[1;32m     51\u001b[0m   \u001b[0;32mtry\u001b[0m\u001b[0;34m:\u001b[0m\u001b[0;34m\u001b[0m\u001b[0;34m\u001b[0m\u001b[0m\n\u001b[1;32m     52\u001b[0m     \u001b[0mctx\u001b[0m\u001b[0;34m.\u001b[0m\u001b[0mensure_initialized\u001b[0m\u001b[0;34m(\u001b[0m\u001b[0;34m)\u001b[0m\u001b[0;34m\u001b[0m\u001b[0;34m\u001b[0m\u001b[0m\n\u001b[0;32m---> 53\u001b[0;31m     tensors = pywrap_tfe.TFE_Py_Execute(ctx._handle, device_name, op_name,\n\u001b[0m\u001b[1;32m     54\u001b[0m                                         inputs, attrs, num_outputs)\n\u001b[1;32m     55\u001b[0m   \u001b[0;32mexcept\u001b[0m \u001b[0mcore\u001b[0m\u001b[0;34m.\u001b[0m\u001b[0m_NotOkStatusException\u001b[0m \u001b[0;32mas\u001b[0m \u001b[0me\u001b[0m\u001b[0;34m:\u001b[0m\u001b[0;34m\u001b[0m\u001b[0;34m\u001b[0m\u001b[0m\n",
            "\u001b[0;31mKeyboardInterrupt\u001b[0m: "
          ]
        }
      ]
    },
    {
      "cell_type": "markdown",
      "metadata": {
        "id": "dDvawMacc0l5"
      },
      "source": [
        "# Inference decoder model"
      ]
    },
    {
      "cell_type": "code",
      "execution_count": null,
      "metadata": {
        "id": "rneVZz_Lczjb"
      },
      "outputs": [],
      "source": [
        "# while training to make it faster we used , teacher forcing,\n",
        "# but during prediction it cant be used ,so we need a way to give output of encoder to\n",
        "# input to other"
      ]
    },
    {
      "cell_type": "code",
      "execution_count": null,
      "metadata": {
        "id": "RXvd-VCVdChO"
      },
      "outputs": [],
      "source": [
        "# Inference Models\n"
      ]
    },
    {
      "cell_type": "code",
      "execution_count": null,
      "metadata": {
        "id": "G3XLVGhQdJAG"
      },
      "outputs": [],
      "source": [
        "# Encode the input sequence to get the feature vector\n",
        "\n",
        "encoder_model=Model(inputs=encoder_input,outputs=[encoder_outputs,state_h ,state_c])\n",
        "# taking these from our model ,that is initialized above\n",
        "\n",
        "#Decoder Setup\n",
        "\n",
        "#below tensors will hold the states of previous time step\n",
        "\n",
        "decoder_state_input_h= Input(shape=(config[\"latent_dim\"],))\n",
        "decoder_state_input_c=Input(shape=(config[\"latent_dim\"],))\n",
        "decoder_hidden_state_input=Input(shape=(config[\"max_text_len\"],config[\"latent_dim\"]))\n",
        "\n",
        "#get the embedding of the decoder sequence\n",
        "\n",
        "dec_emb2=decoder_embedding_layer(decoder_inputs)\n",
        "\n",
        "#topredict the output ,set the initial states form previous time step\n",
        "(decoder_outputs2,state_h2,state_c2)=decoder_lstm(dec_emb2,initial_state=[decoder_state_input_h,decoder_state_input_c])\n",
        "\n",
        "# a dense softmax layer to generate probe over the target vocab\n",
        "decoder_outputs2=decoder_dense(decoder_outputs2)\n",
        "\n",
        "\n",
        "# Final decoder model\n",
        "decoder_model = Model([decoder_inputs] + [decoder_hidden_state_input,\n",
        "                      decoder_state_input_h, decoder_state_input_c],\n",
        "                      [decoder_outputs2] + [state_h2, state_c2])\n",
        "\n"
      ]
    },
    {
      "cell_type": "code",
      "execution_count": null,
      "metadata": {
        "id": "Psu0sT30kyD-"
      },
      "outputs": [],
      "source": [
        "#The inference architecture is designed to iteratively generate each word\n",
        "# of the output sequence, using the model’s own predictions\n",
        "#  as the input for subsequent steps."
      ]
    },
    {
      "cell_type": "code",
      "execution_count": null,
      "metadata": {
        "id": "6To1m26QmcpZ"
      },
      "outputs": [],
      "source": [
        "#decoder sequence :\n",
        "#function used to generate a sequence ,from input sequenece using encoder -decoder model with lstm"
      ]
    },
    {
      "cell_type": "markdown",
      "source": [
        "Creating a decoder sequence\n",
        "\n",
        "This function is used to generate a sequence (typically a summary or translation) from an input sequence using an encoder-decoder model with an LSTM architecture."
      ],
      "metadata": {
        "id": "tSuyTSW-HbSf"
      }
    },
    {
      "cell_type": "code",
      "source": [
        "reverse_source_word_index = x_tokenizer.index_word # dict of wors and integers, maps integers to words\n",
        "reverse_target_word_index = y_tokenizer.index_word\n",
        "target_word_index = y_tokenizer.word_index# maps word to integers"
      ],
      "metadata": {
        "id": "nnMUPelKJ3YH"
      },
      "execution_count": null,
      "outputs": []
    },
    {
      "cell_type": "markdown",
      "source": [
        "Converting an input sequence (like a news article) into an output summary using the trained encoder-decoder model.\n",
        "\n"
      ],
      "metadata": {
        "id": "0M9C0PpAKUr0"
      }
    },
    {
      "cell_type": "code",
      "source": [
        "def decoder_sequence(input_seq):\n",
        "  (e_out,e_h,e_c)=encoder_model.predict(input_seq)\n",
        "  #generate empty target sequence of length 1\n",
        "  target_seq=np.zeros((1,1))\n",
        "\n",
        "  # populate first word of target sequence with start word\n",
        "  target_seq[0,0]=target_word_index['sostok']\n",
        "  \"\"\"\n",
        "    The first element of target_seq is set to the integer index corresponding to\n",
        "    the start token (sostok), which signals the start of the target sequence.\n",
        "  \"\"\"\n",
        "\n",
        "  stop_condition=False\n",
        "  # we will store the decoded word here :\n",
        "  decoded_sentence=''\n",
        "  while not stop_condition:\n",
        "    (output_token,h,c)=decoder_model.predict([target_seq]+ [e_out,e_h,e_c],verbose=0)\n",
        "\n",
        "    #sample a token\n",
        "    sampled_token_index=np.argmax(output_token[0,-1,:]) #choose highly probablistic integer\n",
        "    sampled_token=reverse_target_word_index[sampled_token_index]# convert to word\n",
        "    if sampled_token != 'eostok':\n",
        "      decoded_sentence += ' ' + sampled_token\n",
        "\n",
        "    if sampled_token == 'eostok' or len(decoded_sentence.split()) >= (config['max_summary_len'] - 1):\n",
        "        stop_condition = True\n",
        "\n",
        "    # update the target sequence\n",
        "\n",
        "    target_seq=np.zeros((1,1))\n",
        "    target_seq[0,0]=sampled_token_index\n",
        "\n",
        "    #update internal states\n",
        "    (e_h,e_c)=(h,c)\n",
        "  return decoded_sentence\n"
      ],
      "metadata": {
        "id": "7SQFbolhIN0y"
      },
      "execution_count": null,
      "outputs": []
    },
    {
      "cell_type": "markdown",
      "source": [
        "# Conversion Seq2text  and vice versa"
      ],
      "metadata": {
        "id": "gBPF-b2xPYjT"
      }
    },
    {
      "cell_type": "code",
      "source": [
        "def seq2text(input_seq):\n",
        "    new_string = ''\n",
        "    for i in input_seq:\n",
        "        if i != 0:\n",
        "            new_string += reverse_source_word_index.get(i, '') + ' '\n",
        "    return new_string.strip()\n"
      ],
      "metadata": {
        "id": "RG2HwLOaPXWe"
      },
      "execution_count": null,
      "outputs": []
    },
    {
      "cell_type": "code",
      "source": [
        "def text2seq(text, tokenizer, max_len=60):\n",
        "    seq = tokenizer.texts_to_sequences([text])\n",
        "    padded_seq = pad_sequences(seq, maxlen=max_len, padding='post')  # shape: (1, max_len)\n",
        "    return padded_seq\n"
      ],
      "metadata": {
        "id": "_C6KA5ZaPxbr"
      },
      "execution_count": null,
      "outputs": []
    },
    {
      "cell_type": "code",
      "source": [
        "def seq2summary(input_seq):\n",
        "    newString = ''\n",
        "    for i in input_seq:\n",
        "        if (i != 0) and (i != target_word_index['sostok']) and (i != target_word_index['eostok']):\n",
        "            newString = newString + reverse_target_word_index[i] + ' '\n",
        "\n",
        "    return newString"
      ],
      "metadata": {
        "id": "NbC8IfwuXQoR"
      },
      "execution_count": null,
      "outputs": []
    },
    {
      "cell_type": "markdown",
      "source": [
        "# Prediction"
      ],
      "metadata": {
        "id": "_CuxWiVkQJmP"
      }
    },
    {
      "cell_type": "code",
      "source": [
        "x_train_padded[0]"
      ],
      "metadata": {
        "id": "d8gM6sXDfN8n"
      },
      "execution_count": null,
      "outputs": []
    },
    {
      "cell_type": "code",
      "source": [
        "actual_summary =[]\n",
        "predicted_summary=[]\n",
        "\n",
        "for i in range(0,5):\n",
        "  print(\"Complete Text : \",seq2text(x_train_padded[i]))\n",
        "\n",
        "  actual_summary.append(seq2summary(y_padded_train[i]))\n",
        "  predicted_summary.append(decoder_sequence(x_train_padded[i].reshape(1,config['max_text_len'])))\n",
        "  print ('Predicted summary:', predicted_summary[-1])\n",
        "  print()\n",
        "prediction_df = pd.DataFrame({\n",
        "    'Actual': actual_summary,\n",
        "    'Predicted': predicted_summary\n",
        "})"
      ],
      "metadata": {
        "id": "K_jVVdeiQJXY"
      },
      "execution_count": null,
      "outputs": []
    },
    {
      "cell_type": "code",
      "source": [
        "# uh pretty bad summarizations"
      ],
      "metadata": {
        "id": "gW-9BoSCR7sr"
      },
      "execution_count": null,
      "outputs": []
    },
    {
      "cell_type": "code",
      "source": [
        "def summarise(text):\n",
        "  input_seq=text2seq(text,x_tokenizer)\n",
        "  pred=decoder_sequence(input_seq) #not just x_tokenizer but y_too\n",
        "  print(\"Text : \",text ,\"\\n Predicted Summary : \",pred)\n"
      ],
      "metadata": {
        "id": "YgmdYca-P9Ko"
      },
      "execution_count": null,
      "outputs": []
    },
    {
      "cell_type": "code",
      "source": [
        "# text=input(\"enter :\")\n",
        "# summarise(text)"
      ],
      "metadata": {
        "id": "lvE8Y-KRdpMr"
      },
      "execution_count": null,
      "outputs": []
    },
    {
      "cell_type": "code",
      "source": [
        "# can improve by\n",
        "# -more layers of lstm\n",
        "# -attention layer\n",
        "# - more epochs\n"
      ],
      "metadata": {
        "id": "ELd_AmB3foxz"
      },
      "execution_count": null,
      "outputs": []
    },
    {
      "cell_type": "code",
      "source": [],
      "metadata": {
        "id": "jhzMrIlPhuCL"
      },
      "execution_count": null,
      "outputs": []
    }
  ],
  "metadata": {
    "accelerator": "GPU",
    "colab": {
      "gpuType": "T4",
      "provenance": []
    },
    "kernelspec": {
      "display_name": "Python 3",
      "name": "python3"
    },
    "language_info": {
      "name": "python"
    }
  },
  "nbformat": 4,
  "nbformat_minor": 0
}